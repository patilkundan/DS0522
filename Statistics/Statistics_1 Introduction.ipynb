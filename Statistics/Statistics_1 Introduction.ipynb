{
 "cells": [
  {
   "cell_type": "markdown",
   "id": "7a4c90b9",
   "metadata": {},
   "source": [
    "<font face = \"Verdana\" size = \"\"> <h1> Introduction to Statistics</h1> </font> <br> \n",
    "\n",
    "<font face = \"Verdana\" size = \"4\"> <h2 style=\"color: red;\">   What are the Types of Statistics ? </h2>  <br>\n",
    " <font face = \"Verdana\" size = \"3\">                       <ol>\n",
    " <font face = \"Verdana\" size = \"3\">                           <li>Descriptive</li>\n",
    " <font face = \"Verdana\" size = \"3\">                           <li>Inferential</li>\n",
    "                        </ol>"
   ]
  },
  {
   "cell_type": "markdown",
   "id": "931e8748",
   "metadata": {},
   "source": [
    "<font face = \"Verdana\" size = \"4\"> <h2 style=\"color: red;\">  What is Descriptive Statistics ? </h2>\n"
   ]
  },
  {
   "cell_type": "markdown",
   "id": "b667aee7",
   "metadata": {},
   "source": [
    "<font face = \"Verdana\" size = \"3\">\n",
    " <p><i>Lets understand this with a example,</i></p>\n",
    "            <p>Imagine a  <b>\"Primary School.\" </b>\n",
    "            <p>Mrs. Patel is a math teacher at Primary School. She recently gave her class of 30 students a math test. She wants to learn more about how the students performed, so she decides to use descriptive statistics.</p>\n",
    "            <ul>\n",
    "                <li><strong>Mean:</strong> The mean score on the test was 80%. This means that, on average, the students scored 80% correct.</li>\n",
    "                <li><strong>Median:</strong> The median score on the test was 85%. This means that half of the students scored 85% or higher, and half of the students scored lower than 85%.</li>\n",
    "                <li><strong>Mode:</strong> The mode score on the test was 90%. This means that more students scored 90% than any other score.</li>\n",
    "                <li><strong>Range:</strong> The range of scores on the test was 50%. This means that the lowest score was 30% and the highest score was 80%.</li>\n",
    "            </ul>\n",
    "            <p>Mrs. Patel can use these descriptive statistics to tell a story about how her students performed on the math test. She can see that the average student scored 80% correct, which is a good score. However, she can also see that there is a range of scores, from 30% to 80%. This means that some students did very well on the test, while others struggled.</p><p>Mrs. Patel can use this information to make decisions about her teaching. For example, she might decide to give her students more practice on the concepts that they struggled with. She might also decide to differentiate her instruction so that all students can reach their full potential.</p><p>By using descriptive statistics, Mrs. Patel can gain a better understanding of how her students performed on the math test. This information can help her to make better decisions about her teaching and to help her students succeed.</p>\n",
    "            <blockquote><i>So, descriptive statistics it's like telling a story about the data that can help us make informed decisions and understand  better. </i></blockquote>\n",
    "            <p><strong> Get a better understanding of descriptive statistics, you can read the following points</strong></p>\n",
    "            <ol>\n",
    "                <li>Descriptive statistics is a field of statistics that summarizes and describes data.</li>\n",
    "                <li>If data can be described without any statistical tools then it is called descriptive statistics</li>\n",
    "                <li>To provide basic information about variables in a dataset and to highlight potential relationships between variables</li>\n",
    "                <li>It is used to understand the data and to make inferences about the population from which the data was collected.</li>\n",
    "                <li>Descriptive statistics can be used to describe the central tendency, dispersion, and shape of a data set.</li>\n",
    "                <li>Some of the most common descriptive statistics include:\n",
    "                <ul>\n",
    "                <li><strong>Mean:</strong> The average of a data set.</li>\n",
    "                <li><strong>Median:</strong> The middle value of a data set.</li>\n",
    "                <li><strong>Mode:</strong> The most frequent value in a data set.</li>\n",
    "                <li><strong>Range:</strong> The difference between the largest and smallest values in a data set.</li>\n",
    "                <li><strong>Variance:</strong> A measure of how spread out the data is.</li>\n",
    "                <li><strong>Standard deviation:</strong> A measure of how much variation there is from the mean.</li>\n",
    "                </ul>\n",
    "                </li>\n",
    "                <li>Descriptive statistics can be used to create graphs and charts to visualize the data.</li>\n",
    "                <li>Descriptive statistics can be used to compare different data sets.</li>\n",
    "                <li>Descriptive statistics can be used to make predictions about future data.</li>         \n",
    "            </ol>\n",
    "<img src=\"https://media.geeksforgeeks.org/wp-content/uploads/20220831160946/Descriptivestatistics.jpg\" class=\"img-fluid\" >"
   ]
  },
  {
   "cell_type": "code",
   "execution_count": 1,
   "id": "6f5d2125",
   "metadata": {},
   "outputs": [
    {
     "name": "stdout",
     "output_type": "stream",
     "text": [
      "36.666666666666664\n"
     ]
    }
   ],
   "source": [
    "import numpy as np\n",
    "x = [20,34,56]\n",
    "avg= np.mean(x)\n",
    "print (avg)"
   ]
  },
  {
   "cell_type": "code",
   "execution_count": 2,
   "id": "25e693e6",
   "metadata": {},
   "outputs": [
    {
     "data": {
      "text/plain": [
       "219.55555555555557"
      ]
     },
     "execution_count": 2,
     "metadata": {},
     "output_type": "execute_result"
    }
   ],
   "source": [
    "np.sum((np.square (20 -avg) + np.square (34- avg)+ np.square (56-avg))/3)"
   ]
  },
  {
   "cell_type": "code",
   "execution_count": 3,
   "id": "185aabe9",
   "metadata": {},
   "outputs": [
    {
     "name": "stdout",
     "output_type": "stream",
     "text": [
      "Variance - 219.55555555555557\n",
      "Std. Dv- 14.817407180595247\n"
     ]
    }
   ],
   "source": [
    "import numpy as np\n",
    "# Variance = Means of squared deviations (below)\n",
    "print ('Variance -', np.var(x))\n",
    "#std = sqrt of variance\n",
    "print ('Std. Dv-', np.std (x))"
   ]
  },
  {
   "cell_type": "code",
   "execution_count": 4,
   "id": "540fdb1c",
   "metadata": {},
   "outputs": [
    {
     "data": {
      "text/html": [
       "<div>\n",
       "<style scoped>\n",
       "    .dataframe tbody tr th:only-of-type {\n",
       "        vertical-align: middle;\n",
       "    }\n",
       "\n",
       "    .dataframe tbody tr th {\n",
       "        vertical-align: top;\n",
       "    }\n",
       "\n",
       "    .dataframe thead th {\n",
       "        text-align: right;\n",
       "    }\n",
       "</style>\n",
       "<table border=\"1\" class=\"dataframe\">\n",
       "  <thead>\n",
       "    <tr style=\"text-align: right;\">\n",
       "      <th></th>\n",
       "      <th>0</th>\n",
       "    </tr>\n",
       "  </thead>\n",
       "  <tbody>\n",
       "    <tr>\n",
       "      <th>count</th>\n",
       "      <td>8.000000</td>\n",
       "    </tr>\n",
       "    <tr>\n",
       "      <th>mean</th>\n",
       "      <td>45.000000</td>\n",
       "    </tr>\n",
       "    <tr>\n",
       "      <th>std</th>\n",
       "      <td>24.494897</td>\n",
       "    </tr>\n",
       "    <tr>\n",
       "      <th>min</th>\n",
       "      <td>10.000000</td>\n",
       "    </tr>\n",
       "    <tr>\n",
       "      <th>25%</th>\n",
       "      <td>27.500000</td>\n",
       "    </tr>\n",
       "    <tr>\n",
       "      <th>50%</th>\n",
       "      <td>45.000000</td>\n",
       "    </tr>\n",
       "    <tr>\n",
       "      <th>75%</th>\n",
       "      <td>62.500000</td>\n",
       "    </tr>\n",
       "    <tr>\n",
       "      <th>max</th>\n",
       "      <td>80.000000</td>\n",
       "    </tr>\n",
       "  </tbody>\n",
       "</table>\n",
       "</div>"
      ],
      "text/plain": [
       "               0\n",
       "count   8.000000\n",
       "mean   45.000000\n",
       "std    24.494897\n",
       "min    10.000000\n",
       "25%    27.500000\n",
       "50%    45.000000\n",
       "75%    62.500000\n",
       "max    80.000000"
      ]
     },
     "execution_count": 4,
     "metadata": {},
     "output_type": "execute_result"
    }
   ],
   "source": [
    "import pandas as pd\n",
    "#Quantiles\n",
    "y = [10,20,30,40,50,60,70,80]\n",
    "y_ = pd. DataFrame (y)\n",
    "y_.describe() # describe methods shows all statistics informantion "
   ]
  },
  {
   "cell_type": "markdown",
   "id": "61f6326a",
   "metadata": {},
   "source": [
    "<font face = \"Verdana\" size = \"4\"> <h2 style=\"color: red;\"> What is What is inferential statistics ? </h2>   \n"
   ]
  },
  {
   "cell_type": "markdown",
   "id": "58f502fa",
   "metadata": {},
   "source": [
    " <font face = \"Verdana\" size = \"3\">                  <p><i>Inferential statistics can be understood by taking the example of election exit polls.</i></p>\n",
    "            <p>Imagine an Indian state, such as Karnataka. The media conducts exit polls to predict the outcome of the election. In this case, \n",
    "            the <strong>sample</strong> is the results of the exit poll, and the <strong>population</strong> is the entire electorate of Karnataka.</p>\n",
    "            <p>The media collects the sample by surveying a small number of voters in different cities across the state. The results of the survey are then used to estimate the voting preferences of the entire population. \n",
    "            This is an example of inferential statistics, because the media is using the sample to make inferences about the population.</p>\n",
    "            <p>In other words, the media is collecting a small amount of data (the sample) to represent the entire population. This is a powerful tool that can be used to make predictions about large groups of people.</p>\n",
    "            <blockquote><i><p>Sampling data and inferring the results to describe the entire population it is called as Inferential Statistics .</p></i></blockquote>\n",
    "            <br>\n",
    "<div class=\"row\">\n",
    "    <div class=\"col-12 effect\">\n",
    "                    \n",
    " <img src=\"https://media.geeksforgeeks.org/wp-content/uploads/20200820174305/newpop.png\" class=\"img-fluid\" >\n",
    "                 \n",
    "</div>\n",
    "</div>\n",
    "<br>\n"
   ]
  },
  {
   "cell_type": "markdown",
   "id": "cf6993d8",
   "metadata": {},
   "source": [
    "<font face = \"Verdana\" size = \"4\"> <h2 style=\"color: red;\"> Analytics Methodology and how industry use statistics</h2> <br> </font>\n"
   ]
  },
  {
   "cell_type": "markdown",
   "id": "53006192",
   "metadata": {},
   "source": [
    "<font face = \"Verdana\" size = \"3\">\n",
    "        1. Weather forecasting<br>\n",
    "        2. Giving Insurance<br>\n",
    "        3. Stock market<br>\n",
    "        4. Drug effectiveness before releasing to the public<br>\n",
    "        5. Diseased survival probability<br>\n",
    "        6. Election winning and Exit poll prediction<br>\n",
    "        7. Loan approval and fraud detection<br>\n",
    "        8. Netflix/Amazon recommendation.<br>\n",
    "        9. New Campaign effectiveness.<br>"
   ]
  },
  {
   "cell_type": "markdown",
   "id": "5e9a064a",
   "metadata": {},
   "source": [
    "<font face = \"Verdana\" size = \"4\"> <h2 style=\"color: red;\">4. Types of parameter in statistics"
   ]
  },
  {
   "cell_type": "markdown",
   "id": "ab2e5346",
   "metadata": {},
   "source": [
    "<font face = \"Verdana\" size = \"3\">   <div class=\"container-fluid box bagcol\">\n",
    "        <div class=\"container answer\">\n",
    "            <!-- All answers here -->\n",
    "            <ol>\n",
    "                <li>  Mean | Average  </li>\n",
    "                <li>  Mode</li>\n",
    "                <li>  Median</li>\n",
    "                <li>  Min </li>\n",
    "                <li>  Max</li>\n",
    "                <li>  Range</li>\n",
    "                <li>  Outliers</li>\n",
    "                <li>  IQR</li>\n",
    "                <li>  Variance </li>\n",
    "                <li>  Standard deviation </li>\n",
    "                <li>  Covariance </li>\n",
    "                <li>  Correlation </li>                \n",
    "            </ol>\n",
    "        </div>\n",
    "    </div>"
   ]
  },
  {
   "cell_type": "markdown",
   "id": "8bb459ae",
   "metadata": {},
   "source": [
    "<font face = \"Verdana\" size = \"4\"> <h2 style=\"color: red;\">Mean | Average "
   ]
  },
  {
   "cell_type": "markdown",
   "id": "1e562a3b",
   "metadata": {},
   "source": [
    "<font face = \"Verdana\" size = \"3\"><div class=\"container-fluid box bagcol\">\n",
    "<div class=\"container answer\">\n",
    "            <!-- All answers here -->\n",
    "<font face = \"Verdana\" size = \"3\"><div class=\"row\">\n",
    "<p>To find the mean, you need to do two things. First, add all the numbers together. Second, divide the total by how many numbers there are. The mean is the answer you get.</p>\n",
    "<p> For example, if you have the numbers 2, 4, 6, 8, and 10,  To find the mean, you would add all \n",
    " the numbers together (2 + 4 + 8 + 8 + 10 = 30) and then divide by the number of numbers (5). 30 / 5 = 6, so the mean is 6 .\n",
    " </p>\n",
    "<img src=\"https://raw.githubusercontent.com/patilkundan/images/main/mean.png\"  width=\"550\" height=\"200\">                \n",
    "<div class=\"perseus-block-math-inner\" style=\"overflow-x:auto;overflow-y:hidden;padding-top:10px;padding-bottom:10px;margin-top:-10px;margin-bottom:-10px\"><span class=\"\"><span class=\"MathJax\" id=\"MathJax-Element-1-Frame\" role=\"textbox\" aria-readonly=\"true\" style=\"\"><nobr><span class=\"math\" id=\"MathJax-Span-1\"><span style=\"display: inline-block; position: relative; width: 258px; height: 0px; font-size: 117%;\"><span style=\"position: absolute; clip: rect(27.7px, 23400px, 86.6px, -9px); top: -63px; left: 0px;\"><span class=\"mrow\" id=\"MathJax-Span-2\"><span class=\"mtext\" id=\"MathJax-Span-3\" style=\"font-family: MathJax_Main;\">mean</span><span class=\"mo\" id=\"MathJax-Span-4\" style=\"font-family: MathJax_Main; padding-left: 6.5px;\">=</span><span class=\"mstyle\" id=\"MathJax-Span-5\" style=\"padding-left: 6.5px;\"><span class=\"mrow\" id=\"MathJax-Span-6\"><span class=\"mfrac\" id=\"MathJax-Span-7\" style=\"padding-left: 2.8px; padding-right: 2.8px;\"><span style=\"display: inline-block; position: relative; width: 166.8px; height: 0px;\"><span style=\"position: absolute; clip: rect(43.5px, 23400px, 66.3px, -9px); top: -78.8px; left: 50%; margin-left: -59px;\"><span class=\"mtext\" id=\"MathJax-Span-8\" style=\"font-family: MathJax_Main;\">sum of data</span><span style=\"display: inline-block; width: 0px; height: 63px;\"></span></span><span style=\"position: absolute; clip: rect(43.5px, 23400px, 70.5px, -9px); top: -46.9px; left: 50%; margin-left: -82px;\"><span class=\"mtext\" id=\"MathJax-Span-9\" style=\"font-family: MathJax_Main;\"># of data points</span><span style=\"display: inline-block; width: 0px; height: 63px;\"></span></span><span style=\"position: absolute; clip: rect(20.6px, 23400px, 28px, -9px); top: -30.1px; left: 0px;\"><span style=\"border-left: 166.8px solid; display: inline-block; overflow: hidden; width: 0px; height: 1.4px; vertical-align: 0px;\"></span><span style=\"display: inline-block; width: 0px; height: 25px;\"></span></span></span></span></span></span></span><span style=\"display: inline-block; width: 0px; height: 63px;\"></span></span></span><span style=\"border-left: 0px solid; display: inline-block; overflow: hidden; width: 0px; height: 54.9px; vertical-align: -21.6px;\"></span></span></nobr></span><script type=\"math/tex\" id=\"MathJax-Element-1\">\\text{mean}=\\dfrac{\\text{sum of data}}{\\text{# of data points}}</script></span> <p><strong><br>x̄=∑ x/n</strong></p></div>\n",
    "<hr>\n",
    "<p><strong> Lets have another example:</strong></p>\n",
    "<p>In a class there are 20 students and they have secured a percentage of 88, 82, 88, 85, 84, 80, 81, 82, 83, 85, 84, 74, 75, 76, 89, 90, 89, 80, 82, and 83.</p>\n",
    "<p>Find the <span style=\"font-weight: 400;\">mean percentage</span> obtained by the class.</p>\n",
    "<p><strong>Solution:</strong></p>\n",
    "<p>Mean = Total of percentage obtained by 20 students in class/Total number of students</p>\n",
    "<p>= [88 + 82 + 88 + 85 + 84 + 80 + 81 + 82 + 83 + 85 + 84 + 74 + 75 + 76 + 89 + 90 + 89 + 80 + 82 + 83]/20</p>\n",
    "<p>= 1660/20</p>\n",
    "<p>= 83</p>\n",
    "<p>Hence,  mean percentage of each</span> student in the class is 83%.<br> </div>\n",
    "<hr>\n",
    "<p><strong> One more example:</strong></p>\n",
    "<p>You and your friends have just measured the heights of your dogs (in millimeters):</p>\n",
    "<p>The heights (at the shoulders) are: 600mm, 470mm, 170mm, 430mm and 300mm.</p>\n",
    " <p> So what is avg height of dog.? </p>\n",
    "<tbody><tr>\n",
    "\t\t\t<td><span class=\"larger\">Mean</span></td>\n",
    "\t\t\t<td style=\"text-align:center; width:40px;\"><span class=\"larger\">=</span></td>\n",
    "\t\t\t<td class=\"larger\"><span class=\"intbl\"><em>(600 + 470 + 170 + 430 + 300)</em><strong>/5</strong></span></td>\n",
    "\t\t</tr>\n",
    "\t\t<tr>\n",
    "\t\t\t<td>&nbsp;</td>\n",
    "\t\t\t<td style=\"text-align:center; width:40px;\"><span class=\"larger\">=</span></td>\n",
    "\t\t\t<td class=\"larger\"><span class=\"intbl\"><em>1970</em><strong>/5</strong></span></td>\n",
    "\t\t</tr>\n",
    "\t\t<tr>\n",
    "\t\t\t<td>&nbsp;</td>\n",
    "\t\t\t<td style=\"text-align:center; width:40px;\"><span class=\"larger\">=</span></td>\n",
    "\t\t\t<td class=\"larger\">394</td>\n",
    "\t\t</tr>\n",
    "\t</tbody>\n",
    "    <p>so the mean (average) height is 394 mm. Let's plot this on the chart:</p>\n",
    "<img src=\"https://raw.githubusercontent.com/patilkundan/images/main/statistics-dogs-graph.gif\"  width=\"550\" height=\"200\">\n",
    "<img src=\"https://raw.githubusercontent.com/patilkundan/images/main/statistics-dogs-mean.gif\"  width=\"550\" height=\"200\">\n",
    "\n",
    "\n",
    "   "
   ]
  },
  {
   "cell_type": "code",
   "execution_count": 5,
   "id": "c99b422f",
   "metadata": {},
   "outputs": [
    {
     "name": "stdout",
     "output_type": "stream",
     "text": [
      "83\n"
     ]
    }
   ],
   "source": [
    "# Mean (using Stat module)\n",
    "import statistics as st\n",
    "x = [88, 82, 88, 85, 84, 80, 81, 82, 83, 85, 84, 74, 75, 76, 89, 90, 89, 80, 82,83]\n",
    "print (st.mean(x))\n",
    "# using Pandas\n",
    "#import pandas as pd\n",
    "#x__= pd. DataFrame (x)\n",
    "#print (x_.mean())"
   ]
  },
  {
   "cell_type": "markdown",
   "id": "ff6e27ce",
   "metadata": {},
   "source": [
    "<font face = \"Verdana\" size = \"4\"> <h2 style=\"color: red;\"> Mode</h2>"
   ]
  },
  {
   "cell_type": "markdown",
   "id": "0fab496f",
   "metadata": {},
   "source": [
    "<font face = \"Verdana\" size = \"3\">    <div class=\"container-fluid box bagcol\">\n",
    "    <div class=\"container answer\">\n",
    "            <!-- All answers here -->\n",
    "  <div class=\"row\">\n",
    "  <p>The Mode is the value that occurs most often : Also called frequency</p>\n",
    "  <p>What is the mode of [2, 2, 2, ,3 ,<mark><strong> 5 , 5 , 5 , 5,</strong></mark> 7, 7] ? \n",
    "                    The number which is repeated most number of times is called mode.<br>\n",
    "                    Here the number 5 is repeated most number of times so mode is 5.\n",
    "                </p>\n",
    "                <p>But Mode can be tricky, there can sometimes be more than one Mode.</p>\n",
    "                <p>Example: What is the Mode of 3, 4, 4, 5, 6, 6, 7</p>\n",
    "\t\t\t\t<p>Well ...  4 occurs twice but 6 <b>also</b> occurs twice.</p>\n",
    "\t\t\t\t<p>So <b>both 4 and 6</b> are modes.</p>\n",
    "                <p>When there are two modes it is called \"bimodal\", when there are three or more modes we call it \"multimodal\".</p>\n",
    "                <p>When there are two modes it is called \"bimodal\", when there are three or more modes we call it \"multimodal\".</p>\n",
    "                    \n",
    "  </div>\n",
    "\n",
    " </div>\n",
    "    "
   ]
  },
  {
   "cell_type": "code",
   "execution_count": 9,
   "id": "17d81369",
   "metadata": {},
   "outputs": [
    {
     "data": {
      "text/plain": [
       "82"
      ]
     },
     "execution_count": 9,
     "metadata": {},
     "output_type": "execute_result"
    }
   ],
   "source": [
    "# Mode: using Stat module \n",
    "st.mode(x)"
   ]
  },
  {
   "cell_type": "markdown",
   "id": "3c813d81",
   "metadata": {},
   "source": [
    "<font face = \"Verdana\" size = \"4\"> <h2 style=\"color: red;\"> Median</h2>"
   ]
  },
  {
   "cell_type": "markdown",
   "id": "861412a9",
   "metadata": {},
   "source": [
    "<font face = \"Verdana\" size = \"3\">            \n",
    " <div class=\"container answer\">\n",
    "                <!-- All answers here -->\n",
    " <div class=\"row\">\n",
    " <p>Median is nothing but a <mark>Center Data</mark></p>\n",
    " <p>Generally median represents the mid-value of the given set of data when arranged in a particular order</p>\n",
    " <p>Consider the following set of ages: 20, 22, 23, 23, 25, 26, 27, 28, 28, 29.</p>\n",
    " <p>If we arrange these ages in ascending order, we get:</p>\n",
    " <p>[20, 22, 23, 23, 25, <mark>26</mark>, 27, 28, 28, 29]</p>\n",
    " <p>The median age is 26. This is because there are 5 ages higher than 26 and 5 ages lower than 26.</p>\n",
    " <p><i>if data set is odd</i> : consider the following set of ages: 20, 22, 23, 23, 25, 26, 26, 28, 28, 30.</p>\n",
    " <p>If we arrange these ages in ascending order, we get:</p>\n",
    " <p>[20, 22, 23, 23, <mark>25, 26,</mark> 26, 28, 28, 29]</p>\n",
    " <p>There are two numbers in the middle : So we average them : (25+26)/2=25.5</p>\n",
    " <p>The Median is 25.5</p>\n",
    " <img src=\"https://raw.githubusercontent.com/patilkundan/images/main/median.png\"  width=\"550\" height=\"200\">\n",
    " <hr>\n",
    "\n",
    " <blockquote><i><p>why mean, mode, and median are used : To describe the central tendency of a data set</i></blockquote>                                     \n",
    "</div>\n",
    "</div>"
   ]
  },
  {
   "cell_type": "code",
   "execution_count": 10,
   "id": "e6afb882",
   "metadata": {},
   "outputs": [
    {
     "name": "stdout",
     "output_type": "stream",
     "text": [
      "83.0\n"
     ]
    }
   ],
   "source": [
    "# Median using Stat module \n",
    "print (st.median(x))"
   ]
  },
  {
   "cell_type": "markdown",
   "id": "dd0b56f5",
   "metadata": {},
   "source": [
    "<font face = \"Verdana\" size = \"4\"> <h2 style=\"color: red;\"> Min, Max & Range\n",
    "        "
   ]
  },
  {
   "cell_type": "markdown",
   "id": "3f25b2c8",
   "metadata": {},
   "source": [
    "<font face = \"Verdana\" size = \"3\"><div class=\"container answer\">\n",
    "<font face = \"Verdana\" size = \"3\"><font face = \"Verdana\" size = \"3\"><div class=\"row\">\n",
    "<font face = \"Verdana\" size = \"3\"><div class=\"col-6\">\n",
    "<font face = \"Verdana\" size = \"3\"><p>Minimum :</p>\n",
    "<font face = \"Verdana\" size = \"3\"><p>It is very straightforward The <b>smallest value</b> is called Min </p>\n",
    "<font face = \"Verdana\" size = \"3\"><p>The minimum of {14, 4, 16, 12} is 4.</p>\n",
    "<font face = \"Verdana\" size = \"3\"></div>\n",
    "<font face = \"Verdana\" size = \"3\"><div class=\"col-6\">\n",
    "<font face = \"Verdana\" size = \"3\"><img src=\"https://raw.githubusercontent.com/patilkundan/images/main/statistics.svg\" class=\"img-fluid\" >\n",
    "<font face = \"Verdana\" size = \"3\"></div>\n",
    "<font face = \"Verdana\" size = \"3\"></div>\n",
    "<font face = \"Verdana\" size = \"3\"><hr>\n",
    "<font face = \"Verdana\" size = \"3\"><div class=\"row\">\n",
    "<font face = \"Verdana\" size = \"3\"><div class=\"col-6\">\n",
    "<font face = \"Verdana\" size = \"3\"><p>Maximum :</p>\n",
    "<font face = \"Verdana\" size = \"3\"><p>The largest value.</p>\n",
    "<font face = \"Verdana\" size = \"3\"><p>The maximum of {14, 4, 16, 12} is 16.</p>\n",
    "<font face = \"Verdana\" size = \"3\"></div>\n",
    "<font face = \"Verdana\" size = \"3\"><div class=\"col-6\">\n",
    "<font face = \"Verdana\" size = \"3\"><img src=\"https://raw.githubusercontent.com/patilkundan/images/main/max.svg\" class=\"img-fluid\" >\n",
    "<font face = \"Verdana\" size = \"3\"></div>\n",
    "<font face = \"Verdana\" size = \"3\"></div>\n",
    "<font face = \"Verdana\" size = \"3\"><hr>\n",
    "<font face = \"Verdana\" size = \"3\"><br>\n",
    "<font face = \"Verdana\" size = \"3\"><div class=\"row\">\n",
    "<font face = \"Verdana\" size = \"3\"><!-- <div class=\"col-12\"> -->\n",
    "<font face = \"Verdana\" size = \"3\"><p>Range : </p>\n",
    "<font face = \"Verdana\" size = \"3\"><p>The Range is the difference between the lowest and highest values.</p>\n",
    "<font face = \"Verdana\" size = \"3\"><p>Example: In {4, 6, 9, 3, 7} the lowest value is 3, and the highest is 9.</p>\n",
    "<font face = \"Verdana\" size = \"3\"><p><strong>So the range is 9 − 3 = 6.</strong></p>\n",
    "<font face = \"Verdana\" size = \"3\"><p>It is defined by</p>\n",
    "<font face = \"Verdana\" size = \"3\"><p><strong>Range = X<sub>max</sub> – X<sub>min</sub></strong></p>\n",
    "<font face = \"Verdana\" size = \"3\"><p>Where X<sub>max</sub> is the largest observation and X<sub>min</sub> is the smallest observation of the variable values.</p>\n",
    "<font face = \"Verdana\" size = \"3\">\n",
    "<font face = \"Verdana\" size = \"3\">                       \n",
    "<font face = \"Verdana\" size = \"3\"></div>\n",
    "<font face = \"Verdana\" size = \"3\"><div class=\"row\">\n",
    "<font face = \"Verdana\" size = \"3\"><div class=\"col-8 offset-3\">\n",
    "<font face = \"Verdana\" size = \"3\"><img src=\"https://raw.githubusercontent.com/patilkundan/images/main/range.svg\" class=\"img-fluid\" >\n",
    "<font face = \"Verdana\" size = \"3\"></div>  \n",
    "<font face = \"Verdana\" size = \"3\"> </div>\n",
    "<font face = \"Verdana\" size = \"3\"> <hr>\n",
    "<font face = \"Verdana\" size = \"3\"> <div class=\"row\">\n",
    "<font face = \"Verdana\" size = \"3\"><font face = \"Verdana\" size = \"3\"> \n",
    "<font face = \"Verdana\" size = \"3\"><h5>The range can sometimes be tricky</h5>\n",
    "<font face = \"Verdana\" size = \"3\"> <p>The range is not always a good measure of the spread of data if there are outliers</p>\n",
    "<font face = \"Verdana\" size = \"3\"> <p>The range can sometimes be tricky when there are extremely high or low values.</p>\n",
    "<font face = \"Verdana\" size = \"3\"> <span>Example: In {8, 11, 5, 9, 7, 6, 3616}:\n",
    "<font face = \"Verdana\" size = \"3\">                                \n",
    "<font face = \"Verdana\" size = \"3\"><ul>\n",
    "<font face = \"Verdana\" size = \"3\">    <li>the lowest value is 5,</li>\n",
    "<font face = \"Verdana\" size = \"3\">    <li> the highest is 3616,</li>\n",
    "<font face = \"Verdana\" size = \"3\"></ul>\n",
    "<font face = \"Verdana\" size = \"3\"></span>\n",
    "<font face = \"Verdana\" size = \"3\"><p>So the range is 3616 − 5 = 3611.</p>\n",
    "<font face = \"Verdana\" size = \"3\"><p>The range appears significantly larger due to the single value of 3616, but the majority of values cluster around 10, making it seem wide.</p>\n",
    "<font face = \"Verdana\" size = \"3\">           <blockquote><i><p>In this situation, it might be more appropriate to consider using either the Interquartile Range or the Standard Deviation. These measures can give a more accurate representation of the data's dispersion, especially when dealing with extreme values like 3616, which can heavily influence the range.</i></blockquote>\n",
    "         "
   ]
  },
  {
   "cell_type": "markdown",
   "id": "13a33a0c",
   "metadata": {},
   "source": [
    "<font face = \"Verdana\" size = \"4\"> <h2 style=\"color: red;\">Outliers </h2>"
   ]
  },
  {
   "cell_type": "markdown",
   "id": "61e0feea",
   "metadata": {},
   "source": [
    "<font face = \"Verdana\" size = \"3\"> \n",
    " <div class=\"container-fluid box bagcol\">\n",
    " <div class=\"container answer\">\n",
    "                        <!-- All answers here -->\n",
    "<div class=\"row\">\n",
    "<div class=\"col-12\">\n",
    "<p>Outliers : Sometimes, certain values lie \"far away\" from the main cluster of data, and those values are being considered as outliers. In such cases, the question arises: how should we handle these outlier values?</p>\n",
    "</div>\n",
    "</div>\n",
    "<div class=\"row\">\n",
    "<div class=\"col-12 offset-3\">\n",
    "<img src=\"https://raw.githubusercontent.com/patilkundan/images/main/outlier.svg\" class=\"img-fluid \" >\n",
    "</div>\n",
    "</div>\n",
    "<br>\n",
    "<div class=\"row\" >\n",
    "<div class=\"col-12\">\n",
    "<h5 class=\"justify-content-center\">Lets, have example of Long Jump</h5>\n",
    "</div>\n",
    "</div>\n",
    "<div class=\"row\">\n",
    "      <div class=\"col-4\">\n",
    "<img src=\"https://raw.githubusercontent.com/patilkundan/images/main/long jump.png\" class=\"img-fluid\"  width=\"250\" height=\"250\" >\n",
    "</div>\n",
    "<div class=\"col-4\">\n",
    "<p>A new coach has been training the Long Jump team this month, and the athletes' performance has improved.\n",
    "\n",
    "Augustus can now jump 0.15m farther, while June and Carol can jump 0.06m more than before.\n",
    " </p>\n",
    " </div>\n",
    " <div class=\"col-4\">\n",
    " <ul>\n",
    "     <li>Augustus: +0.15m</li>\n",
    "     <li>Tom: +0.11m</li>\n",
    "     <li>June: +0.06m</li>\n",
    "     <li>Carol: +0.06m</li>\n",
    "     <li>Bob: + 0.12m</li>\n",
    "     <li>Sam: -0.56m</li>\n",
    "     \n",
    " </ul>\n",
    " </div>                           \n",
    " </div>\n",
    " <hr>\n",
    "    <div class=\"row\"> \n",
    "     <p>Here are the results on the number line:</p>\n",
    "   <br>\n",
    " <img src=\"https://raw.githubusercontent.com/patilkundan/images/main/outlier-example1.svg\" class=\"img-fluid \" >\n",
    "</div>\n",
    "                        \n",
    "<br><br>\n",
    "                            \n",
    "                            \n",
    "<div class=\"row\">\n",
    "<p>Now calculate The <b>mean</a></b>: </p>\n",
    "<p class=\"center\">(0.15+0.11+0.06+0.06+0.12-0.56) / 6 = -0.06 / 6 = <b>-0.01m</b></p>\n",
    "<p>So, on average the  performance went <b>DOWN</b>. </p>\n",
    "<p ><b>The coach is obviously useless ... right?</b></p>\n",
    "<p>Sam's result is an \"Outlier\" ... what if we remove Sam's result?</p>\n",
    "</div>\n",
    "<br>\n",
    "                                \n",
    "<div class=\"row\">\n",
    "<img src=\"https://raw.githubusercontent.com/patilkundan/images/main/out-liar.svg\" class=\"img-fluid \" >\n",
    "</div>\n",
    "<hr>\n",
    "<div class=\"row\">\n",
    "<p> Let us try the results WITHOUT Sam :</p>\n",
    "<img src=\"https://raw.githubusercontent.com/patilkundan/images/main/outlier-example1a.svg\" class=\"img-fluid \" > \n",
    "</div>\n",
    "<br>\n",
    "<div class=\"row\">\n",
    "<p class=\"center\">Mean = (0.15+0.11+0.06+0.06+0.12)/5 = <b>0.1 m</b></p>\n",
    "<span>Wow, the coach looks significantly improved now!\n",
    "But is that fair? Is it appropriate to simply discard values that we don't like?</span>\n",
    "\n",
    "</div>\n",
    "<br>\n",
    "<blockquote><i><p>\"Outliers\" are values that \"lie outside\" the other values.</i></blockquote>\n",
    "\n",
    "                        \n",
    "\n",
    "                        \n",
    "<br>\n",
    "                       \n",
    "                   "
   ]
  },
  {
   "cell_type": "markdown",
   "id": "4b31ed14",
   "metadata": {},
   "source": [
    "<font face = \"Verdana\" size = \"4\"> <h2 style=\"color: red;\"> IQR </h2>"
   ]
  },
  {
   "cell_type": "markdown",
   "id": "3d8d1997",
   "metadata": {},
   "source": [
    "<font face = \"Verdana\" size = \"3\">           \n",
    "<div class=\"container-fluid box bagcol\">\n",
    "<div class=\"container answer\">\n",
    "<!-- All answers here -->\n",
    "<div class=\"row\">\n",
    "<p>Interquartile Range</p>\n",
    "<p>The difference between the upper and lower quartile is known as the interquartile range. </p>\n",
    "<p>The range from Quartile 1 to Quartile 3</p>\n",
    "<p>Here,(Quartiles are the values that divide a list of numbers into quarters.) The formula for the interquartile range is given below</p>\n",
    "<p><strong>Interquartile range = Upper Quartile – Lower Quartile = Q<sub>­3</sub> – Q<sub>­1</sub></strong></p>\n",
    "<p>This picture displays the median and interquartile range in the dataset.</p>\n",
    "</div>\n",
    "<div class=\"row\">\n",
    "<div class=\"col-6\">\n",
    "<img src=\"https://raw.githubusercontent.com/patilkundan/images/main/Boxplot_vs_PDF.svg\" class=\"img-fluid \" > \n",
    "</div>\n",
    "<div class=\"col-6\">\n",
    "<div class=\"row\">\n",
    "<div class=\"col\">\n",
    "<img src=\"https://raw.githubusercontent.com/patilkundan/images/main/interquartile-range.svg\" class=\"img-fluid \" >\n",
    "</div>\n",
    "</div>\n",
    "<br>\n",
    "<p>We can show all the important values in a \"Box and Whisker Plot\", like this:</p>\n",
    "\n",
    "<div class=\"row\">\n",
    "<div class=\"col\">\n",
    "<img src=\"https://raw.githubusercontent.com/patilkundan/images/main/box-whisker-plot.svg\" class=\"img-fluid \" >\n",
    "</div>\n",
    "</div>\n",
    "<br>\n",
    "\n",
    "</div>\n",
    "</div>\n",
    "<br>\n",
    "<div class=\"row\">\n",
    "<div class=\"col\">\n",
    "<img src=\"https://raw.githubusercontent.com/patilkundan/images/main/boxplot.png\" class=\"img-fluid \" > \n",
    "</div>\n",
    "\n",
    "</div>\n",
    "<hr>\n",
    "<p> Lets, See One Example</p>\n",
    "<div class=\"row\">\n",
    "<div class=\"col-5\"> \n",
    "<p> A list of data is given :</p>\n",
    "</div>\n",
    "<div class=\"col-7\"> \n",
    "<p>=[4, 17, 7, 14, 18, 12, 3, 16, 10, 4, 4, 11]</p>\n",
    "\n",
    "</div>\n",
    "\n",
    "</div>\n",
    "<br>\n",
    "<div class=\"row\">\n",
    "<div class=\"col-5\"> \n",
    "<span><strong><i><u>Step-1</u> </i></strong>: Put them in order:</span>\n",
    "\n",
    "</div>\n",
    "<div class=\"col-7\"> \n",
    "<p>=[3, 4, 4, 4, 7, 10, 11, 12, 14, 16, 17, 18]</p>\n",
    "\n",
    "</div>\n",
    "\n",
    "</div>\n",
    "<br>\n",
    "<div class=\"row\">\n",
    "<div class=\"col-5\"> \n",
    "<span><strong><i><u>Step-2</u> </i></strong>: Split it into quarters :</span>\n",
    "\n",
    "</div>\n",
    "<div class=\"col-7\"> \n",
    "<p><mark>3, 4, 4 </mark> - <mark> 4, 7, 10 </mark> - <mark>11, 12, 14 </mark>- <mark>16, 17, 18</mark></p>                            \n",
    "</div>\n",
    "\n",
    "</div>\n",
    "<br>\n",
    "<div class=\"row\">\n",
    "<div class=\"col-5\"> \n",
    "<span><strong><i><u>Step-3</u> </i></strong>: Calculate Lowest Value, Highest value, interquartile-range & quartiles </span>\n",
    "<p>In this case, all the quartiles lie between numbers.</p>\n",
    "\n",
    "</div>\n",
    "<div class=\"col-7\"> \n",
    "<ul>\n",
    "<li> Quartile 1 (Q1) = (4+4)/2 = 4</li>\n",
    "<li> Quartile 2 (Q2) = (10+11)/2 = 10.5</li>\n",
    "<li> Quartile 3 (Q3) = (14+16)/2 = 15</li>\n",
    "<li> The Lowest Value is 3,</li>\n",
    "<li> The Highest Value is 18</li>\n",
    "<li>Q3 − Q1 = 15 − 4 = 11</li>\n",
    "</ul>                            \n",
    "</div>\n",
    "\n",
    "</div>\n",
    "<br>\n",
    "<div class=\"row\">\n",
    "<p><strong><i><u>Step-4</u> </i></strong> : So now we have enough data to Plot the Box and Whisker plot </p>                         \n",
    "<!-- <div class=\"col-12\">  -->\n",
    "<img src=\"https://raw.githubusercontent.com/patilkundan/images/main/box-whisker-plot-ex1.svg\" class=\"img-fluid \" >\n",
    "<!-- </div> -->\n",
    "\n",
    "</div>\n",
    "\n",
    "</div>\n",
    "\n",
    "</div>"
   ]
  },
  {
   "cell_type": "markdown",
   "id": "6ef2c39b",
   "metadata": {},
   "source": [
    "<font face = \"Verdana\" size = \"4\"> <h2 style=\"color: red;\"> Variance ‘σ2’ </h2>"
   ]
  },
  {
   "cell_type": "markdown",
   "id": "0d2dfe99",
   "metadata": {},
   "source": [
    "<font face = \"Verdana\" size = \"3\"> It is the Square of standard deviation. It is mathematically denoted as (σ2) It tells that how far each number in dataset is far from mean (average) /describe the spread between a data set from its mean value\n",
    "<img src=\"https://raw.githubusercontent.com/patilkundan/images/main/covariance_formula.svg\"  width=\"550\" height=\"200\">\n",
    "<img src=\"https://raw.githubusercontent.com/patilkundan/images/main/Covariance-Formula.png\"  width=\"550\" height=\"200\">\n",
    "<img src=\"https://raw.githubusercontent.com/patilkundan/images/main/statistics-dogs-deviation.gif\"  width=\"550\" height=\"200\" >\n",
    "<hr>"
   ]
  },
  {
   "cell_type": "markdown",
   "id": "2715090f",
   "metadata": {},
   "source": [
    "<font face = \"Verdana\" size = \"4\"> <h2 style=\"color: red;\"> Standard deviation ‘σ’ </h2>"
   ]
  },
  {
   "cell_type": "markdown",
   "id": "b0c880d4",
   "metadata": {},
   "source": [
    "<font face = \"Verdana\" size = \"4\"> <p>Number of data deviated from the given mean is called standard deviation. It is mathematically denoted as (σ)</p>\n",
    "<img src=\"https://raw.githubusercontent.com/patilkundan/images/main/statistics-standard-deviation.gif\"  width=\"550\" height=\"200\">"
   ]
  },
  {
   "cell_type": "markdown",
   "id": "29a1d628",
   "metadata": {},
   "source": [
    "<font face = \"Verdana\" size = \"4\"> <h2 style=\"color: red;\"> Covariance - ∞ to +∞ </h2>"
   ]
  },
  {
   "cell_type": "markdown",
   "id": "060747e1",
   "metadata": {},
   "source": [
    "<font face = \"Verdana\" size = \"3\">\n",
    "<p>We can figure out a single number from a list of pairs of values.</p>\n",
    "<p>This number helps us understand if the paired values usually increase together, or if one goes up while the other goes down.</p>\n",
    "<p>Covariance formula is a statistical formula which is used to assess the relationship between two variables. In simple words, covariance is one of the statistical measurement to know the relationship of the variance between the two variables.</p>\n",
    "\n",
    "<p>The covariance indicates how two variables are related and also helps to know whether the two variables vary together or change together. The covariance is denoted as Cov(X,Y) and the formulas for covariance are given below.</p>\n",
    "<img src=\"https://raw.githubusercontent.com/patilkundan/images/main/covariance_formula.svg\"  width=\"450\" height=\"150\">\n",
    "<img src=\"https://raw.githubusercontent.com/patilkundan/images/main/Covariance-Formula.png\"  width=\"450\" height=\"150\">\n",
    "<img src=\"https://raw.githubusercontent.com/patilkundan/images/main/covariance-examples.svg\"  width=\"450\" height=\"150\">\n",
    "  "
   ]
  },
  {
   "cell_type": "markdown",
   "id": "1f8b6ef5",
   "metadata": {},
   "source": [
    "<font face = \"Verdana\" size = \"4\"> <h2 style=\"color: red;\">  Correlation + 1 through 0 to – 1."
   ]
  },
  {
   "cell_type": "markdown",
   "id": "bb8cd811",
   "metadata": {},
   "source": [
    "<font face = \"Verdana\" size = \"3\"><p>When two sets of data are strongly linked together we say they have a High Correlation.</p>\n",
    "<font face = \"Verdana\" size = \"3\"><p>relationship between two variables as their Co-relation. The correlation coefficient is the measurement of correlation. To see how the two sets of data are connected,</p>\n",
    "<font face = \"Verdana\" size = \"3\"><p> Correlations are used to check the strength of the relationship between two variables </p>\n",
    "<img src=\"https://raw.githubusercontent.com/patilkundan/images/main/correlation_coefficient_formula.svg\"  width=\"350\" height=\"150\">\n",
    "\n",
    "<img src=\"https://raw.githubusercontent.com/patilkundan/images/main/corr.svg\"  width=\"350\" height=\"150\">\n",
    "\n",
    "<img src=\"https://raw.githubusercontent.com/patilkundan/images/main/corl.svg\"  width=\"350\" height=\"150\">\n",
    "   \n",
    "<img src=\"https://raw.githubusercontent.com/patilkundan/images/main/correlation-examples.svg\"  width=\"850\" height=\"150\">"
   ]
  },
  {
   "cell_type": "markdown",
   "id": "946c28a6",
   "metadata": {},
   "source": [
    "<tr>\n",
    "<th style=\"border: 1px solid #ccc; padding: 10px; background-color: #f2f2f2; text-align:center;\">\n",
    "    Key\t\n",
    "</th>\n",
    "<th style=\"border: 1px solid #ccc; padding: 10px; background-color: #f2f2f2; text-align:center;\">\n",
    "Covariance\n",
    "</th>\n",
    "<th style=\"border: 1px solid #ccc; padding: 10px; background-color: #f2f2f2; text-align:center;\">\n",
    "Correlation\n",
    "</th>\n",
    "</tr>\n",
    "\n",
    "<tr>\n",
    "    <td style=\"border: 1px solid #ccc; padding: 10px; text-align: center;\">Meaning</td>\n",
    "    <td style=\"border: 1px solid #ccc; padding: 10px; text-align: center;\">Covariance is measure indicating the extent to which two random variables change in tandem.</td>\n",
    "    <td style=\"border: 1px solid #ccc; padding: 10px; text-align: center;\">Correlation is statistical measure that indicates how strongly two varibles are related.</td>\n",
    "    \n",
    "</tr>\n",
    "\n",
    "<tr>\n",
    "    <td style=\"border: 1px solid #ccc; padding: 10px; text-align: center;\">What is it ?</td>\n",
    "    <td style=\"border: 1px solid #ccc; padding: 10px; text-align: center;\">Measure of correlation </td>\n",
    "    <td style=\"border: 1px solid #ccc; padding: 10px; text-align: center;\">Scaled version of covariance</td>\n",
    "    \n",
    "</tr>\n",
    "\n",
    "<tr>\n",
    "    <td style=\"border: 1px solid #ccc; padding: 10px; text-align: center;\">Value</td>\n",
    "    <td style=\"border: 1px solid #ccc; padding: 10px; text-align: center;\">Lie between - ∞ to +∞</td>\n",
    "    <td style=\"border: 1px solid #ccc; padding: 10px; text-align: center;\">Lie between - 1 to +1</td>\n",
    "    \n",
    "</tr>\n",
    "\n",
    "<tr>\n",
    "    <td style=\"border: 1px solid #ccc; padding: 10px; text-align: center;\">Change in scale</td>\n",
    "    <td style=\"border: 1px solid #ccc; padding: 10px; text-align: center;\">Affects covariance</td>\n",
    "    <td style=\"border: 1px solid #ccc; padding: 10px; text-align: center;\">Does not affects correlation</td>\n",
    "    \n",
    "</tr>\n",
    "\n",
    "<tr>\n",
    "    <td style=\"border: 1px solid #ccc; padding: 10px; text-align: center;\"> Unit free measure</td>\n",
    "    <td style=\"border: 1px solid #ccc; padding: 10px; text-align: center;\">No</td>\n",
    "    <td style=\"border: 1px solid #ccc; padding: 10px; text-align: center;\">Yes</td>\n",
    "    \n",
    "</tr>"
   ]
  },
  {
   "cell_type": "markdown",
   "id": "f61f51a2",
   "metadata": {},
   "source": [
    "<font face = \"Verdana\" size = \"4\"> <h2 style=\"color: red;\"> Uses of Variables"
   ]
  },
  {
   "cell_type": "markdown",
   "id": "23676efb",
   "metadata": {},
   "source": [
    "<font face = \"Verdana\" size = \"3\">\n",
    "<font face = \"Verdana\" size = \"3\"><div class=\"container-fluid box bagcol\">\n",
    "<font face = \"Verdana\" size = \"3\"><div class=\"container answer\">\n",
    "<font face = \"Verdana\" size = \"3\"><!-- All answers here -->\n",
    "<font face = \"Verdana\" size = \"3\"><div class=\"row\">\n",
    "<font face = \"Verdana\" size = \"3\"><div class=col-6>\n",
    "<font face = \"Verdana\" size = \"3\"><ol>\n",
    "<font face = \"Verdana\" size = \"3\"><li>Inependent variable</li>\n",
    "<font face = \"Verdana\" size = \"3\"><li>Dependent variables</li>\n",
    "<font face = \"Verdana\" size = \"3\"></ol>\n",
    "<font face = \"Verdana\" size = \"3\"><p>Let's, Assume that two variable salary and experience </p>\n",
    "<font face = \"Verdana\" size = \"3\"><p> Here, salary is dependent and experience is independent. </p>\n",
    "<font face = \"Verdana\" size = \"3\"><ul>\n",
    "<font face = \"Verdana\" size = \"3\"><li><strong>Independent variable</strong>: A variable that does not depend on any other variable.</li>\n",
    "<font face = \"Verdana\" size = \"3\"><li><strong>Dependent variable</strong>: A variable that depends on the independent variable.</li>\n",
    "<font face = \"Verdana\" size = \"3\"></ul>\n",
    "<font face = \"Verdana\" size = \"3\">\n",
    "<font face = \"Verdana\" size = \"3\">\n",
    "<font face = \"Verdana\" size = \"3\"></div>\n",
    "<font face = \"Verdana\" size = \"3\"><div class=\"col-6 effect\">\n",
    "<font face = \"Verdana\" size = \"3\">\n",
    "<font face = \"Verdana\" size = \"3\"><img src=\"https://raw.githubusercontent.com/patilkundan/images/main/dep_ind.png\" width=\"150\" height=\"240\"  class=\"img-fluid\" >\n",
    "<font face = \"Verdana\" size = \"3\">\n",
    "<font face = \"Verdana\" size = \"3\"></div>\n",
    "<font face = \"Verdana\" size = \"3\"><div class=\"col-12\">\n",
    "<font face = \"Verdana\" size = \"3\"><blockquote><i><p> Independent variables do not depend on other variables, whereas dependent variables depend on the independent variable. </blockquote></i></p>\n"
   ]
  },
  {
   "cell_type": "markdown",
   "id": "2fbdf77c",
   "metadata": {},
   "source": [
    "<font face = \"Verdana\" size = \"4\"> <h2 style=\"color: red;\"> Types of variable | Data types </h2>"
   ]
  },
  {
   "cell_type": "markdown",
   "id": "e7039470",
   "metadata": {},
   "source": [
    "<img src=\"https://raw.githubusercontent.com/patilkundan/images/main/Typesofvariables.svg\"  width=\"650\" height=\"440\">\n",
    "<font face = \"Verdana\" size = \"3\"><p><strong>Types of variables</strong></p>\n",
    "<font face = \"Verdana\" size = \"3\"><ol>\n",
    "<font face = \"Verdana\" size = \"3\"><li><strong>Continuous variable</strong> (numerical)\n",
    "<font face = \"Verdana\" size = \"3\"><ul>\n",
    "<font face = \"Verdana\" size = \"3\"><li>They include mostly numericals. Numerical data are continuous and can take on an infinite number of values.</li>\n",
    "<font face = \"Verdana\" size = \"3\"><li>Examples of continuous variables include height, weight, and temperature.</li>\n",
    "<font face = \"Verdana\" size = \"3\"></ul>\n",
    "<font face = \"Verdana\" size = \"3\"></li>\n",
    "<font face = \"Verdana\" size = \"3\"><li><strong>Categorical variable</strong>\n",
    "<font face = \"Verdana\" size = \"3\"><ul>\n",
    "<font face = \"Verdana\" size = \"3\"><li>They moslty have strings values.</li>\n",
    "<font face = \"Verdana\" size = \"3\"><li>Categorical data usually have strings, but they can also include numbers. There are two types of categorical data:\n",
    "<font face = \"Verdana\" size = \"3\"><ul>\n",
    "<font face = \"Verdana\" size = \"3\"><li><strong>Ordinal</strong> variables have a natural order, such as \"small, medium, large\".</li>\n",
    "<font face = \"Verdana\" size = \"3\"><li><strong>Nominal</strong> variables do not have a natural order, such as \"red, blue, green\".</li>\n",
    "<font face = \"Verdana\" size = \"3\"></ul>\n",
    "<font face = \"Verdana\" size = \"3\"></li>\n",
    "<font face = \"Verdana\" size = \"3\"></ul>\n",
    "<font face = \"Verdana\" size = \"3\"></li>\n",
    "<font face = \"Verdana\" size = \"3\"></ol>\n",
    "<hr>\n",
    "<img src=\"https://raw.githubusercontent.com/patilkundan/images/main/data-types.svg\" alt=\"Types of Data\" height=\"244\" width=\"351\">\n",
    "<font face = \"Verdana\" size = \"3\"><p><strong><i>Qualitative vs Quantitative</i></strong></p>\n",
    "<font face = \"Verdana\" size = \"3\">\n",
    "<font face = \"Verdana\" size = \"3\"><p>Data can be qualitative or quantitative.</p>\n",
    "<font face = \"Verdana\" size = \"3\"><ul>\n",
    "<font face = \"Verdana\" size = \"3\"><li><strong>Qualitative data</strong> is descriptive information (it <i>describes</i> something)</li>\n",
    "<font face = \"Verdana\" size = \"3\"><li><strong>Quantitative data</strong> is numerical information (numbers)</li>\n",
    "</ul>\n"
   ]
  },
  {
   "cell_type": "markdown",
   "id": "0424651c",
   "metadata": {},
   "source": [
    "\n"
   ]
  },
  {
   "cell_type": "markdown",
   "id": "d5f3916d",
   "metadata": {},
   "source": [
    "<font face = \"Verdana\" size = \"3\"> Some are use full links are given below to clear doubt on above topics  "
   ]
  },
  {
   "cell_type": "markdown",
   "id": "bc9ee237",
   "metadata": {},
   "source": [
    "- https://docs.google.com/spreadsheets/d/1kqzm3Yff3Wgt597IQAXnbqH1U3g1JS2A6_Ex40SyJcY/edit?usp=sharing\n",
    "- https://docs.google.com/document/d/1m2efMAhA3H8-QkYltm9dVe7GpLLXlKOvmvwM87-b8Mo/edit?usp=sharing\n",
    "- https://youtu.be/PUBZC2MJ50Y"
   ]
  }
 ],
 "metadata": {
  "kernelspec": {
   "display_name": "Python 3 (ipykernel)",
   "language": "python",
   "name": "python3"
  },
  "language_info": {
   "codemirror_mode": {
    "name": "ipython",
    "version": 3
   },
   "file_extension": ".py",
   "mimetype": "text/x-python",
   "name": "python",
   "nbconvert_exporter": "python",
   "pygments_lexer": "ipython3",
   "version": "3.9.12"
  }
 },
 "nbformat": 4,
 "nbformat_minor": 5
}
