{
 "cells": [
  {
   "cell_type": "markdown",
   "id": "c4aacefb",
   "metadata": {},
   "source": [
    "<font face = \"Verdana\" size = \"4\"><b> Probabilty Problem"
   ]
  },
  {
   "cell_type": "markdown",
   "id": "1bc24a51",
   "metadata": {},
   "source": [
    "<font face = \"Verdana\" size = \"4\"> Problem 1 <br>\n",
    "<font face = \"Verdana\" size = \"2\"> There are 1000 students who's marks are captured based on their ability in the test. If the same test is given to a new student, what is the probability of\n",
    "getting 50 marks."
   ]
  },
  {
   "cell_type": "code",
   "execution_count": 1,
   "id": "9be57c6b",
   "metadata": {},
   "outputs": [],
   "source": [
    "from numpy.random import randint as ri\n",
    "import pandas as pd"
   ]
  },
  {
   "cell_type": "code",
   "execution_count": 2,
   "id": "ab11e9dd",
   "metadata": {},
   "outputs": [
    {
     "data": {
      "text/plain": [
       "0     36\n",
       "1    100\n",
       "2     53\n",
       "3     85\n",
       "4     76\n",
       "dtype: int32"
      ]
     },
     "execution_count": 2,
     "metadata": {},
     "output_type": "execute_result"
    }
   ],
   "source": [
    "# Randomly generating 100 int b/w 30 to 100\n",
    "marks = ri (30, 101, 1000)\n",
    "stu_marks = pd. Series (marks)\n",
    "stu_marks.head()"
   ]
  },
  {
   "cell_type": "code",
   "execution_count": 16,
   "id": "aea4eb5e",
   "metadata": {},
   "outputs": [],
   "source": [
    "# Let's take mean and standard deviation (std). We need these data to find the probability."
   ]
  },
  {
   "cell_type": "code",
   "execution_count": 3,
   "id": "a95694cd",
   "metadata": {},
   "outputs": [
    {
     "name": "stdout",
     "output_type": "stream",
     "text": [
      "mean marks =  65.142\n",
      "marks std =  20.364197419405883\n"
     ]
    }
   ],
   "source": [
    "# Mean\n",
    "marks_mean = stu_marks.mean()\n",
    "print ('mean marks = ',marks_mean)\n",
    "# Std\n",
    "marks_std =stu_marks.std()\n",
    "print ('marks std = ',marks_std)"
   ]
  },
  {
   "cell_type": "markdown",
   "id": "689d163c",
   "metadata": {},
   "source": [
    "<font face = \"Verdana\" size = \"4\"> Probability always between<mark> 0 - 1 and starts from 0"
   ]
  },
  {
   "cell_type": "code",
   "execution_count": 4,
   "id": "c6012e65",
   "metadata": {},
   "outputs": [],
   "source": [
    "x= 50"
   ]
  },
  {
   "cell_type": "code",
   "execution_count": 5,
   "id": "24897cef",
   "metadata": {},
   "outputs": [
    {
     "name": "stdout",
     "output_type": "stream",
     "text": [
      "0.22857139413178135\n"
     ]
    }
   ],
   "source": [
    "import scipy.stats as st\n",
    "# When X(data) is given then, use cdf function to find the probabilty of scoring marks upto 50 (X)\n",
    "prob = st.norm.cdf(x, loc=marks_mean, scale=marks_std) # loc= mean , scale = std. deviation \n",
    "print (prob)"
   ]
  },
  {
   "cell_type": "code",
   "execution_count": 6,
   "id": "bfed15af",
   "metadata": {},
   "outputs": [
    {
     "data": {
      "text/plain": [
       "22.857139413178135"
      ]
     },
     "execution_count": 6,
     "metadata": {},
     "output_type": "execute_result"
    }
   ],
   "source": [
    "prob*100"
   ]
  },
  {
   "cell_type": "markdown",
   "id": "9b1590f3",
   "metadata": {},
   "source": [
    "<font face = \"Verdana\" size = \"3\"> If you want to find the probability of scoring marks greater than 50, you can minus prob (1 - prob)\n",
    "How it works"
   ]
  },
  {
   "cell_type": "markdown",
   "id": "ed3e9305",
   "metadata": {},
   "source": [
    "<font face = \"Verdana\" size = \"4\"> Manually we can find out using <mark> Z distribution/ statistics</mark><br>\n",
    "    \n",
    "<font face = \"Verdana\" size = \"3\">Let's Tansform our normal distribution into Z distribution (Standard Normal Distribution). \n",
    "   <br> Where Mean = 0 and std = 1"
   ]
  },
  {
   "cell_type": "markdown",
   "id": "6e50f427",
   "metadata": {},
   "source": [
    "<img src=\"z.png\"  width=\"550\" height=\"650\">"
   ]
  },
  {
   "cell_type": "markdown",
   "id": "45bac96a",
   "metadata": {},
   "source": [
    "<font face = \"Verdana\" size = \"4\"> <mark>z = (x - mean)/std</mark>"
   ]
  },
  {
   "cell_type": "code",
   "execution_count": 8,
   "id": "0a894aa3",
   "metadata": {},
   "outputs": [
    {
     "data": {
      "text/plain": [
       "-0.7435598706959381"
      ]
     },
     "execution_count": 8,
     "metadata": {},
     "output_type": "execute_result"
    }
   ],
   "source": [
    "score = (x -marks_mean) / marks_std\n",
    "score"
   ]
  },
  {
   "cell_type": "markdown",
   "id": "1ce2d945",
   "metadata": {},
   "source": [
    "<font face = \"Verdana\" size = \"4\">Check the score in z table i.e. =====> Z-table.com"
   ]
  },
  {
   "cell_type": "markdown",
   "id": "bcbac26b",
   "metadata": {},
   "source": [
    "<font face = \"Verdana\" size = \"4\"> Problem 2<br>\n",
    "<font face = \"Verdana\" size = \"2\">Find the probability of getting marks between 50-60<br>\n",
    "Rewrite the problem in below form<br>\n",
    "p (50 < z < 60)<br>\n",
    "p ( (50-mean)/ std <Z < (60 - mean)/std)"
   ]
  },
  {
   "cell_type": "code",
   "execution_count": 22,
   "id": "d2e61396",
   "metadata": {},
   "outputs": [
    {
     "data": {
      "text/plain": [
       "-0.6780073249431718"
      ]
     },
     "execution_count": 22,
     "metadata": {},
     "output_type": "execute_result"
    }
   ],
   "source": [
    " # For 50\n",
    "(50 -marks_mean)/ marks_std"
   ]
  },
  {
   "cell_type": "code",
   "execution_count": 23,
   "id": "47814de5",
   "metadata": {},
   "outputs": [
    {
     "data": {
      "text/plain": [
       "-0.190372597567473"
      ]
     },
     "execution_count": 23,
     "metadata": {},
     "output_type": "execute_result"
    }
   ],
   "source": [
    "# For 60\n",
    "(60 -marks_mean)/ marks_std"
   ]
  },
  {
   "cell_type": "markdown",
   "id": "4fba78c8",
   "metadata": {},
   "source": [
    "<font face = \"Verdana\" size = \"4\"> Now, Look into the z-table for both 50 and 60. Difference is the probability."
   ]
  },
  {
   "cell_type": "code",
   "execution_count": null,
   "id": "aa1f990e",
   "metadata": {},
   "outputs": [],
   "source": []
  }
 ],
 "metadata": {
  "kernelspec": {
   "display_name": "Python 3 (ipykernel)",
   "language": "python",
   "name": "python3"
  },
  "language_info": {
   "codemirror_mode": {
    "name": "ipython",
    "version": 3
   },
   "file_extension": ".py",
   "mimetype": "text/x-python",
   "name": "python",
   "nbconvert_exporter": "python",
   "pygments_lexer": "ipython3",
   "version": "3.9.12"
  }
 },
 "nbformat": 4,
 "nbformat_minor": 5
}
