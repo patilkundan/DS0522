{
 "cells": [
  {
   "cell_type": "markdown",
   "id": "6fbd0f5c",
   "metadata": {},
   "source": [
    "# Statistics for data science"
   ]
  },
  {
   "cell_type": "markdown",
   "id": "6771266d",
   "metadata": {},
   "source": [
    " <table style=\"border-collapse: collapse; width: 100%; border: 1px solid #ccc; font-family: Verdana, sans-serif;\">\n",
    "        <tbody>\n",
    "            <tr>\n",
    "                <th style=\"border: 1px solid #ccc; padding: 10px; background-color: #f2f2f2; text-align: center;\">Index</th>\n",
    "                <th style=\"border: 1px solid #ccc; padding: 10px; background-color: #f2f2f2; text-align: center;\">Statistics Topics</th>\n",
    "            </tr>\n",
    "            <tr>\n",
    "                <td style=\"border: 1px solid #ccc; padding: 10px; text-align: center;\">1</td>\n",
    "                <td style=\"border: 1px solid #ccc; padding: 10px; text-align: center;\">Types of Statistics</td>\n",
    "            </tr>\n",
    "            <tr>\n",
    "                <td style=\"border: 1px solid #ccc; padding: 10px; text-align: center;\">2</td>\n",
    "                <td style=\"border: 1px solid #ccc; padding: 10px; text-align: center;\">Descriptive</td>\n",
    "            </tr>\n",
    "            <tr>\n",
    "                <td style=\"border: 1px solid #ccc; padding: 10px; text-align: center;\">3</td>\n",
    "                <td style=\"border: 1px solid #ccc; padding: 10px; text-align: center;\">Inferential</td>\n",
    "            </tr>\n",
    "            <tr>\n",
    "                <td style=\"border: 1px solid #ccc; padding: 10px; text-align: center;\">4</td>\n",
    "                <td style=\"border: 1px solid #ccc; padding: 10px; text-align: center;\">Uses of Statistics</td>\n",
    "            </tr>\n",
    "            <tr>\n",
    "                <td style=\"border: 1px solid #ccc; padding: 10px; text-align: center;\">5</td>\n",
    "                <td style=\"border: 1px solid #ccc; padding: 10px; text-align: center;\">Uses of Variables</td>\n",
    "            </tr>\n",
    "            <tr>\n",
    "                <td style=\"border: 1px solid #ccc; padding: 10px; text-align: center;\">6</td>\n",
    "                <td style=\"border: 1px solid #ccc; padding: 10px; text-align: center;\">Types of Variable</td>\n",
    "            </tr>\n",
    "            <tr>\n",
    "                <td style=\"border: 1px solid #ccc; padding: 10px; text-align: center;\">7</td>\n",
    "                <td style=\"border: 1px solid #ccc; padding: 10px; text-align: center;\">Types of Parameter in Statistics</td>\n",
    "            </tr>\n",
    "            <tr>\n",
    "                <td style=\"border: 1px solid #ccc; padding: 10px; text-align: center;\">8</td>\n",
    "                <td style=\"border: 1px solid #ccc; padding: 10px; text-align: center;\">Types of Distribution</td>\n",
    "            </tr>\n",
    "            <tr>\n",
    "                <td style=\"border: 1px solid #ccc; padding: 10px; text-align: center;\">9</td>\n",
    "                <td style=\"border: 1px solid #ccc; padding: 10px; text-align: center;\">Central Limit Theorem</td>\n",
    "            </tr>\n",
    "            <tr>\n",
    "                <td style=\"border: 1px solid #ccc; padding: 10px; text-align: center;\">10</td>\n",
    "                <td style=\"border: 1px solid #ccc; padding: 10px; text-align: center;\">Probability Density Function (PDF)</td>\n",
    "            </tr>\n",
    "            <tr>\n",
    "                <td style=\"border: 1px solid #ccc; padding: 10px; text-align: center;\">11</td>\n",
    "                <td style=\"border: 1px solid #ccc; padding: 10px; text-align: center;\">Cumulative Distribution Function (CDF)</td>\n",
    "            </tr>\n",
    "            <tr>\n",
    "                <td style=\"border: 1px solid #ccc; padding: 10px; text-align: center;\">12</td>\n",
    "                <td style=\"border: 1px solid #ccc; padding: 10px; text-align: center;\">Practical Implementation of PDF</td>\n",
    "            </tr>\n",
    "            <tr>\n",
    "                <td style=\"border: 1px solid #ccc; padding: 10px; text-align: center;\">13</td>\n",
    "                <td style=\"border: 1px solid #ccc; padding: 10px; text-align: center;\">Practical Implementation of CDF</td>\n",
    "            </tr>\n",
    "            <tr>\n",
    "                <td style=\"border: 1px solid #ccc; padding: 10px; text-align: center;\">14</td>\n",
    "                <td style=\"border: 1px solid #ccc; padding: 10px; text-align: center;\">Hypothesis</td>\n",
    "            </tr>\n",
    "            <tr>\n",
    "                <td style=\"border: 1px solid #ccc; padding: 10px; text-align: center;\">15</td>\n",
    "                <td style=\"border: 1px solid #ccc; padding: 10px; text-align: center;\">Default Null Hypothesis</td>\n",
    "            </tr>\n",
    "            <tr>\n",
    "                <td style=\"border: 1px solid #ccc; padding: 10px; text-align: center;\">16</td>\n",
    "                <td style=\"border: 1px solid #ccc; padding: 10px; text-align: center;\">Critical Region &amp; Rejection Zone</td>\n",
    "            </tr>\n",
    "            <tr>\n",
    "                <td style=\"border: 1px solid #ccc; padding: 10px; text-align: center;\">17</td>\n",
    "                <td style=\"border: 1px solid #ccc; padding: 10px; text-align: center;\">Types of Statistical Test</td>\n",
    "            </tr>\n",
    "            <tr>\n",
    "                <td style=\"border: 1px solid #ccc; padding: 10px; text-align: center;\">18</td>\n",
    "                <td style=\"border: 1px solid #ccc; padding: 10px; text-align: center;\">Practical Implementation of Statistical Test</td>\n",
    "            </tr>\n",
    "        </tbody>\n",
    "    </table>"
   ]
  },
  {
   "cell_type": "code",
   "execution_count": 29,
   "id": "36d1d39a",
   "metadata": {},
   "outputs": [
    {
     "data": {
      "text/html": [
       "\n",
       "        <iframe\n",
       "            width=\"900\"\n",
       "            height=\"600\"\n",
       "            src=\"https://www.bing.com\"\n",
       "            frameborder=\"0\"\n",
       "            allowfullscreen\n",
       "            \n",
       "        ></iframe>\n",
       "        "
      ],
      "text/plain": [
       "<IPython.lib.display.IFrame at 0x180ae1790d0>"
      ]
     },
     "execution_count": 29,
     "metadata": {},
     "output_type": "execute_result"
    }
   ],
   "source": [
    "import IPython.display\n",
    "\n",
    "IPython.display.IFrame(src=\"https://www.bing.com\", width=900, height=600)"
   ]
  },
  {
   "cell_type": "code",
   "execution_count": 46,
   "id": "719fc0e3",
   "metadata": {},
   "outputs": [
    {
     "data": {
      "text/html": [
       "\n",
       "        <iframe\n",
       "            width=\"900\"\n",
       "            height=\"600\"\n",
       "            src=\"1_statistics.html\"\n",
       "            frameborder=\"0\"\n",
       "            allowfullscreen\n",
       "            \n",
       "        ></iframe>\n",
       "        "
      ],
      "text/plain": [
       "<IPython.lib.display.IFrame at 0x180ae15f1c0>"
      ]
     },
     "execution_count": 46,
     "metadata": {},
     "output_type": "execute_result"
    }
   ],
   "source": [
    "\n",
    "import IPython.display\n",
    "\n",
    "IPython.display.IFrame(src=\"1_statistics.html\", width=900, height=600)\n"
   ]
  },
  {
   "cell_type": "code",
   "execution_count": null,
   "id": "587269bc",
   "metadata": {},
   "outputs": [],
   "source": [
    "\n"
   ]
  },
  {
   "cell_type": "code",
   "execution_count": null,
   "id": "f29e5604",
   "metadata": {},
   "outputs": [],
   "source": []
  }
 ],
 "metadata": {
  "kernelspec": {
   "display_name": "Python 3 (ipykernel)",
   "language": "python",
   "name": "python3"
  },
  "language_info": {
   "codemirror_mode": {
    "name": "ipython",
    "version": 3
   },
   "file_extension": ".py",
   "mimetype": "text/x-python",
   "name": "python",
   "nbconvert_exporter": "python",
   "pygments_lexer": "ipython3",
   "version": "3.9.12"
  }
 },
 "nbformat": 4,
 "nbformat_minor": 5
}
