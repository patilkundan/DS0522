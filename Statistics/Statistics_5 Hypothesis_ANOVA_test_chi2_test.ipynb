{
 "cells": [
  {
   "cell_type": "markdown",
   "id": "2113cd70",
   "metadata": {},
   "source": [
    "<font face = \"Verdana\" size = \"5\"> ANOVA /(ANalysis Of VAriance)  TEST"
   ]
  },
  {
   "cell_type": "markdown",
   "id": "6752ddf4",
   "metadata": {},
   "source": [
    "<font face = \"Verdana\" size = \"3\"> ANOVA is used to compare differences of means among more than 2 groups. It does this by looking at variation in the data and where that variation is found\n",
    "(hence its name). Specifically, ANOVA compares the amount of variation between groups with the amount of variation within groups."
   ]
  },
  {
   "cell_type": "markdown",
   "id": "10fdf472",
   "metadata": {},
   "source": [
    "<font face = \"Verdana\" size = \"3\"><br>• Null hypothesis, typically is that, all means are equal.\n",
    "<font face = \"Verdana\" size = \"3\"><br>• The independent variables are categorical.\n",
    "<font face = \"Verdana\" size = \"3\"><br>• Dependent variables are continues."
   ]
  },
  {
   "cell_type": "markdown",
   "id": "4b1ea877",
   "metadata": {},
   "source": [
    "<font face = \"Verdana\" size = \"4\"> What is F score Value...?"
   ]
  },
  {
   "cell_type": "markdown",
   "id": "fdf26da6",
   "metadata": {},
   "source": [
    "<font face = \"Verdana\" size = \"3\"> F = Sample means of between groups/sample means of within groups\n",
    "    <img src=\"https://raw.githubusercontent.com/patilkundan/images/main/F_score.png\"  width=\"450\" height=\"450\">"
   ]
  },
  {
   "cell_type": "markdown",
   "id": "79644d60",
   "metadata": {},
   "source": [
    "<font face = \"Verdana\" size = \"3\">  Note<br><mark>\n",
    "    In <b>ttest </b>we figure out<b> Statistics score and p-value</b><br>\n",
    "    In<b> ANOVA test</b> we will figure out <b>F score/Value and p-value</b>"
   ]
  },
  {
   "cell_type": "markdown",
   "id": "58925f9e",
   "metadata": {},
   "source": [
    "<img src=\"https://raw.githubusercontent.com/patilkundan/images/main/anv.png\"  width=\"550\" height=\"650\">\n",
    "<img src=\"https://raw.githubusercontent.com/patilkundan/images/main/anv1.png\"  width=\"550\" height=\"650\">\n"
   ]
  },
  {
   "cell_type": "markdown",
   "id": "b7b7c613",
   "metadata": {},
   "source": [
    "<font face = \"Verdana\" size = \"3\"> Now take Realtime research on human body -"
   ]
  },
  {
   "cell_type": "markdown",
   "id": "0293e787",
   "metadata": {},
   "source": [
    "<font face = \"Verdana\" size = \"3\">  If different types of drinks (Coffee, Water, Milk, Soda etc) have the same effect (reaction time in the morning) on human body or not?\n",
    "   <img src=\"https://raw.githubusercontent.com/patilkundan/images/main/cp.png\"  width=\"150\" height=\"150\">"
   ]
  },
  {
   "cell_type": "markdown",
   "id": "cedc1cac",
   "metadata": {},
   "source": [
    "<font face = \"Verdana\" size = \"3\"> Null hypothesis - All the drinks average reaction time on humany body is same.<br>\n",
    "<font face = \"Verdana\" size = \"3\"> Alternate hypothesis - All the drinks average reaction time on humany body is NOT same."
   ]
  },
  {
   "cell_type": "markdown",
   "id": "c1cdc7bf",
   "metadata": {},
   "source": [
    "<font face = \"Verdana\" size = \"4\"><b><font color=\"#9900FF\"> Hypothesis construction</b><br>\n",
    "<font face = \"Verdana\" size = \"3\"><br>The null hypothesis for ANOVA says that, average of dependent variable are same for all the given groups.\n",
    "<font face = \"Verdana\" size = \"3\"><br>Alternate Hypothesis says, mean of dependent variable are not same for the given groups.\n",
    "<font face = \"Verdana\" size = \"3\"><br><mark>Ho: muA = muB = muc\n",
    "<font face = \"Verdana\" size = \"3\"><br>Ha: not all are equal"
   ]
  },
  {
   "cell_type": "markdown",
   "id": "885f8380",
   "metadata": {},
   "source": [
    "<font face = \"Verdana\" size = \"3\"><b><font color=\"#303745\">Steps</b>\n",
    "<br>Step 1 Calculate the means/avg of each semester\n",
    "<br>Step 2 Calculate the grand mean\n",
    "<br>Step 3 Variations between, within\n",
    "<br>Step 4 Calculate the mean squared variance of between and within\n",
    "<br>Step 5 Calcualte F statistics and corrosponding p-value"
   ]
  },
  {
   "cell_type": "code",
   "execution_count": 2,
   "id": "6d36ef98",
   "metadata": {},
   "outputs": [],
   "source": [
    "import statistics as st\n",
    "import numpy as np\n",
    "import pandas as pd\n",
    "from numpy.random import randint as ri"
   ]
  },
  {
   "cell_type": "code",
   "execution_count": 4,
   "id": "4fde80d5",
   "metadata": {},
   "outputs": [
    {
     "data": {
      "text/html": [
       "<div>\n",
       "<style scoped>\n",
       "    .dataframe tbody tr th:only-of-type {\n",
       "        vertical-align: middle;\n",
       "    }\n",
       "\n",
       "    .dataframe tbody tr th {\n",
       "        vertical-align: top;\n",
       "    }\n",
       "\n",
       "    .dataframe thead th {\n",
       "        text-align: right;\n",
       "    }\n",
       "</style>\n",
       "<table border=\"1\" class=\"dataframe\">\n",
       "  <thead>\n",
       "    <tr style=\"text-align: right;\">\n",
       "      <th></th>\n",
       "      <th>Student_ID</th>\n",
       "      <th>Semester</th>\n",
       "      <th>Total_Marks</th>\n",
       "    </tr>\n",
       "  </thead>\n",
       "  <tbody>\n",
       "    <tr>\n",
       "      <th>0</th>\n",
       "      <td>1</td>\n",
       "      <td>1</td>\n",
       "      <td>365</td>\n",
       "    </tr>\n",
       "    <tr>\n",
       "      <th>1</th>\n",
       "      <td>2</td>\n",
       "      <td>3</td>\n",
       "      <td>376</td>\n",
       "    </tr>\n",
       "    <tr>\n",
       "      <th>2</th>\n",
       "      <td>3</td>\n",
       "      <td>1</td>\n",
       "      <td>411</td>\n",
       "    </tr>\n",
       "    <tr>\n",
       "      <th>3</th>\n",
       "      <td>4</td>\n",
       "      <td>3</td>\n",
       "      <td>436</td>\n",
       "    </tr>\n",
       "    <tr>\n",
       "      <th>4</th>\n",
       "      <td>5</td>\n",
       "      <td>2</td>\n",
       "      <td>366</td>\n",
       "    </tr>\n",
       "    <tr>\n",
       "      <th>...</th>\n",
       "      <td>...</td>\n",
       "      <td>...</td>\n",
       "      <td>...</td>\n",
       "    </tr>\n",
       "    <tr>\n",
       "      <th>195</th>\n",
       "      <td>196</td>\n",
       "      <td>1</td>\n",
       "      <td>431</td>\n",
       "    </tr>\n",
       "    <tr>\n",
       "      <th>196</th>\n",
       "      <td>197</td>\n",
       "      <td>3</td>\n",
       "      <td>330</td>\n",
       "    </tr>\n",
       "    <tr>\n",
       "      <th>197</th>\n",
       "      <td>198</td>\n",
       "      <td>1</td>\n",
       "      <td>311</td>\n",
       "    </tr>\n",
       "    <tr>\n",
       "      <th>198</th>\n",
       "      <td>199</td>\n",
       "      <td>1</td>\n",
       "      <td>358</td>\n",
       "    </tr>\n",
       "    <tr>\n",
       "      <th>199</th>\n",
       "      <td>200</td>\n",
       "      <td>2</td>\n",
       "      <td>468</td>\n",
       "    </tr>\n",
       "  </tbody>\n",
       "</table>\n",
       "<p>200 rows × 3 columns</p>\n",
       "</div>"
      ],
      "text/plain": [
       "     Student_ID  Semester  Total_Marks\n",
       "0             1         1          365\n",
       "1             2         3          376\n",
       "2             3         1          411\n",
       "3             4         3          436\n",
       "4             5         2          366\n",
       "..          ...       ...          ...\n",
       "195         196         1          431\n",
       "196         197         3          330\n",
       "197         198         1          311\n",
       "198         199         1          358\n",
       "199         200         2          468\n",
       "\n",
       "[200 rows x 3 columns]"
      ]
     },
     "execution_count": 4,
     "metadata": {},
     "output_type": "execute_result"
    }
   ],
   "source": [
    "df = pd.read_csv(\"https://raw.githubusercontent.com/patilkundan/datasets/main/Semester%20marks.csv\")\n",
    "df"
   ]
  },
  {
   "cell_type": "markdown",
   "id": "8a287f1f",
   "metadata": {},
   "source": [
    "<font face = \"Verdana\" size = \"3\">As per ANOVA we need to find continues data based on the categorical variable.\n",
    "<br>• Total_Marks is continues variable and\n",
    "<br>• Semester is categorical variable.\n",
    "<font face = \"Verdana\" size = \"3\">\n",
    "<br>Ho is Average marks of each semester are almost equal.\n",
    "<br>Ha is all are not equal"
   ]
  },
  {
   "cell_type": "code",
   "execution_count": 5,
   "id": "b50518e8",
   "metadata": {},
   "outputs": [
    {
     "data": {
      "text/plain": [
       "<statsmodels.regression.linear_model.RegressionResultsWrapper at 0x25bca386f10>"
      ]
     },
     "execution_count": 5,
     "metadata": {},
     "output_type": "execute_result"
    }
   ],
   "source": [
    "import numpy as np\n",
    "import statsmodels.formula.api as sm\n",
    "mod=sm.ols('Total_Marks~Semester', data=df).fit()\n",
    "mod"
   ]
  },
  {
   "cell_type": "code",
   "execution_count": 6,
   "id": "ec38acbd",
   "metadata": {},
   "outputs": [
    {
     "data": {
      "text/html": [
       "<div>\n",
       "<style scoped>\n",
       "    .dataframe tbody tr th:only-of-type {\n",
       "        vertical-align: middle;\n",
       "    }\n",
       "\n",
       "    .dataframe tbody tr th {\n",
       "        vertical-align: top;\n",
       "    }\n",
       "\n",
       "    .dataframe thead th {\n",
       "        text-align: right;\n",
       "    }\n",
       "</style>\n",
       "<table border=\"1\" class=\"dataframe\">\n",
       "  <thead>\n",
       "    <tr style=\"text-align: right;\">\n",
       "      <th></th>\n",
       "      <th>df</th>\n",
       "      <th>sum_sq</th>\n",
       "      <th>mean_sq</th>\n",
       "      <th>F</th>\n",
       "      <th>PR(&gt;F)</th>\n",
       "    </tr>\n",
       "  </thead>\n",
       "  <tbody>\n",
       "    <tr>\n",
       "      <th>Semester</th>\n",
       "      <td>1.0</td>\n",
       "      <td>291.846746</td>\n",
       "      <td>291.846746</td>\n",
       "      <td>0.102572</td>\n",
       "      <td>0.749102</td>\n",
       "    </tr>\n",
       "    <tr>\n",
       "      <th>Residual</th>\n",
       "      <td>198.0</td>\n",
       "      <td>563366.873254</td>\n",
       "      <td>2845.287239</td>\n",
       "      <td>NaN</td>\n",
       "      <td>NaN</td>\n",
       "    </tr>\n",
       "  </tbody>\n",
       "</table>\n",
       "</div>"
      ],
      "text/plain": [
       "             df         sum_sq      mean_sq         F    PR(>F)\n",
       "Semester    1.0     291.846746   291.846746  0.102572  0.749102\n",
       "Residual  198.0  563366.873254  2845.287239       NaN       NaN"
      ]
     },
     "execution_count": 6,
     "metadata": {},
     "output_type": "execute_result"
    }
   ],
   "source": [
    "import statsmodels.api as k\n",
    "aov_table=k.stats.anova_lm (mod, typ=1)\n",
    "aov_table"
   ]
  },
  {
   "cell_type": "code",
   "execution_count": 7,
   "id": "a0d9994b",
   "metadata": {},
   "outputs": [],
   "source": [
    "# this will give f score and pr(>f) which means p value \n",
    "# this p value is greater than 0.05 which means ho is accepted"
   ]
  },
  {
   "cell_type": "markdown",
   "id": "4d68fdef",
   "metadata": {},
   "source": [
    "<font face = \"Verdana\" size = \"3\"> Let's see manually if the average marks of each semester are close to each other"
   ]
  },
  {
   "cell_type": "code",
   "execution_count": 9,
   "id": "f04f4f11",
   "metadata": {},
   "outputs": [
    {
     "name": "stdout",
     "output_type": "stream",
     "text": [
      "1st sem avg marks :  403.0\n",
      "2nd sem avg marks :  393.0\n",
      "3st sem avg marks :  406.0\n"
     ]
    }
   ],
   "source": [
    "# now checking other way\n",
    "# 1 sem avg marks\n",
    "print ('1st sem avg marks : ' , np.ceil (df['Total_Marks'] [df['Semester'] == 1] .mean()))\n",
    "# 2 sem avg marks\n",
    "print ('2nd sem avg marks : ' , np.ceil (df['Total_Marks'] [df['Semester'] == 2] .mean()))\n",
    "# 3 sem avg marks\n",
    "print ('3st sem avg marks : ' , np.ceil (df['Total_Marks'] [df['Semester'] == 3] .mean()))"
   ]
  },
  {
   "cell_type": "markdown",
   "id": "ba99b3f9",
   "metadata": {},
   "source": [
    "<font face = \"Verdana\" size = \"5\"> Chi-Square Test"
   ]
  },
  {
   "cell_type": "markdown",
   "id": "d4f9f154",
   "metadata": {},
   "source": [
    "<font face = \"Verdana\" size = \"3\">This test most of the time used for,\n",
    "• Goodness of fit to a distribution: The Chi-squared test can be used to determine whether your data obeys a known theoretical probability distribution"
   ]
  },
  {
   "cell_type": "markdown",
   "id": "80c88006",
   "metadata": {},
   "source": [
    "<img src=\"https://raw.githubusercontent.com/patilkundan/images/main/chi2.png\"  width=\"450\" height=\"450\">\n",
    "<img src=\"https://raw.githubusercontent.com/patilkundan/images/main/chi21.png\"  width=\"450\" height=\"450\">\n",
    "<img src=\"https://raw.githubusercontent.com/patilkundan/images/main/chi22.png\"  width=\"450\" height=\"450\">"
   ]
  },
  {
   "cell_type": "markdown",
   "id": "7bef836a",
   "metadata": {},
   "source": [
    "<font face = \"Verdana\" size = \"3\">Example - How much sales we can expect this week (let's say pizza business). According to salesman below are the details.<br>\n",
    "<img src=\"https://raw.githubusercontent.com/patilkundan/images/main/eo.png\"  width=\"450\" height=\"450\">"
   ]
  },
  {
   "cell_type": "markdown",
   "id": "505cc3f0",
   "metadata": {},
   "source": [
    "<font face = \"Verdana\" size = \"3\">Let's understand how to work on this situation.\n",
    "We will do this hypothesis testing with a significance of 10% (0.1). ( This will be given or you can test according to business interest)"
   ]
  },
  {
   "cell_type": "markdown",
   "id": "b9364c74",
   "metadata": {},
   "source": [
    "<img src=\"https://raw.githubusercontent.com/patilkundan/images/main/chi2f.png\"  width=\"450\" height=\"450\">"
   ]
  },
  {
   "cell_type": "code",
   "execution_count": 10,
   "id": "8a1d7f27",
   "metadata": {},
   "outputs": [],
   "source": [
    "expected = [25,28,21,30,45,58,57]\n",
    "observed = [23,26,25,31,48,63,50]"
   ]
  },
  {
   "cell_type": "code",
   "execution_count": 12,
   "id": "250b0ae3",
   "metadata": {},
   "outputs": [
    {
     "name": "stdout",
     "output_type": "stream",
     "text": [
      "Our chi square test statistics score =  2.5887788436608763\n"
     ]
    }
   ],
   "source": [
    "chi_ind = [np.square (23-25)/25, # M\n",
    "          np.square (26-28)/28,  #T\n",
    "          np.square (25-21)/21,  #W\n",
    "          np.square (31-30)/30,  #Th\n",
    "          np.square (48-45)/45,  #F\n",
    "          np.square (63-58)/58,  #S\n",
    "          np.square (50-57)/57]  #Sun\n",
    "print ('Our chi square test statistics score = ' , np.sum(chi_ind))"
   ]
  },
  {
   "cell_type": "markdown",
   "id": "35371c00",
   "metadata": {},
   "source": [
    "<font face = \"Verdana\" size = \"3\"> Let's check Chi-Square distribution table"
   ]
  },
  {
   "cell_type": "markdown",
   "id": "4ed96121",
   "metadata": {},
   "source": [
    "<font face = \"Verdana\" size = \"3\"> What is the Chi-Square Distribution Table?<br>\n",
    "The Chi-Square distribution table is a table that<mark> shows the critical values</mark> of the Chi-Square distribution. To use the Chi-Square distribution table, you only need\n",
    "to know two values:<br>\n",
    "<br>• The degrees of freedom for the Chi-Square test\n",
    "<br>• The alpha level for the test (common choices are 0.01, 0.05, and 0.10) .. Means how much error i am allowing to do"
   ]
  },
  {
   "cell_type": "markdown",
   "id": "f6c3738d",
   "metadata": {},
   "source": [
    "<font face = \"Verdana\" size = \"3\"><b>Degrees of Freedom </b>- Which means you are allowed to choose/vary the data at certain extent, means freedom is given to vary the data.<br>\n",
    "Example- (N-1). Here N is total events. i.e (7 - 1) = 6<br>\n",
    "    Here events is day  "
   ]
  },
  {
   "cell_type": "markdown",
   "id": "89df9669",
   "metadata": {},
   "source": [
    "<font face = \"Verdana\" size = \"3\"><b>DF = 6 and significance level = 0.10<br></b>\n",
    "<br>AND our test score = 2.58\n",
    "    \n",
    " <font face = \"Verdana\" size = \"3\">   \n",
    "<br>Let's check the critical score where DF and significance level converge"
   ]
  },
  {
   "cell_type": "markdown",
   "id": "dbe8e2aa",
   "metadata": {},
   "source": [
    "<img src=\"https://raw.githubusercontent.com/patilkundan/images/main/chi_square_table_small.jpg\"  width=\"550\" height=\"250\">\n",
    "<img src=\"https://raw.githubusercontent.com/patilkundan/images/main/cht.png\"  width=\"550\" height=\"250\">"
   ]
  },
  {
   "cell_type": "markdown",
   "id": "5500af29",
   "metadata": {},
   "source": [
    "<img src=\"https://raw.githubusercontent.com/patilkundan/images/main/cns.png\"  width=\"750\" height=\"450\">"
   ]
  },
  {
   "cell_type": "markdown",
   "id": "9541b198",
   "metadata": {},
   "source": [
    "<font face = \"Verdana\" size = \"3\"> Some are use full links are given below to clear doubt on above topics  \n",
    "- https://youtu.be/WUjsSB7E-ko  \n",
    "- https://youtu.be/x_gHAly3mJo?si=Uw80AEhKjNYw99ZD\n",
    "- https://youtu.be/heStI3wbkks"
   ]
  },
  {
   "cell_type": "code",
   "execution_count": null,
   "id": "762d64a3",
   "metadata": {},
   "outputs": [],
   "source": []
  }
 ],
 "metadata": {
  "kernelspec": {
   "display_name": "Python 3 (ipykernel)",
   "language": "python",
   "name": "python3"
  },
  "language_info": {
   "codemirror_mode": {
    "name": "ipython",
    "version": 3
   },
   "file_extension": ".py",
   "mimetype": "text/x-python",
   "name": "python",
   "nbconvert_exporter": "python",
   "pygments_lexer": "ipython3",
   "version": "3.9.12"
  }
 },
 "nbformat": 4,
 "nbformat_minor": 5
}
