{
 "cells": [
  {
   "cell_type": "markdown",
   "id": "f8974d11",
   "metadata": {},
   "source": [
    "# List \n",
    " * List is some type of <font color='#ff00ff'> container </font>\n",
    " * Lists are used to store <font color='#ff00ff'> multiple </font> items in a <font color='#ff00ff'> single variable.</font> eg As emp name , emp salary , student roll number\n",
    " * It can take <font color='#ff00ff'> any type of data. </font>\n",
    " * Lists are created using square brackets:<font color='#ff00ff'> [ ] </font>\n",
    " * List items are <font color='#ff00ff'> ordered, changeable, and allow duplicate values. </font>\n",
    " * List is <font color='#ff00ff'> editable </font>\n",
    " * List items are indexed, the first item has index <font color='#ff00ff'>  [0] </font>, the second item has index <font color='#ff00ff'> [1] </font> etc."
   ]
  },
  {
   "cell_type": "markdown",
   "id": "ea037278",
   "metadata": {},
   "source": [
    "How to  create empty list"
   ]
  },
  {
   "cell_type": "code",
   "execution_count": 1,
   "id": "79436a12",
   "metadata": {},
   "outputs": [
    {
     "data": {
      "text/plain": [
       "[]"
      ]
     },
     "execution_count": 1,
     "metadata": {},
     "output_type": "execute_result"
    }
   ],
   "source": [
    "l =[]\n",
    "l"
   ]
  },
  {
   "cell_type": "code",
   "execution_count": 2,
   "id": "e7dd15a4",
   "metadata": {},
   "outputs": [
    {
     "data": {
      "text/plain": [
       "[]"
      ]
     },
     "execution_count": 2,
     "metadata": {},
     "output_type": "execute_result"
    }
   ],
   "source": [
    "list()"
   ]
  },
  {
   "cell_type": "code",
   "execution_count": 3,
   "id": "07446a20",
   "metadata": {},
   "outputs": [
    {
     "data": {
      "text/plain": [
       "['a', 'b', 'c', 'd']"
      ]
     },
     "execution_count": 3,
     "metadata": {},
     "output_type": "execute_result"
    }
   ],
   "source": [
    "l = ['a', 'b' , 'c' , 'd' ]\n",
    "l"
   ]
  },
  {
   "cell_type": "code",
   "execution_count": 7,
   "id": "a0f1db21",
   "metadata": {},
   "outputs": [
    {
     "data": {
      "text/plain": [
       "['a', 6, 9.16]"
      ]
     },
     "execution_count": 7,
     "metadata": {},
     "output_type": "execute_result"
    }
   ],
   "source": [
    "l = [ 'a' , 6, 9.16]\n",
    "l"
   ]
  },
  {
   "cell_type": "code",
   "execution_count": 8,
   "id": "e4115fd8",
   "metadata": {},
   "outputs": [
    {
     "data": {
      "text/plain": [
       "['a', 6, 9.16]"
      ]
     },
     "execution_count": 8,
     "metadata": {},
     "output_type": "execute_result"
    }
   ],
   "source": [
    "# How to  copy into  other list \n",
    "l2 = list(l)\n",
    "l2"
   ]
  },
  {
   "cell_type": "code",
   "execution_count": 11,
   "id": "198add22",
   "metadata": {},
   "outputs": [
    {
     "data": {
      "text/plain": [
       "[20, 30, 50, 60, 100]"
      ]
     },
     "execution_count": 11,
     "metadata": {},
     "output_type": "execute_result"
    }
   ],
   "source": [
    "marks = [20,30,50,60,100]\n",
    "marks"
   ]
  },
  {
   "cell_type": "code",
   "execution_count": 12,
   "id": "9d70461e",
   "metadata": {},
   "outputs": [],
   "source": [
    "copy_marks = marks.copy()"
   ]
  },
  {
   "cell_type": "code",
   "execution_count": 13,
   "id": "2e2dff85",
   "metadata": {},
   "outputs": [
    {
     "data": {
      "text/plain": [
       "[20, 30, 50, 60, 100]"
      ]
     },
     "execution_count": 13,
     "metadata": {},
     "output_type": "execute_result"
    }
   ],
   "source": [
    "copy_marks"
   ]
  },
  {
   "cell_type": "code",
   "execution_count": 15,
   "id": "271fc7a2",
   "metadata": {},
   "outputs": [
    {
     "data": {
      "text/plain": [
       "['s', 'h', 'a', 'n', 'k', 'a', 'r']"
      ]
     },
     "execution_count": 15,
     "metadata": {},
     "output_type": "execute_result"
    }
   ],
   "source": [
    "list( 'shankar')"
   ]
  },
  {
   "cell_type": "code",
   "execution_count": 16,
   "id": "6bbe4a9c",
   "metadata": {},
   "outputs": [
    {
     "ename": "TypeError",
     "evalue": "'int' object is not iterable",
     "output_type": "error",
     "traceback": [
      "\u001b[1;31m---------------------------------------------------------------------------\u001b[0m",
      "\u001b[1;31mTypeError\u001b[0m                                 Traceback (most recent call last)",
      "Input \u001b[1;32mIn [16]\u001b[0m, in \u001b[0;36m<cell line: 1>\u001b[1;34m()\u001b[0m\n\u001b[1;32m----> 1\u001b[0m \u001b[38;5;28;43mlist\u001b[39;49m\u001b[43m(\u001b[49m\u001b[38;5;241;43m123456\u001b[39;49m\u001b[43m)\u001b[49m\n",
      "\u001b[1;31mTypeError\u001b[0m: 'int' object is not iterable"
     ]
    }
   ],
   "source": [
    "list(123456)   # not allowed or not iterable"
   ]
  },
  {
   "cell_type": "code",
   "execution_count": 17,
   "id": "56a062cf",
   "metadata": {},
   "outputs": [
    {
     "name": "stdout",
     "output_type": "stream",
     "text": [
      "Collecting jedi==0.17.2\n",
      "  Downloading jedi-0.17.2-py2.py3-none-any.whl (1.4 MB)\n",
      "Collecting parso<0.8.0,>=0.7.0\n",
      "  Downloading parso-0.7.1-py2.py3-none-any.whl (109 kB)\n",
      "Installing collected packages: parso, jedi\n",
      "  Attempting uninstall: parso\n",
      "    Found existing installation: parso 0.8.3\n",
      "    Uninstalling parso-0.8.3:\n",
      "      Successfully uninstalled parso-0.8.3\n",
      "  Attempting uninstall: jedi\n",
      "    Found existing installation: jedi 0.18.1\n",
      "    Uninstalling jedi-0.18.1:\n",
      "      Successfully uninstalled jedi-0.18.1\n",
      "Successfully installed jedi-0.17.2 parso-0.7.1\n"
     ]
    },
    {
     "name": "stderr",
     "output_type": "stream",
     "text": [
      "ERROR: pip's dependency resolver does not currently take into account all the packages that are installed. This behaviour is the source of the following dependency conflicts.\n",
      "spyder 5.1.5 requires pyqt5<5.13, which is not installed.\n",
      "spyder 5.1.5 requires pyqtwebengine<5.13, which is not installed.\n"
     ]
    }
   ],
   "source": [
    "!pip3 install jedi==0.17.2"
   ]
  },
  {
   "cell_type": "code",
   "execution_count": null,
   "id": "3c35a0b5",
   "metadata": {},
   "outputs": [],
   "source": [
    "# adding. you can append to a list very easily (add to the end ) or insert at any atrbitary index"
   ]
  },
  {
   "cell_type": "markdown",
   "id": "a963a36e",
   "metadata": {},
   "source": [
    "# Append Items\n",
    " * To add an item to the <font color='#ff00ff'> end </font> of the list, use the <font color='#ff00ff'> append() </font> method:\n"
   ]
  },
  {
   "cell_type": "code",
   "execution_count": 18,
   "id": "3c97ddcb",
   "metadata": {},
   "outputs": [
    {
     "name": "stdout",
     "output_type": "stream",
     "text": [
      "['apple', 'banana', 'cherry', 'orange']\n"
     ]
    }
   ],
   "source": [
    "thislist = [\"apple\", \"banana\", \"cherry\"]\n",
    "thislist.append(\"orange\")\n",
    "print(thislist)"
   ]
  },
  {
   "cell_type": "code",
   "execution_count": 19,
   "id": "d398c2e0",
   "metadata": {},
   "outputs": [
    {
     "data": {
      "text/plain": [
       "['apple', 'banana', 'cherry', 'orange']"
      ]
     },
     "execution_count": 19,
     "metadata": {},
     "output_type": "execute_result"
    }
   ],
   "source": [
    "thislist"
   ]
  },
  {
   "cell_type": "code",
   "execution_count": 20,
   "id": "ffe12c31",
   "metadata": {},
   "outputs": [
    {
     "ename": "TypeError",
     "evalue": "list.append() takes exactly one argument (2 given)",
     "output_type": "error",
     "traceback": [
      "\u001b[1;31m---------------------------------------------------------------------------\u001b[0m",
      "\u001b[1;31mTypeError\u001b[0m                                 Traceback (most recent call last)",
      "Input \u001b[1;32mIn [20]\u001b[0m, in \u001b[0;36m<cell line: 1>\u001b[1;34m()\u001b[0m\n\u001b[1;32m----> 1\u001b[0m \u001b[43mthislist\u001b[49m\u001b[38;5;241;43m.\u001b[39;49m\u001b[43mappend\u001b[49m\u001b[43m(\u001b[49m\u001b[38;5;124;43m\"\u001b[39;49m\u001b[38;5;124;43mpinaple\u001b[39;49m\u001b[38;5;124;43m\"\u001b[39;49m\u001b[43m \u001b[49m\u001b[43m,\u001b[49m\u001b[43m \u001b[49m\u001b[38;5;124;43m'\u001b[39;49m\u001b[38;5;124;43mwatermelon\u001b[39;49m\u001b[38;5;124;43m'\u001b[39;49m\u001b[43m \u001b[49m\u001b[43m)\u001b[49m\n",
      "\u001b[1;31mTypeError\u001b[0m: list.append() takes exactly one argument (2 given)"
     ]
    }
   ],
   "source": [
    "thislist.append(\"pinaple\" , 'watermelon' )  # only one argument can be added at a time "
   ]
  },
  {
   "cell_type": "code",
   "execution_count": 21,
   "id": "3d4518e9",
   "metadata": {},
   "outputs": [],
   "source": [
    "thislist.append(\"pinaple\" )   # if you wish to add multiple argument or item \n",
    "thislist.append(\"pinaple\" )\n",
    "thislist.append(\"watermelon\" )"
   ]
  },
  {
   "cell_type": "code",
   "execution_count": 22,
   "id": "e858f0a5",
   "metadata": {},
   "outputs": [
    {
     "data": {
      "text/plain": [
       "['apple', 'banana', 'cherry', 'orange', 'pinaple', 'pinaple', 'watermelon']"
      ]
     },
     "execution_count": 22,
     "metadata": {},
     "output_type": "execute_result"
    }
   ],
   "source": [
    "thislist"
   ]
  },
  {
   "cell_type": "markdown",
   "id": "209e4dc2",
   "metadata": {},
   "source": [
    "# Index & insert \n",
    "  * Two  arguments can be placed in insert method.\n",
    "  * <b>syntax :</b> insert (<font color='#ff00ff'> index </font> ,<font color='#ff00ff'> object </font>)\n",
    "  * This method placed the object at the index supplied \n",
    "  <img src="https://"lists-indexing-and-splitting.png"  width=\"250\" height=\"350\">"
   ]
  },
  {
   "cell_type": "code",
   "execution_count": 23,
   "id": "36ee21c9",
   "metadata": {},
   "outputs": [
    {
     "data": {
      "text/plain": [
       "['radha ', 'krishna ', 'ramesh ', 'sachin']"
      ]
     },
     "execution_count": 23,
     "metadata": {},
     "output_type": "execute_result"
    }
   ],
   "source": [
    "emp =['radha ' , 'krishna ', 'ramesh ' , 'sachin']\n",
    "emp"
   ]
  },
  {
   "cell_type": "code",
   "execution_count": 25,
   "id": "7b0996fd",
   "metadata": {},
   "outputs": [
    {
     "data": {
      "text/plain": [
       "['radha ', 'krishna ', \"d' Souza\", \"d' Souza\", 'ramesh ', 'sachin']"
      ]
     },
     "execution_count": 25,
     "metadata": {},
     "output_type": "execute_result"
    }
   ],
   "source": [
    "# use the double inverted quotation if your string has quoation\n",
    "emp.insert (2, \"d' Souza\")\n",
    "emp"
   ]
  },
  {
   "cell_type": "code",
   "execution_count": 1,
   "id": "eefaf095",
   "metadata": {},
   "outputs": [
    {
     "data": {
      "text/plain": [
       "'C:\\\\Users\\\\Kundan Patil'"
      ]
     },
     "execution_count": 1,
     "metadata": {},
     "output_type": "execute_result"
    }
   ],
   "source": [
    "pwd"
   ]
  },
  {
   "cell_type": "code",
   "execution_count": 1,
   "id": "34b4f4a6",
   "metadata": {},
   "outputs": [],
   "source": [
    "#Insert an item as the second position:\n",
    "thislist = [\"apple\", \"banana\", \"cherry\"]\n",
    "thislist.insert(1, \"orange\")\n"
   ]
  },
  {
   "cell_type": "code",
   "execution_count": 2,
   "id": "936a751e",
   "metadata": {},
   "outputs": [
    {
     "name": "stdout",
     "output_type": "stream",
     "text": [
      "['apple', 'orange', 'banana', 'cherry']\n"
     ]
    }
   ],
   "source": [
    "print(thislist)"
   ]
  },
  {
   "cell_type": "markdown",
   "id": "de787df4",
   "metadata": {},
   "source": [
    "# List Length\n",
    " * To determine how many items a list has, use the <font color='#ff00ff'> len() </font> function:\n"
   ]
  },
  {
   "cell_type": "code",
   "execution_count": 3,
   "id": "b959ded8",
   "metadata": {},
   "outputs": [
    {
     "name": "stdout",
     "output_type": "stream",
     "text": [
      "3\n"
     ]
    }
   ],
   "source": [
    "thislist = [\"apple\", \"banana\", \"cherry\"]\n",
    "print(len(thislist))"
   ]
  },
  {
   "cell_type": "markdown",
   "id": "e051a2e5",
   "metadata": {},
   "source": [
    "# extend vs append "
   ]
  },
  {
   "cell_type": "code",
   "execution_count": 7,
   "id": "484534da",
   "metadata": {},
   "outputs": [],
   "source": [
    "thislist = [\"apple\", \"banana\", \"cherry\"]\n"
   ]
  },
  {
   "cell_type": "code",
   "execution_count": 11,
   "id": "1bef4bd4",
   "metadata": {},
   "outputs": [],
   "source": [
    "thislist.append([\"orange\" , \"watermelon\"])  #[\"apple\", \"banana\", \"cherry\" ,\"orange\" , \"watermelon\"] --This our expections"
   ]
  },
  {
   "cell_type": "code",
   "execution_count": 10,
   "id": "976a33be",
   "metadata": {},
   "outputs": [
    {
     "data": {
      "text/plain": [
       "['apple',\n",
       " 'banana',\n",
       " 'cherry',\n",
       " ['orange', 'watermelon'],\n",
       " ['orange', 'watermelon']]"
      ]
     },
     "execution_count": 10,
     "metadata": {},
     "output_type": "execute_result"
    }
   ],
   "source": [
    "thislist  # See the below output--- that  does'nt meet to our expections"
   ]
  },
  {
   "cell_type": "code",
   "execution_count": 12,
   "id": "de804158",
   "metadata": {},
   "outputs": [],
   "source": [
    "thislist = [\"apple\", \"banana\", \"cherry\"]"
   ]
  },
  {
   "cell_type": "code",
   "execution_count": 13,
   "id": "585a12e7",
   "metadata": {},
   "outputs": [],
   "source": [
    "thislist.extend([\"orange\" , \"watermelon\"]) "
   ]
  },
  {
   "cell_type": "code",
   "execution_count": 14,
   "id": "6a9d8704",
   "metadata": {},
   "outputs": [
    {
     "data": {
      "text/plain": [
       "['apple', 'banana', 'cherry', 'orange', 'watermelon']"
      ]
     },
     "execution_count": 14,
     "metadata": {},
     "output_type": "execute_result"
    }
   ],
   "source": [
    "thislist"
   ]
  },
  {
   "cell_type": "code",
   "execution_count": null,
   "id": "a7b2714a",
   "metadata": {},
   "outputs": [],
   "source": []
  }
 ],
 "metadata": {
  "kernelspec": {
   "display_name": "Python 3 (ipykernel)",
   "language": "python",
   "name": "python3"
  },
  "language_info": {
   "codemirror_mode": {
    "name": "ipython",
    "version": 3
   },
   "file_extension": ".py",
   "mimetype": "text/x-python",
   "name": "python",
   "nbconvert_exporter": "python",
   "pygments_lexer": "ipython3",
   "version": "3.9.12"
  }
 },
 "nbformat": 4,
 "nbformat_minor": 5
}
