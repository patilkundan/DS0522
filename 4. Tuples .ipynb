{
 "cells": [
  {
   "cell_type": "markdown",
   "id": "e0c6d813",
   "metadata": {},
   "source": [
    "# Tuples \n",
    " * Tuples are used to store <font color='#ff00ff'> multiple items </font> in a <font color='#ff00ff'> single variable</font>.\n",
    " * Tuple is one of 4 built-in data types in Python used to store collections of data, the other 3 are List, Set, and           Dictionary, all with different qualities and usage. It is <font color='#ff00ff'> similar to List </font>\n",
    " * A tuple is a collection which is <font color='#ff00ff'> ordered </font> and <font color='#ff00ff'> unchangeable</font>. Inmutable \n",
    " * Tuples are written with round brackets.<font color='#ff00ff'> ( ) </font>\n",
    " * You would use the tuple to present the data that should not be changed \n",
    " * Tuple items allow <font color='#ff00ff'>duplicate</font> values.\n",
    " * Tuple items are indexed, the first item has index [0], the second item has index [1] etc.\n",
    " * Tuple items can be of any data type:\n",
    " "
   ]
  },
  {
   "cell_type": "markdown",
   "id": "9d60fc18",
   "metadata": {},
   "source": [
    "# Counstructing the tuples / Create a Tuple:\n",
    " * Tuples are written with round brackets. ( )"
   ]
  },
  {
   "cell_type": "code",
   "execution_count": 1,
   "id": "d43a9db0",
   "metadata": {},
   "outputs": [
    {
     "name": "stdout",
     "output_type": "stream",
     "text": [
      "('apple', 'banana', 'cherry')\n"
     ]
    }
   ],
   "source": [
    "thistuple = (\"apple\", \"banana\", \"cherry\")\n",
    "print(thistuple)"
   ]
  },
  {
   "cell_type": "code",
   "execution_count": 2,
   "id": "1a33580d",
   "metadata": {},
   "outputs": [
    {
     "data": {
      "text/plain": [
       "tuple"
      ]
     },
     "execution_count": 2,
     "metadata": {},
     "output_type": "execute_result"
    }
   ],
   "source": [
    "type(thistuple)"
   ]
  },
  {
   "cell_type": "markdown",
   "id": "17bb65cc",
   "metadata": {},
   "source": [
    "## Tuple Items\n",
    "Tuple items are ordered, unchangeable, and allow duplicate values.\n",
    "\n",
    "Tuple items are indexed, the first item has index [0], the second item has index [1] etc."
   ]
  },
  {
   "cell_type": "markdown",
   "id": "367c849d",
   "metadata": {},
   "source": [
    "## Ordered\n",
    "When we say that tuples are ordered, it means that the items have a defined order, and that order will not change."
   ]
  },
  {
   "cell_type": "markdown",
   "id": "712e9a76",
   "metadata": {},
   "source": [
    "## Unchangeable\n",
    "Tuples are unchangeable, meaning that we cannot change, add or remove items after the tuple has been created."
   ]
  },
  {
   "cell_type": "markdown",
   "id": "171c8439",
   "metadata": {},
   "source": [
    "## Allow Duplicates\n",
    "Since tuples are indexed, they can have items with the same value:"
   ]
  },
  {
   "cell_type": "code",
   "execution_count": 4,
   "id": "0ba33ac0",
   "metadata": {},
   "outputs": [
    {
     "name": "stdout",
     "output_type": "stream",
     "text": [
      "('apple', 'banana', 'cherry', 'apple', 'cherry')\n"
     ]
    }
   ],
   "source": [
    "# Tuples allow duplicate values:\n",
    "\n",
    "thistuple = (\"apple\", \"banana\", \"cherry\", \"apple\", \"cherry\")\n",
    "print(thistuple)"
   ]
  },
  {
   "cell_type": "markdown",
   "id": "c4c67835",
   "metadata": {},
   "source": [
    "# Tuple Length\n",
    " * To determine how many items a tuple has, use the len() function:"
   ]
  },
  {
   "cell_type": "code",
   "execution_count": 5,
   "id": "606f35b6",
   "metadata": {},
   "outputs": [
    {
     "name": "stdout",
     "output_type": "stream",
     "text": [
      "3\n"
     ]
    }
   ],
   "source": [
    "thistuple = (\"apple\", \"banana\", \"cherry\")\n",
    "print(len(thistuple))"
   ]
  },
  {
   "cell_type": "markdown",
   "id": "93f9bf5f",
   "metadata": {},
   "source": [
    "## Create Tuple With One Item\n",
    "* To create a tuple with only one item, you have to add a comma after the item, otherwise Python will not recognize it as a tuple."
   ]
  },
  {
   "cell_type": "code",
   "execution_count": 6,
   "id": "68de0d07",
   "metadata": {},
   "outputs": [
    {
     "name": "stdout",
     "output_type": "stream",
     "text": [
      "<class 'tuple'>\n",
      "<class 'str'>\n"
     ]
    }
   ],
   "source": [
    "# One item tuple, remember the comma:\n",
    "\n",
    "thistuple = (\"apple\",)\n",
    "print(type(thistuple))\n",
    "\n",
    "#NOT a tuple\n",
    "thistuple = (\"apple\")\n",
    "print(type(thistuple))"
   ]
  },
  {
   "cell_type": "markdown",
   "id": "f630b7c5",
   "metadata": {},
   "source": [
    "# Tuple Items - Data Types\n",
    " * Tuple items can be of any data type:"
   ]
  },
  {
   "cell_type": "code",
   "execution_count": 7,
   "id": "9ab8f42d",
   "metadata": {},
   "outputs": [],
   "source": [
    "# String, int and boolean data types:\n",
    "\n",
    "tuple1 = (\"apple\", \"banana\", \"cherry\")\n",
    "tuple2 = (1, 5, 7, 9, 3)\n",
    "tuple3 = (True, False, False)"
   ]
  },
  {
   "cell_type": "code",
   "execution_count": 11,
   "id": "012c1b71",
   "metadata": {},
   "outputs": [],
   "source": [
    "# A tuple can contain different data types:\n",
    "# A tuple with strings, integers and boolean values:\n",
    "\n",
    "tuple1 = (\"abc\", 34, True, 40, \"male\")"
   ]
  },
  {
   "cell_type": "code",
   "execution_count": 13,
   "id": "ba26004a",
   "metadata": {},
   "outputs": [
    {
     "data": {
      "text/plain": [
       "list"
      ]
     },
     "execution_count": 13,
     "metadata": {},
     "output_type": "execute_result"
    }
   ],
   "source": [
    "# convert into list  and reassign or you can store in  new variable as per you need \n",
    "tuple1 = list(tuple1)\n",
    "type(tuple1)"
   ]
  },
  {
   "cell_type": "code",
   "execution_count": 14,
   "id": "aa6581d7",
   "metadata": {},
   "outputs": [
    {
     "data": {
      "text/plain": [
       "tuple"
      ]
     },
     "execution_count": 14,
     "metadata": {},
     "output_type": "execute_result"
    }
   ],
   "source": [
    "# convert into tuples and reassign or you can store in  new variable as per you need \n",
    "tuple1 = tuple(tuple1)\n",
    "type(tuple1)"
   ]
  },
  {
   "cell_type": "markdown",
   "id": "7c93169a",
   "metadata": {},
   "source": [
    "# Basic tuple methods\n",
    "Tuples have built-in methods, but not as list do. lets see two  samples of tuple bulit-in methods"
   ]
  },
  {
   "cell_type": "code",
   "execution_count": 18,
   "id": "b6d21d25",
   "metadata": {},
   "outputs": [
    {
     "data": {
      "text/plain": [
       "(50, 20, 30, 40, 10, 50)"
      ]
     },
     "execution_count": 18,
     "metadata": {},
     "output_type": "execute_result"
    }
   ],
   "source": [
    "number = ( 50,20,30,40,10,50)\n",
    "number"
   ]
  },
  {
   "cell_type": "code",
   "execution_count": 19,
   "id": "5e6a80be",
   "metadata": {},
   "outputs": [
    {
     "data": {
      "text/plain": [
       "0"
      ]
     },
     "execution_count": 19,
     "metadata": {},
     "output_type": "execute_result"
    }
   ],
   "source": [
    "# use .index to  enter a value and rturn the index \n",
    "number.index(50)"
   ]
  },
  {
   "cell_type": "code",
   "execution_count": 20,
   "id": "05d6c7e6",
   "metadata": {},
   "outputs": [
    {
     "data": {
      "text/plain": [
       "2"
      ]
     },
     "execution_count": 20,
     "metadata": {},
     "output_type": "execute_result"
    }
   ],
   "source": [
    "# use. count to  count the number of times a value appears\n",
    "number.count(50)"
   ]
  },
  {
   "cell_type": "code",
   "execution_count": null,
   "id": "bb5aae72",
   "metadata": {},
   "outputs": [],
   "source": []
  }
 ],
 "metadata": {
  "kernelspec": {
   "display_name": "Python 3 (ipykernel)",
   "language": "python",
   "name": "python3"
  },
  "language_info": {
   "codemirror_mode": {
    "name": "ipython",
    "version": 3
   },
   "file_extension": ".py",
   "mimetype": "text/x-python",
   "name": "python",
   "nbconvert_exporter": "python",
   "pygments_lexer": "ipython3",
   "version": "3.9.12"
  }
 },
 "nbformat": 4,
 "nbformat_minor": 5
}
