{
 "cells": [
  {
   "cell_type": "markdown",
   "id": "eac6732d",
   "metadata": {
    "slideshow": {
     "slide_type": "notes"
    }
   },
   "source": [
    " # <b>Data Types / Structures \n",
    " 1) Number<br>\n",
    " 2) string<br>\n",
    " 3) List <br>\n",
    " 4) Tuple<br>\n",
    " 5) Set<br>\n",
    " 6) Dictionary<br> \n",
    "    <img src=\"data type.png\"  width=\"950\" height=\"650\">\n",
    " "
   ]
  },
  {
   "cell_type": "markdown",
   "id": "5842ad61",
   "metadata": {
    "slideshow": {
     "slide_type": "notes"
    }
   },
   "source": [
    "# * <b>1) Number\n",
    "   ## * <b> 1.1) interges _(int)_ "
   ]
  },
  {
   "cell_type": "code",
   "execution_count": 2,
   "id": "b57b1a03",
   "metadata": {
    "slideshow": {
     "slide_type": "subslide"
    }
   },
   "outputs": [],
   "source": [
    "# Variable and data assignment \n",
    "# a  = variable \n",
    "# 20 = data\n",
    "\n",
    "a = 20"
   ]
  },
  {
   "cell_type": "code",
   "execution_count": 7,
   "id": "f21e7f3e",
   "metadata": {
    "slideshow": {
     "slide_type": "subslide"
    }
   },
   "outputs": [
    {
     "data": {
      "text/plain": [
       "20"
      ]
     },
     "execution_count": 7,
     "metadata": {},
     "output_type": "execute_result"
    }
   ],
   "source": [
    "a"
   ]
  },
  {
   "cell_type": "code",
   "execution_count": 8,
   "id": "94f671ef",
   "metadata": {},
   "outputs": [
    {
     "name": "stdout",
     "output_type": "stream",
     "text": [
      "20\n"
     ]
    }
   ],
   "source": [
    "# You can also  print explicity (recommended)\n",
    "print (a)"
   ]
  },
  {
   "cell_type": "markdown",
   "id": "722e2915",
   "metadata": {},
   "source": [
    "# <b> How to  check  data type ?"
   ]
  },
  {
   "cell_type": "code",
   "execution_count": 6,
   "id": "49a8e2fa",
   "metadata": {},
   "outputs": [
    {
     "data": {
      "text/plain": [
       "int"
      ]
     },
     "execution_count": 6,
     "metadata": {},
     "output_type": "execute_result"
    }
   ],
   "source": [
    "type (a)"
   ]
  },
  {
   "cell_type": "markdown",
   "id": "d55d9d87",
   "metadata": {},
   "source": [
    "* ##  <b>1.2) Float"
   ]
  },
  {
   "cell_type": "code",
   "execution_count": 16,
   "id": "1cbdd071",
   "metadata": {},
   "outputs": [
    {
     "name": "stdout",
     "output_type": "stream",
     "text": [
      "20.0\n"
     ]
    },
    {
     "data": {
      "text/plain": [
       "float"
      ]
     },
     "execution_count": 16,
     "metadata": {},
     "output_type": "execute_result"
    }
   ],
   "source": [
    "# you can assigne, print  and check datatype in same cell\n",
    "b = 20.0 \n",
    "print (b)\n",
    "b\n",
    "type(b)"
   ]
  },
  {
   "cell_type": "markdown",
   "id": "dad8606b",
   "metadata": {},
   "source": [
    "# <b> Let's do couple of mathematical opration "
   ]
  },
  {
   "cell_type": "code",
   "execution_count": 11,
   "id": "bcbc9b3c",
   "metadata": {},
   "outputs": [],
   "source": [
    "a = 10\n",
    "b = 20"
   ]
  },
  {
   "cell_type": "code",
   "execution_count": 12,
   "id": "39e863c8",
   "metadata": {},
   "outputs": [
    {
     "name": "stdout",
     "output_type": "stream",
     "text": [
      "30\n"
     ]
    }
   ],
   "source": [
    "c = a + b\n",
    "print (c)"
   ]
  },
  {
   "cell_type": "code",
   "execution_count": 13,
   "id": "a3a6e0a0",
   "metadata": {},
   "outputs": [
    {
     "name": "stdout",
     "output_type": "stream",
     "text": [
      "300\n"
     ]
    }
   ],
   "source": [
    "print (c * 10)"
   ]
  },
  {
   "cell_type": "markdown",
   "id": "2900c3fb",
   "metadata": {},
   "source": [
    "* ## <b> 1.3) Complex (_We dont use this in data scince_)"
   ]
  },
  {
   "cell_type": "code",
   "execution_count": 14,
   "id": "eadb43ee",
   "metadata": {},
   "outputs": [
    {
     "data": {
      "text/plain": [
       "complex"
      ]
     },
     "execution_count": 14,
     "metadata": {},
     "output_type": "execute_result"
    }
   ],
   "source": [
    "c = 6+2j\n",
    "type (c)"
   ]
  },
  {
   "cell_type": "markdown",
   "id": "d731e7bd",
   "metadata": {},
   "source": [
    "# <b> string \n",
    "     (note string can be written in ' , \" ,) "
   ]
  },
  {
   "cell_type": "code",
   "execution_count": 18,
   "id": "f9561dd0",
   "metadata": {},
   "outputs": [
    {
     "name": "stdout",
     "output_type": "stream",
     "text": [
      "Hello World\n"
     ]
    }
   ],
   "source": [
    "print('Hello World')"
   ]
  },
  {
   "cell_type": "code",
   "execution_count": 22,
   "id": "26b3b94c",
   "metadata": {},
   "outputs": [],
   "source": [
    "first_string = ' Python'\n",
    "Second_string = ' is a power full'\n",
    "third_string = ' language'"
   ]
  },
  {
   "cell_type": "markdown",
   "id": "8ee2b50e",
   "metadata": {},
   "source": [
    "## lets add the strings"
   ]
  },
  {
   "cell_type": "code",
   "execution_count": 23,
   "id": "3fcfb229",
   "metadata": {},
   "outputs": [
    {
     "name": "stdout",
     "output_type": "stream",
     "text": [
      " Python is a power full language\n"
     ]
    }
   ],
   "source": [
    "print (first_string + Second_string + third_string)"
   ]
  },
  {
   "cell_type": "code",
   "execution_count": 26,
   "id": "4c4b454b",
   "metadata": {},
   "outputs": [
    {
     "name": "stdout",
     "output_type": "stream",
     "text": [
      "woww Python is easy\n"
     ]
    }
   ],
   "source": [
    "print ('woww ' + 'Python is ' 'easy')"
   ]
  },
  {
   "cell_type": "markdown",
   "id": "bb70958b",
   "metadata": {},
   "source": [
    "## Other operation on strings"
   ]
  },
  {
   "cell_type": "code",
   "execution_count": 28,
   "id": "9d2f6370",
   "metadata": {},
   "outputs": [
    {
     "name": "stdout",
     "output_type": "stream",
     "text": [
      "day day day day day \n"
     ]
    }
   ],
   "source": [
    "print('day ' * 5)"
   ]
  },
  {
   "cell_type": "code",
   "execution_count": 29,
   "id": "6a7e36f1",
   "metadata": {},
   "outputs": [
    {
     "ename": "TypeError",
     "evalue": "can only concatenate str (not \"int\") to str",
     "output_type": "error",
     "traceback": [
      "\u001b[1;31m---------------------------------------------------------------------------\u001b[0m",
      "\u001b[1;31mTypeError\u001b[0m                                 Traceback (most recent call last)",
      "Input \u001b[1;32mIn [29]\u001b[0m, in \u001b[0;36m<cell line: 1>\u001b[1;34m()\u001b[0m\n\u001b[1;32m----> 1\u001b[0m \u001b[38;5;28mprint\u001b[39m(\u001b[38;5;124;43m'\u001b[39;49m\u001b[38;5;124;43mday \u001b[39;49m\u001b[38;5;124;43m'\u001b[39;49m\u001b[43m \u001b[49m\u001b[38;5;241;43m+\u001b[39;49m\u001b[43m \u001b[49m\u001b[38;5;241;43m2\u001b[39;49m)\n",
      "\u001b[1;31mTypeError\u001b[0m: can only concatenate str (not \"int\") to str"
     ]
    }
   ],
   "source": [
    "print('day ' + 2)"
   ]
  },
  {
   "cell_type": "markdown",
   "id": "730a2e9d",
   "metadata": {},
   "source": [
    "# How to convert number data type into string data type ?\n",
    "You can convert number into string data type but not viceversa"
   ]
  },
  {
   "cell_type": "code",
   "execution_count": 30,
   "id": "515563ff",
   "metadata": {},
   "outputs": [
    {
     "name": "stdout",
     "output_type": "stream",
     "text": [
      "day 2\n"
     ]
    }
   ],
   "source": [
    "print ('day ' + str(2))"
   ]
  },
  {
   "cell_type": "code",
   "execution_count": 33,
   "id": "23d94d3e",
   "metadata": {},
   "outputs": [],
   "source": [
    "# print(int('day ') + 2) ------ This is not allowed , it wil  give the error"
   ]
  },
  {
   "cell_type": "code",
   "execution_count": null,
   "id": "a067cb0c",
   "metadata": {},
   "outputs": [],
   "source": []
  }
 ],
 "metadata": {
  "kernelspec": {
   "display_name": "Python 3 (ipykernel)",
   "language": "python",
   "name": "python3"
  },
  "language_info": {
   "codemirror_mode": {
    "name": "ipython",
    "version": 3
   },
   "file_extension": ".py",
   "mimetype": "text/x-python",
   "name": "python",
   "nbconvert_exporter": "python",
   "pygments_lexer": "ipython3",
   "version": "3.9.12"
  }
 },
 "nbformat": 4,
 "nbformat_minor": 5
}
