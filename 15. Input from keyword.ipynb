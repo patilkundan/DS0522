{
 "cells": [
  {
   "cell_type": "markdown",
   "id": "8f35ecc1",
   "metadata": {},
   "source": [
    "# Input from User/Keyword"
   ]
  },
  {
   "cell_type": "code",
   "execution_count": 1,
   "id": "cf7c64fa",
   "metadata": {},
   "outputs": [
    {
     "name": "stdout",
     "output_type": "stream",
     "text": [
      "Enter your Name Kundan\n",
      "User Entered:  Kundan\n"
     ]
    }
   ],
   "source": [
    "# Program to take the input string from the user.\n",
    "name = input(\"Enter your Name \")\n",
    "print ('User Entered: ', name)"
   ]
  },
  {
   "cell_type": "markdown",
   "id": "20521c98",
   "metadata": {},
   "source": [
    "#### Let's understand how to make user to enter only Integers and strings"
   ]
  },
  {
   "cell_type": "code",
   "execution_count": 3,
   "id": "86083bfe",
   "metadata": {},
   "outputs": [
    {
     "name": "stdout",
     "output_type": "stream",
     "text": [
      "Enter maths score 10\n",
      "Enter Science score 20\n",
      "Your total marks  30\n"
     ]
    }
   ],
   "source": [
    "maths = int(input('Enter maths score '))\n",
    "science = int(input('Enter Science score '))\n",
    "total_marks = maths + science\n",
    "print ('Your total marks ', total_marks)"
   ]
  },
  {
   "cell_type": "markdown",
   "id": "14f5c210",
   "metadata": {},
   "source": [
    "#### How to check only letters"
   ]
  },
  {
   "cell_type": "code",
   "execution_count": 4,
   "id": "989282e4",
   "metadata": {},
   "outputs": [
    {
     "name": "stdout",
     "output_type": "stream",
     "text": [
      "Enter your name = 2\n",
      "Enter only alpha charactors\n"
     ]
    }
   ],
   "source": [
    "name=input('Enter your name = ')\n",
    "if name.isalpha():\n",
    "    print ('You Entered = ', name)\n",
    "else:\n",
    "    print ('Enter only alpha charactors')"
   ]
  },
  {
   "cell_type": "code",
   "execution_count": 4,
   "id": "320cf11b",
   "metadata": {},
   "outputs": [],
   "source": [
    "def phone_price (phone_make, phone_age, phone_model_GB):\n",
    "    if phone_make == 'iphone 11':\n",
    "        if 0 < phone_age <= 6:\n",
    "            if phone_model_GB == 64:\n",
    "                print('Rs 39,283 - Rs 41,713')\n",
    "            elif phone_model_GB == 128 :\n",
    "                print('Rs 45,835 - Rs 48,670')\n",
    "                \n",
    "        if 6 < phone_age <= 12:\n",
    "            if phone_model_GB == 64:\n",
    "                print('Rs 29,283 Rs 31,713')\n",
    "            elif phone_model_GB == 128 :\n",
    "                print('Rs 35,835 - Rs 38,670')\n",
    "                \n",
    "        elif phone_make == 'samsung':\n",
    "            if 0 < phone_age <= 6:\n",
    "                if phone_model_GB == 64:\n",
    "                    print('Rs 8,553 Rs 906')\n",
    "                elif phone_model_GB == 128 :\n",
    "                    print('Rs 711 - Rs 755')\n",
    "    else:\n",
    "        print ('No Stock right now, please visit after few days')"
   ]
  },
  {
   "cell_type": "code",
   "execution_count": 5,
   "id": "cc89cbb5",
   "metadata": {},
   "outputs": [
    {
     "name": "stdout",
     "output_type": "stream",
     "text": [
      "enter the phone maker -iphone 11\n",
      "enter how old is your phone in month -4\n",
      "enter the GB in number -64\n",
      "Rs 39,283 - Rs 41,713\n"
     ]
    }
   ],
   "source": [
    "phone = input('enter the phone maker -')\n",
    "month_old = int(input('enter how old is your phone in month -'))\n",
    "capacity = int(input('enter the GB in number -'))\n",
    "\n",
    "phone_price (phone ,month_old ,capacity)"
   ]
  },
  {
   "cell_type": "code",
   "execution_count": null,
   "id": "49901523",
   "metadata": {},
   "outputs": [],
   "source": []
  },
  {
   "cell_type": "code",
   "execution_count": null,
   "id": "11c5c4e0",
   "metadata": {},
   "outputs": [],
   "source": []
  }
 ],
 "metadata": {
  "kernelspec": {
   "display_name": "Python 3 (ipykernel)",
   "language": "python",
   "name": "python3"
  },
  "language_info": {
   "codemirror_mode": {
    "name": "ipython",
    "version": 3
   },
   "file_extension": ".py",
   "mimetype": "text/x-python",
   "name": "python",
   "nbconvert_exporter": "python",
   "pygments_lexer": "ipython3",
   "version": "3.9.12"
  }
 },
 "nbformat": 4,
 "nbformat_minor": 5
}
