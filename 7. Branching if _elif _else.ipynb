{
 "cells": [
  {
   "cell_type": "markdown",
   "id": "7c422a5d",
   "metadata": {},
   "source": [
    " <img src=\"ifelifelse.png\"  width=\"350\" height=\"350\">"
   ]
  },
  {
   "cell_type": "code",
   "execution_count": 1,
   "id": "5e8aabfb",
   "metadata": {},
   "outputs": [
    {
     "data": {
      "text/plain": [
       "'C:\\\\Users\\\\Kundan Patil'"
      ]
     },
     "execution_count": 1,
     "metadata": {},
     "output_type": "execute_result"
    }
   ],
   "source": [
    "pwd"
   ]
  },
  {
   "cell_type": "markdown",
   "id": "b294c1dd",
   "metadata": {},
   "source": [
    "# Note \n",
    " * else will not check any condition it will <font color='#ff00ff'> directly print the statement </font>\n",
    "   * else doesn't care about i --- or what is i  \n",
    " * elif is combination of if and else it will <font color='#ff00ff'> check the condition </font> with i \n"
   ]
  },
  {
   "cell_type": "markdown",
   "id": "c425d634",
   "metadata": {},
   "source": [
    "# The if statement\n",
    "\n",
    "In Python, branching is done using the if statement, which is written as follows:<br>\n",
    "\n",
    "if condition:<br>\n",
    "    Statement 1<br>\n",
    "    Statement 2<br>\n",
    "\n",
    "1) The condition can either be a variable or an expression.<br>\n",
    "2) If the condition evaluates to True, then the statements within the if block are executed. <br>\n",
    "3) Note the 4 spaces before statement1,statement 2 etc. The spaces inform Python that these statements are associated with the if statement above. <br>\n",
    "4) This technique of structuring code by adding spaces is called indentation.<br>\n",
    "\n",
    "Lets See a example:\n"
   ]
  },
  {
   "cell_type": "code",
   "execution_count": 7,
   "id": "f5f33d15",
   "metadata": {},
   "outputs": [
    {
     "name": "stdout",
     "output_type": "stream",
     "text": [
      "it is something else\n"
     ]
    }
   ],
   "source": [
    "i = 15\n",
    "if i < 10:\n",
    "    print('It is less than 10')\n",
    "else:\n",
    "    print('it is something else')\n"
   ]
  },
  {
   "cell_type": "code",
   "execution_count": 8,
   "id": "8869d989",
   "metadata": {},
   "outputs": [
    {
     "name": "stdout",
     "output_type": "stream",
     "text": [
      "it is something else\n"
     ]
    }
   ],
   "source": [
    "# You can also write in this way\n",
    "print('It is less than 10') if i < 10 else print ('it is something else')"
   ]
  },
  {
   "cell_type": "markdown",
   "id": "3e40945e",
   "metadata": {},
   "source": [
    "# Free Shipping message"
   ]
  },
  {
   "cell_type": "code",
   "execution_count": 11,
   "id": "dcf3ad77",
   "metadata": {},
   "outputs": [
    {
     "name": "stdout",
     "output_type": "stream",
     "text": [
      "please add  100 Rs worth of an item for free shipping\n"
     ]
    }
   ],
   "source": [
    "item_1 = 100\n",
    "item_2 = 300\n",
    "if (item_1+item_2) >= 500:\n",
    "    print(\"Your items are eligible for free shipping\")\n",
    "    \n",
    "else:\n",
    "    extra= 500 -(item_1 + item_2)\n",
    "    print('please add ' , extra , 'Rs worth of an item for free shipping')\n",
    "\n",
    "\n"
   ]
  },
  {
   "cell_type": "code",
   "execution_count": 12,
   "id": "e8daaa84",
   "metadata": {},
   "outputs": [
    {
     "name": "stdout",
     "output_type": "stream",
     "text": [
      "Both are not True\n"
     ]
    }
   ],
   "source": [
    "a = 200\n",
    "b = 33\n",
    "c = 500\n",
    "if a > b and c < a:\n",
    "    print(\"Both conditions are True\")\n",
    "else:\n",
    "    print ('Both are not True')\n",
    "\n"
   ]
  },
  {
   "cell_type": "code",
   "execution_count": 14,
   "id": "40bf403d",
   "metadata": {},
   "outputs": [
    {
     "name": "stdout",
     "output_type": "stream",
     "text": [
      "60 - Second Class\n"
     ]
    }
   ],
   "source": [
    "marks = 60\n",
    "if marks > 60:\n",
    "    if marks > 70:\n",
    "        print (marks, '- Distinction')\n",
    "    else:\n",
    "        print (marks, '- First Class')\n",
    "               \n",
    "elif marks > 50 and marks <= 60:\n",
    "    print (marks,'- Second Class')\n",
    "\n",
    "elif marks >= 35:\n",
    "    print (marks, 'Pass')\n",
    "           \n",
    "           \n",
    "else:\n",
    "    print (marks, 'Fail Better luck next time')\n"
   ]
  },
  {
   "cell_type": "code",
   "execution_count": 16,
   "id": "077af4f8",
   "metadata": {},
   "outputs": [
    {
     "name": "stdout",
     "output_type": "stream",
     "text": [
      "Its greater than 25\n"
     ]
    }
   ],
   "source": [
    "num1 = 20\n",
    "num2 = 30\n",
    "if num1 == '20': # '20' is string which  could not be compare \n",
    "    print ('Its not 20')\n",
    "elif num2 > 25:\n",
    "    print ('Its greater than 25')\n"
   ]
  },
  {
   "cell_type": "code",
   "execution_count": 17,
   "id": "c8cff54a",
   "metadata": {},
   "outputs": [],
   "source": []
  },
  {
   "cell_type": "code",
   "execution_count": null,
   "id": "acfc7370",
   "metadata": {},
   "outputs": [],
   "source": []
  }
 ],
 "metadata": {
  "kernelspec": {
   "display_name": "Python 3 (ipykernel)",
   "language": "python",
   "name": "python3"
  },
  "language_info": {
   "codemirror_mode": {
    "name": "ipython",
    "version": 3
   },
   "file_extension": ".py",
   "mimetype": "text/x-python",
   "name": "python",
   "nbconvert_exporter": "python",
   "pygments_lexer": "ipython3",
   "version": "3.9.12"
  }
 },
 "nbformat": 4,
 "nbformat_minor": 5
}
