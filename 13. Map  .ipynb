{
 "cells": [
  {
   "cell_type": "markdown",
   "id": "7afe1288",
   "metadata": {},
   "source": [
    "# Map:- \n",
    " * The map () is function  that take <font color='#ff00ff'>  two argument </font> : <br>\n",
    " * Applies a given function to all iterable & return a new list <br>\n",
    " * It takes a function & applies iterable to supply it <br>\n",
    " 1) function <br>\n",
    " 2) sequence iterable <br>\n",
    " \n",
    " In the form : map <font color='#ff00ff'>(function, sequence) </font> <br>\n",
    " First  argument is name of the function  <br>\n",
    " second argument is sequence (eg.list,set,tuples)\n",
    " \n"
   ]
  },
  {
   "cell_type": "code",
   "execution_count": 3,
   "id": "f367874b",
   "metadata": {},
   "outputs": [],
   "source": [
    "def fahrenheit (T):\n",
    "    return ((float (9)/5) *T + 32)\n",
    "\n",
    "def celsius (T):\n",
    "    return (float(5)/9) * (T-32)\n",
    "\n",
    "temp = [0, 22.5, 40,100]\n",
    "\n"
   ]
  },
  {
   "cell_type": "code",
   "execution_count": 4,
   "id": "0fa53048",
   "metadata": {},
   "outputs": [
    {
     "data": {
      "text/plain": [
       "[32.0, 72.5, 104.0, 212.0]"
      ]
     },
     "execution_count": 4,
     "metadata": {},
     "output_type": "execute_result"
    }
   ],
   "source": [
    "F_temps = list (map(fahrenheit, temp))\n",
    "\n",
    "#Show\n",
    "F_temps"
   ]
  },
  {
   "cell_type": "code",
   "execution_count": 5,
   "id": "57188f40",
   "metadata": {},
   "outputs": [
    {
     "data": {
      "text/plain": [
       "[0.0, 22.5, 40.0, 100.0]"
      ]
     },
     "execution_count": 5,
     "metadata": {},
     "output_type": "execute_result"
    }
   ],
   "source": [
    "# Convert back\n",
    "list (map (celsius, F_temps))"
   ]
  },
  {
   "cell_type": "code",
   "execution_count": 2,
   "id": "fd17dc03",
   "metadata": {},
   "outputs": [],
   "source": [
    "numbers = [\"3\", \"34\", \"64\"]  # we have converted here string data type into  int data type by using map \n",
    "numbers = list (map (int, numbers))"
   ]
  },
  {
   "cell_type": "code",
   "execution_count": 4,
   "id": "f72015be",
   "metadata": {},
   "outputs": [
    {
     "data": {
      "text/plain": [
       "[3, 34, 64]"
      ]
     },
     "execution_count": 4,
     "metadata": {},
     "output_type": "execute_result"
    }
   ],
   "source": [
    "numbers"
   ]
  },
  {
   "cell_type": "code",
   "execution_count": 5,
   "id": "20720edc",
   "metadata": {},
   "outputs": [
    {
     "name": "stdout",
     "output_type": "stream",
     "text": [
      "[4, 9, 25, 36, 5776, 9, 9, 4]\n"
     ]
    }
   ],
   "source": [
    "def sq (a):   \n",
    "    return a*a        # square function  \n",
    "num = [2,3,5,6,76,3,3,2]\n",
    "square = list (map (sq, num))\n",
    "print (square)"
   ]
  },
  {
   "cell_type": "code",
   "execution_count": 6,
   "id": "931d56fa",
   "metadata": {},
   "outputs": [
    {
     "name": "stdout",
     "output_type": "stream",
     "text": [
      "[4, 9, 25, 36, 5776, 9, 9, 4]\n"
     ]
    }
   ],
   "source": [
    "# by using lambda \n",
    "num = [2,3,5,6,76,3,3,2]\n",
    "square = list (map (lambda x: x*x , num))\n",
    "print (square)"
   ]
  },
  {
   "cell_type": "code",
   "execution_count": 2,
   "id": "0852cf54",
   "metadata": {},
   "outputs": [],
   "source": [
    "def grace_marks (marks):\n",
    "    if marks ==33:\n",
    "        return (marks + 2)\n",
    "    elif marks == 34:\n",
    "        return (marks + 1)\n",
    "    else:\n",
    "        return marks\n",
    "        \n",
    "    "
   ]
  },
  {
   "cell_type": "code",
   "execution_count": 3,
   "id": "c408a6db",
   "metadata": {},
   "outputs": [],
   "source": [
    "score = [50,34,32,33,31,35]"
   ]
  },
  {
   "cell_type": "code",
   "execution_count": 4,
   "id": "6c73a11a",
   "metadata": {},
   "outputs": [],
   "source": [
    "Total_marks=list(map(grace_marks,score))"
   ]
  },
  {
   "cell_type": "code",
   "execution_count": 5,
   "id": "bd18fceb",
   "metadata": {},
   "outputs": [
    {
     "name": "stdout",
     "output_type": "stream",
     "text": [
      "[50, 35, 32, 35, 31, 35]\n"
     ]
    }
   ],
   "source": [
    "print(Total_marks)"
   ]
  },
  {
   "cell_type": "code",
   "execution_count": 7,
   "id": "28101cba",
   "metadata": {},
   "outputs": [
    {
     "data": {
      "text/plain": [
       "3"
      ]
     },
     "execution_count": 7,
     "metadata": {},
     "output_type": "execute_result"
    }
   ],
   "source": [
    "# Count of students who just passed with marks 35\n",
    "Total_marks.count(35)"
   ]
  },
  {
   "cell_type": "markdown",
   "id": "e4e080a6",
   "metadata": {},
   "source": [
    "# filter()\n",
    "The function filter(function, list) offers a convenient way to filter out all the elements of an iterable, for which the function returns \"True\". <br>\n",
    "\n",
    "The function filter(function (),1) needs a function as its first argument. The function needs to return a Boolean value (either True or False). This function will be <br>\n",
    "applied to every element of the iterable. Only if the function returns \"True\" will the element of the iterable be included in the result. <br>\n",
    "Let's see some examples:"
   ]
  },
  {
   "cell_type": "code",
   "execution_count": 9,
   "id": "e1526144",
   "metadata": {},
   "outputs": [],
   "source": [
    "def filter_marks (marks):\n",
    "    if marks < 35:\n",
    "        return marks"
   ]
  },
  {
   "cell_type": "code",
   "execution_count": 11,
   "id": "17bed6ab",
   "metadata": {},
   "outputs": [],
   "source": [
    "score = [50,34,32,33,31,35]"
   ]
  },
  {
   "cell_type": "code",
   "execution_count": 12,
   "id": "326cccd7",
   "metadata": {},
   "outputs": [
    {
     "data": {
      "text/plain": [
       "[34, 32, 33, 31]"
      ]
     },
     "execution_count": 12,
     "metadata": {},
     "output_type": "execute_result"
    }
   ],
   "source": [
    "failed = list(filter (filter_marks, score))\n",
    "failed"
   ]
  },
  {
   "cell_type": "markdown",
   "id": "36503e5d",
   "metadata": {},
   "source": [
    "# Difference b/w map and filter\n",
    "Map accepts all elements in a given list and a function can be applied to it.<br>\n",
    "Filter accepts all data in a list and runs that through a function to create a new list with all elements that returns True in that function. <br>"
   ]
  },
  {
   "cell_type": "code",
   "execution_count": 13,
   "id": "f49ab669",
   "metadata": {},
   "outputs": [
    {
     "data": {
      "text/plain": [
       "[False, True, False]"
      ]
     },
     "execution_count": 13,
     "metadata": {},
     "output_type": "execute_result"
    }
   ],
   "source": [
    "list (map (lambda var: var%2 == 0, [1,2,3]))"
   ]
  },
  {
   "cell_type": "code",
   "execution_count": 14,
   "id": "e03f018e",
   "metadata": {},
   "outputs": [
    {
     "data": {
      "text/plain": [
       "[2]"
      ]
     },
     "execution_count": 14,
     "metadata": {},
     "output_type": "execute_result"
    }
   ],
   "source": [
    "list(filter (lambda var: var%2 == 0, [1,2,3]))"
   ]
  },
  {
   "cell_type": "code",
   "execution_count": null,
   "id": "58b08fca",
   "metadata": {},
   "outputs": [],
   "source": []
  }
 ],
 "metadata": {
  "kernelspec": {
   "display_name": "Python 3 (ipykernel)",
   "language": "python",
   "name": "python3"
  },
  "language_info": {
   "codemirror_mode": {
    "name": "ipython",
    "version": 3
   },
   "file_extension": ".py",
   "mimetype": "text/x-python",
   "name": "python",
   "nbconvert_exporter": "python",
   "pygments_lexer": "ipython3",
   "version": "3.9.12"
  }
 },
 "nbformat": 4,
 "nbformat_minor": 5
}
