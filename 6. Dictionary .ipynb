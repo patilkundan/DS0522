{
 "cells": [
  {
   "cell_type": "markdown",
   "id": "4c3b11b2",
   "metadata": {},
   "source": [
    "# Dictionary\n",
    "1) Dictionaries are used to store data values in key:value pairs. <br>\n",
    "2) A dictionary is a collection which is<font color='#ff00ff'> ordered*, changeable</font> and <font color='#ff00ff'> do not allow duplicates</font>.<br>\n",
    "3) Dictionaries are written with <font color='#ff00ff'> curly brackets { } </font>, and have keys and values:<br>\n",
    "4) Dictionary items are<font color='#ff00ff'> ordered, changeable,</font> and <font color='#ff00ff'> does not allow duplicates</font>.<br>\n",
    "5) Dictionary items are presented in key:value pairs, and can be referred to by using the key name."
   ]
  },
  {
   "cell_type": "code",
   "execution_count": 3,
   "id": "52db8cbd",
   "metadata": {},
   "outputs": [],
   "source": [
    "# 1)  constructing a dictionary \n",
    "my_dict = { 'key1' : 'value1' , 'key2' : 'vaule2' , 'key3' : 'vaule3'}"
   ]
  },
  {
   "cell_type": "code",
   "execution_count": 4,
   "id": "a9b5c419",
   "metadata": {},
   "outputs": [
    {
     "data": {
      "text/plain": [
       "{'key1': 'value1', 'key2': 'vaule2', 'key3': 'vaule3'}"
      ]
     },
     "execution_count": 4,
     "metadata": {},
     "output_type": "execute_result"
    }
   ],
   "source": [
    "my_dict"
   ]
  },
  {
   "cell_type": "code",
   "execution_count": 5,
   "id": "b87e27bb",
   "metadata": {},
   "outputs": [
    {
     "data": {
      "text/plain": [
       "'vaule2'"
      ]
     },
     "execution_count": 5,
     "metadata": {},
     "output_type": "execute_result"
    }
   ],
   "source": [
    "# call the value by there key\n",
    "my_dict['key2']"
   ]
  },
  {
   "cell_type": "markdown",
   "id": "a5a72a64",
   "metadata": {},
   "source": [
    "# Note \n",
    "that  dictionary has very flixible in the data types they can hold.for example: "
   ]
  },
  {
   "cell_type": "code",
   "execution_count": 6,
   "id": "40035b3f",
   "metadata": {},
   "outputs": [
    {
     "data": {
      "text/plain": [
       "{'Roll_number': 123,\n",
       " 'Marks': [12, 23, 33],\n",
       " 'Subject': ['Computer', 'Science', 'Maths']}"
      ]
     },
     "execution_count": 6,
     "metadata": {},
     "output_type": "execute_result"
    }
   ],
   "source": [
    "my_dict = {'Roll_number' :123, 'Marks': [12, 23, 33], 'Subject': [ 'Computer', 'Science', 'Maths']}\n",
    "my_dict"
   ]
  },
  {
   "cell_type": "code",
   "execution_count": 7,
   "id": "1d52c1bf",
   "metadata": {},
   "outputs": [
    {
     "data": {
      "text/plain": [
       "['Computer', 'Science', 'Maths']"
      ]
     },
     "execution_count": 7,
     "metadata": {},
     "output_type": "execute_result"
    }
   ],
   "source": [
    "1 #Let's call items from the dictionary\n",
    "my_dict['Subject']"
   ]
  },
  {
   "cell_type": "code",
   "execution_count": 8,
   "id": "37f6132b",
   "metadata": {},
   "outputs": [
    {
     "data": {
      "text/plain": [
       "'Science'"
      ]
     },
     "execution_count": 8,
     "metadata": {},
     "output_type": "execute_result"
    }
   ],
   "source": [
    " # Can call an index on that value\n",
    "my_dict['Subject'][1]"
   ]
  },
  {
   "cell_type": "code",
   "execution_count": 9,
   "id": "8fd98e37",
   "metadata": {},
   "outputs": [
    {
     "data": {
      "text/plain": [
       "'COMPUTER'"
      ]
     },
     "execution_count": 9,
     "metadata": {},
     "output_type": "execute_result"
    }
   ],
   "source": [
    "#Can then even call methods on that value\n",
    "my_dict['Subject'][0].upper ()"
   ]
  },
  {
   "cell_type": "code",
   "execution_count": 13,
   "id": "df5b6127",
   "metadata": {},
   "outputs": [],
   "source": [
    "# add marks to the first element\n",
    "my_dict['Marks'][0] =  my_dict['Marks'][0]+ 30"
   ]
  },
  {
   "cell_type": "code",
   "execution_count": null,
   "id": "5cae8278",
   "metadata": {},
   "outputs": [],
   "source": [
    "my_dict['Marks'][0] = 30 # similerly we can add "
   ]
  },
  {
   "cell_type": "code",
   "execution_count": 14,
   "id": "8583c557",
   "metadata": {},
   "outputs": [
    {
     "data": {
      "text/plain": [
       "{'Roll_number': 123,\n",
       " 'Marks': [60, 23, 33],\n",
       " 'Subject': ['Computer', 'Science', 'Maths']}"
      ]
     },
     "execution_count": 14,
     "metadata": {},
     "output_type": "execute_result"
    }
   ],
   "source": [
    "#check\n",
    "my_dict"
   ]
  },
  {
   "cell_type": "markdown",
   "id": "b9c3d1bc",
   "metadata": {},
   "source": [
    "# Note\n",
    "Python has a built-in method of doing a self subtraction or addition (or multiplication or division). We could also use += or = for the above statement. For\n",
    "example:"
   ]
  },
  {
   "cell_type": "code",
   "execution_count": 36,
   "id": "c6bd93d4",
   "metadata": {},
   "outputs": [],
   "source": [
    "# Another way of adding\n",
    "my_dict['Marks'][2] += 20"
   ]
  },
  {
   "cell_type": "code",
   "execution_count": 37,
   "id": "c7013ab7",
   "metadata": {},
   "outputs": [
    {
     "data": {
      "text/plain": [
       "{'Roll_number': 123,\n",
       " 'Marks': [42, 23, 53],\n",
       " 'Subject': ['Computer', 'Science', 'Maths']}"
      ]
     },
     "execution_count": 37,
     "metadata": {},
     "output_type": "execute_result"
    }
   ],
   "source": [
    "my_dict"
   ]
  },
  {
   "cell_type": "code",
   "execution_count": 38,
   "id": "41326a4c",
   "metadata": {},
   "outputs": [],
   "source": [
    "#substracting\n",
    "my_dict['Marks' ][2] = 3"
   ]
  },
  {
   "cell_type": "code",
   "execution_count": 39,
   "id": "da700f52",
   "metadata": {},
   "outputs": [
    {
     "data": {
      "text/plain": [
       "{'Roll_number': 123,\n",
       " 'Marks': [42, 23, 3],\n",
       " 'Subject': ['Computer', 'Science', 'Maths']}"
      ]
     },
     "execution_count": 39,
     "metadata": {},
     "output_type": "execute_result"
    }
   ],
   "source": [
    "my_dict"
   ]
  },
  {
   "cell_type": "code",
   "execution_count": 40,
   "id": "257ce9d9",
   "metadata": {},
   "outputs": [],
   "source": [
    "# Add new key\n",
    "my_dict['Year'] = '3rd'"
   ]
  },
  {
   "cell_type": "code",
   "execution_count": 41,
   "id": "198a2fdc",
   "metadata": {},
   "outputs": [
    {
     "data": {
      "text/plain": [
       "{'Roll_number': 123,\n",
       " 'Marks': [42, 23, 3],\n",
       " 'Subject': ['Computer', 'Science', 'Maths'],\n",
       " 'Year': '3rd'}"
      ]
     },
     "execution_count": 41,
     "metadata": {},
     "output_type": "execute_result"
    }
   ],
   "source": [
    "my_dict"
   ]
  },
  {
   "cell_type": "code",
   "execution_count": 42,
   "id": "aa6c2acc",
   "metadata": {},
   "outputs": [],
   "source": [
    "#Update values\n",
    "my_dict.update({ 'Roll_number': 100})"
   ]
  },
  {
   "cell_type": "code",
   "execution_count": 45,
   "id": "456d3da4",
   "metadata": {},
   "outputs": [
    {
     "data": {
      "text/plain": [
       "dict_items([('Roll_number', 100), ('Marks', [42, 23, 3]), ('Subject', ['Computer', 'Science', 'Maths']), ('Year', '3rd')])"
      ]
     },
     "execution_count": 45,
     "metadata": {},
     "output_type": "execute_result"
    }
   ],
   "source": [
    "# Items will return both keys and corrosponding values\n",
    "my_dict.items()"
   ]
  },
  {
   "cell_type": "code",
   "execution_count": null,
   "id": "dccc82ea",
   "metadata": {},
   "outputs": [],
   "source": []
  }
 ],
 "metadata": {
  "kernelspec": {
   "display_name": "Python 3 (ipykernel)",
   "language": "python",
   "name": "python3"
  },
  "language_info": {
   "codemirror_mode": {
    "name": "ipython",
    "version": 3
   },
   "file_extension": ".py",
   "mimetype": "text/x-python",
   "name": "python",
   "nbconvert_exporter": "python",
   "pygments_lexer": "ipython3",
   "version": "3.9.12"
  }
 },
 "nbformat": 4,
 "nbformat_minor": 5
}
