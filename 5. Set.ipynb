{
 "cells": [
  {
   "cell_type": "markdown",
   "id": "d3bb409a",
   "metadata": {},
   "source": [
    "# Set :- \n",
    "1) Is a function / data type<br>\n",
    "2) Is <font color='#ff00ff'> unordered </font> collection of<font color='#ff00ff'> unique</font> element<br>\n",
    "3) Sets are used to store<font color='#ff00ff'> multiple items</font> in <font color='#ff00ff'> a single variable</font>.<br>\n",
    "4) A set is a collection which is <font color='#ff00ff'> unordered, unchangeable*, and unindexed </font>.<br>\n",
    "5) Note: Sets are unordered, so you cannot be sure in which order the items will appear.<br>\n",
    "6) Set items are unordered, unchangeable, and<font color='#ff00ff'> do not allow duplicate</font> values. {}<br>\n",
    "7) It will eliminate duplicate <br>\n",
    "8) keep the iteam in sorted order\n"
   ]
  },
  {
   "cell_type": "code",
   "execution_count": 10,
   "id": "ecebc615",
   "metadata": {},
   "outputs": [],
   "source": [
    "roll_number = set()"
   ]
  },
  {
   "cell_type": "code",
   "execution_count": 11,
   "id": "26e71d1e",
   "metadata": {},
   "outputs": [
    {
     "data": {
      "text/plain": [
       "set"
      ]
     },
     "execution_count": 11,
     "metadata": {},
     "output_type": "execute_result"
    }
   ],
   "source": [
    "type(roll_number)"
   ]
  },
  {
   "cell_type": "markdown",
   "id": "54bf295b",
   "metadata": {},
   "source": [
    "# Note \n",
    "that the curly brackets { } do not indicate a dictionary  \n",
    "Lets see what  happens when we try  to add something more that is already present in set "
   ]
  },
  {
   "cell_type": "code",
   "execution_count": 14,
   "id": "e426a838",
   "metadata": {},
   "outputs": [
    {
     "data": {
      "text/plain": [
       "{5}"
      ]
     },
     "execution_count": 14,
     "metadata": {},
     "output_type": "execute_result"
    }
   ],
   "source": [
    "# to add element use .add \n",
    "roll_number.add(5)\n",
    "roll_number "
   ]
  },
  {
   "cell_type": "code",
   "execution_count": 15,
   "id": "8ee5cc01",
   "metadata": {},
   "outputs": [
    {
     "data": {
      "text/plain": [
       "{5, 10}"
      ]
     },
     "execution_count": 15,
     "metadata": {},
     "output_type": "execute_result"
    }
   ],
   "source": [
    "# add different element \n",
    "roll_number.add(10)\n",
    "roll_number "
   ]
  },
  {
   "cell_type": "code",
   "execution_count": 16,
   "id": "8641dd0f",
   "metadata": {},
   "outputs": [
    {
     "data": {
      "text/plain": [
       "{5, 10}"
      ]
     },
     "execution_count": 16,
     "metadata": {},
     "output_type": "execute_result"
    }
   ],
   "source": [
    "# Try to add same element \n",
    "roll_number.add (10)\n",
    "roll_number "
   ]
  },
  {
   "cell_type": "code",
   "execution_count": 17,
   "id": "f7054721",
   "metadata": {},
   "outputs": [],
   "source": [
    "# create a list with duplicate / repeats\n",
    "remove_dups =[ 10, 10, 20,30,40,40,50,50,50,60,70,80,90,90,90,90,90]"
   ]
  },
  {
   "cell_type": "code",
   "execution_count": 18,
   "id": "3f7b3f87",
   "metadata": {},
   "outputs": [
    {
     "data": {
      "text/plain": [
       "{10, 20, 30, 40, 50, 60, 70, 80, 90}"
      ]
     },
     "execution_count": 18,
     "metadata": {},
     "output_type": "execute_result"
    }
   ],
   "source": [
    "# cast  as set to  get a unique values\n",
    "dup_removed = set(remove_dups)\n",
    "dup_removed"
   ]
  },
  {
   "cell_type": "code",
   "execution_count": 19,
   "id": "62530ef2",
   "metadata": {},
   "outputs": [
    {
     "data": {
      "text/plain": [
       "[70, 40, 10, 80, 50, 20, 90, 60, 30]"
      ]
     },
     "execution_count": 19,
     "metadata": {},
     "output_type": "execute_result"
    }
   ],
   "source": [
    "# Again you can  convert to list if you want (after removing duplicates )\n",
    "remove_dups = list(dup_removed)\n",
    "remove_dups"
   ]
  },
  {
   "cell_type": "code",
   "execution_count": null,
   "id": "4e6fa4a5",
   "metadata": {},
   "outputs": [],
   "source": []
  }
 ],
 "metadata": {
  "kernelspec": {
   "display_name": "Python 3 (ipykernel)",
   "language": "python",
   "name": "python3"
  },
  "language_info": {
   "codemirror_mode": {
    "name": "ipython",
    "version": 3
   },
   "file_extension": ".py",
   "mimetype": "text/x-python",
   "name": "python",
   "nbconvert_exporter": "python",
   "pygments_lexer": "ipython3",
   "version": "3.9.12"
  }
 },
 "nbformat": 4,
 "nbformat_minor": 5
}
