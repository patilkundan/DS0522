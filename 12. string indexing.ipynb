{
 "cells": [
  {
   "cell_type": "markdown",
   "id": "138b40bd",
   "metadata": {},
   "source": [
    "## String Indexing\n",
    "We know strings are a sequence, which means Python can use indexes to call all the sequence parts. Let's learn how String Indexing works.. We use\n",
    "brackets after an object to call its index. We should also note that indexing starts at 0 for Python. Now, Let's create a new object called s and the walk\n",
    "through a few examples of indexing."
   ]
  },
  {
   "cell_type": "code",
   "execution_count": 1,
   "id": "acc8718d",
   "metadata": {},
   "outputs": [
    {
     "name": "stdout",
     "output_type": "stream",
     "text": [
      "This Batch Rocks\n"
     ]
    }
   ],
   "source": [
    "# Assign s as a string\n",
    "s = 'This Batch Rocks' \n",
    "# Print the object\n",
    "print(s)\n"
   ]
  },
  {
   "cell_type": "markdown",
   "id": "8c081ff8",
   "metadata": {},
   "source": [
    "Let's start indexing!"
   ]
  },
  {
   "cell_type": "code",
   "execution_count": 2,
   "id": "35d8b880",
   "metadata": {},
   "outputs": [
    {
     "data": {
      "text/plain": [
       "'T'"
      ]
     },
     "execution_count": 2,
     "metadata": {},
     "output_type": "execute_result"
    }
   ],
   "source": [
    "# Show first element (in this case a Letter)\n",
    "s[0]"
   ]
  },
  {
   "cell_type": "markdown",
   "id": "641500e3",
   "metadata": {},
   "source": [
    " We can use a: to perform slicing which grabs everything up to a designated point. For example:"
   ]
  },
  {
   "cell_type": "code",
   "execution_count": 3,
   "id": "a830e82c",
   "metadata": {},
   "outputs": [
    {
     "data": {
      "text/plain": [
       "'his Batch Rocks'"
      ]
     },
     "execution_count": 3,
     "metadata": {},
     "output_type": "execute_result"
    }
   ],
   "source": [
    "# Grab everything past the first term all the way to the Length of s which is Len(s)\n",
    "s[1:]"
   ]
  },
  {
   "cell_type": "code",
   "execution_count": 4,
   "id": "07a0b09b",
   "metadata": {},
   "outputs": [
    {
     "data": {
      "text/plain": [
       "'s Bat'"
      ]
     },
     "execution_count": 4,
     "metadata": {},
     "output_type": "execute_result"
    }
   ],
   "source": [
    "s[3:8]"
   ]
  },
  {
   "cell_type": "markdown",
   "id": "cd7a5f03",
   "metadata": {},
   "source": [
    "We can also use negative indexing to go backwards."
   ]
  },
  {
   "cell_type": "code",
   "execution_count": 5,
   "id": "74184470",
   "metadata": {},
   "outputs": [
    {
     "data": {
      "text/plain": [
       "'s'"
      ]
     },
     "execution_count": 5,
     "metadata": {},
     "output_type": "execute_result"
    }
   ],
   "source": [
    "# Last Letter (one index behind 0 so it Loops back around)\n",
    "s[-1]"
   ]
  },
  {
   "cell_type": "code",
   "execution_count": 6,
   "id": "6c646495",
   "metadata": {},
   "outputs": [
    {
     "data": {
      "text/plain": [
       "'This Batch Rock'"
      ]
     },
     "execution_count": 6,
     "metadata": {},
     "output_type": "execute_result"
    }
   ],
   "source": [
    "# Grab everything but the Last Letter\n",
    "s[:-1]"
   ]
  },
  {
   "cell_type": "code",
   "execution_count": 7,
   "id": "72e1816b",
   "metadata": {},
   "outputs": [
    {
     "data": {
      "text/plain": [
       "'This Batch Rock'"
      ]
     },
     "execution_count": 7,
     "metadata": {},
     "output_type": "execute_result"
    }
   ],
   "source": [
    "# Grab everything but the Last Letter\n",
    "s[:-1]"
   ]
  },
  {
   "cell_type": "markdown",
   "id": "ca5a37aa",
   "metadata": {},
   "source": [
    "Index and slice notation is used to grab elements of a sequenec by a specified step size (where in 1 is the default size). For instance we can use two colons in\n",
    "a row and then a number specifying the frequency to grab elements. For example:"
   ]
  },
  {
   "cell_type": "code",
   "execution_count": 8,
   "id": "1a49e158",
   "metadata": {},
   "outputs": [
    {
     "data": {
      "text/plain": [
       "'Ti ac ok'"
      ]
     },
     "execution_count": 8,
     "metadata": {},
     "output_type": "execute_result"
    }
   ],
   "source": [
    "# Grab everything, but go in steps size of 1\n",
    "s[::2]"
   ]
  },
  {
   "cell_type": "code",
   "execution_count": 9,
   "id": "1e9d2291",
   "metadata": {},
   "outputs": [
    {
     "data": {
      "text/plain": [
       "'scRhtBsh'"
      ]
     },
     "execution_count": 9,
     "metadata": {},
     "output_type": "execute_result"
    }
   ],
   "source": [
    "# Grab everything, but go in step sizes of 2 from backword direction because of -ve sign\n",
    "s[:: -2]"
   ]
  },
  {
   "cell_type": "code",
   "execution_count": null,
   "id": "fa811b85",
   "metadata": {},
   "outputs": [],
   "source": []
  }
 ],
 "metadata": {
  "kernelspec": {
   "display_name": "Python 3 (ipykernel)",
   "language": "python",
   "name": "python3"
  },
  "language_info": {
   "codemirror_mode": {
    "name": "ipython",
    "version": 3
   },
   "file_extension": ".py",
   "mimetype": "text/x-python",
   "name": "python",
   "nbconvert_exporter": "python",
   "pygments_lexer": "ipython3",
   "version": "3.9.12"
  }
 },
 "nbformat": 4,
 "nbformat_minor": 5
}
