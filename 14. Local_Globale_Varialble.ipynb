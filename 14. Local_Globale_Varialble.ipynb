{
 "cells": [
  {
   "cell_type": "markdown",
   "id": "02a999a3",
   "metadata": {},
   "source": [
    "# Global and Local variable"
   ]
  },
  {
   "cell_type": "code",
   "execution_count": 1,
   "id": "6f52f077",
   "metadata": {},
   "outputs": [
    {
     "name": "stdout",
     "output_type": "stream",
     "text": [
      "printing inside the function and total is  45\n"
     ]
    }
   ],
   "source": [
    "#global variable - Variable defined outside the function. This variable can be used outside as well as inside the function.\n",
    "extra_marks = 10\n",
    "def tot_score_glob():\n",
    "    print(\"printing inside the function and total is \", 35+ extra_marks)\n",
    "\n",
    "tot_score_glob()"
   ]
  },
  {
   "cell_type": "code",
   "execution_count": 2,
   "id": "f266f7be",
   "metadata": {},
   "outputs": [
    {
     "name": "stdout",
     "output_type": "stream",
     "text": [
      "printing outside the function and total is  45\n"
     ]
    }
   ],
   "source": [
    " print(\"printing outside the function and total is \", 35+ extra_marks)"
   ]
  },
  {
   "cell_type": "code",
   "execution_count": 3,
   "id": "f184f045",
   "metadata": {},
   "outputs": [
    {
     "name": "stdout",
     "output_type": "stream",
     "text": [
      "printing inside the function and total is  100\n"
     ]
    }
   ],
   "source": [
    "# Local variable - Variable defined inside the function. This variable can be used only inside the function.\n",
    "def tot_score_loc():\n",
    "    some_marks = 50\n",
    "    print(\"printing inside the function and total is \", 50+ some_marks)\n",
    "tot_score_loc()"
   ]
  },
  {
   "cell_type": "code",
   "execution_count": 4,
   "id": "037f542f",
   "metadata": {},
   "outputs": [
    {
     "ename": "NameError",
     "evalue": "name 'some_marks' is not defined",
     "output_type": "error",
     "traceback": [
      "\u001b[1;31m---------------------------------------------------------------------------\u001b[0m",
      "\u001b[1;31mNameError\u001b[0m                                 Traceback (most recent call last)",
      "Input \u001b[1;32mIn [4]\u001b[0m, in \u001b[0;36m<cell line: 1>\u001b[1;34m()\u001b[0m\n\u001b[1;32m----> 1\u001b[0m \u001b[38;5;28mprint\u001b[39m(\u001b[38;5;124m\"\u001b[39m\u001b[38;5;124mprinting outside the function and total is \u001b[39m\u001b[38;5;124m\"\u001b[39m, \u001b[38;5;241m50\u001b[39m \u001b[38;5;241m+\u001b[39m \u001b[43msome_marks\u001b[49m)\n",
      "\u001b[1;31mNameError\u001b[0m: name 'some_marks' is not defined"
     ]
    }
   ],
   "source": [
    "print(\"printing outside the function and total is \", 50 + some_marks)"
   ]
  },
  {
   "cell_type": "markdown",
   "id": "deaca432",
   "metadata": {},
   "source": [
    "# How to use local variable outside the function?"
   ]
  },
  {
   "cell_type": "code",
   "execution_count": 6,
   "id": "768b2f47",
   "metadata": {},
   "outputs": [
    {
     "name": "stdout",
     "output_type": "stream",
     "text": [
      "This is fantastic\n"
     ]
    }
   ],
   "source": [
    "def local_global():\n",
    "    global var12\n",
    "    var12= \"This is fantastic\"\n",
    "    print(var12)\n",
    "local_global()"
   ]
  },
  {
   "cell_type": "code",
   "execution_count": 7,
   "id": "753ac5c8",
   "metadata": {},
   "outputs": [
    {
     "name": "stdout",
     "output_type": "stream",
     "text": [
      "This is fantastic\n"
     ]
    }
   ],
   "source": [
    "print(var12)"
   ]
  },
  {
   "cell_type": "markdown",
   "id": "d5f84eff",
   "metadata": {},
   "source": [
    "If you want to use variable anywhere in the program you can use global variable. <br>\n",
    "\n",
    "If you want to restrict the variable usage within the function itself and dont want to use anywhere outside the function then use local variable."
   ]
  },
  {
   "cell_type": "code",
   "execution_count": null,
   "id": "0626ff41",
   "metadata": {},
   "outputs": [],
   "source": []
  }
 ],
 "metadata": {
  "kernelspec": {
   "display_name": "Python 3 (ipykernel)",
   "language": "python",
   "name": "python3"
  },
  "language_info": {
   "codemirror_mode": {
    "name": "ipython",
    "version": 3
   },
   "file_extension": ".py",
   "mimetype": "text/x-python",
   "name": "python",
   "nbconvert_exporter": "python",
   "pygments_lexer": "ipython3",
   "version": "3.9.12"
  }
 },
 "nbformat": 4,
 "nbformat_minor": 5
}
