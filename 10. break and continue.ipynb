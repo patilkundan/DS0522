{
 "cells": [
  {
   "cell_type": "markdown",
   "id": "b5f0ebc2",
   "metadata": {},
   "source": [
    "# break and continue statement\n",
    "In Python, break and continue statements can alter the flow of a normal loop.<br>\n",
    "\n",
    "Loops iterate over a block of code until test expression is false, but sometimes we wish to terminate the current iteration or even the whole loop without cheking test expression.<br>\n",
    "\n",
    "The break and continue statements are used in these cases.<br>\n",
    "\n",
    "# break\n",
    "The break statement terminates the loop containing it. Control of the program flows to the statement immediately after the body of the loop. <br>\n",
    "If break statement is inside a nested loop (loop inside another loop), break will terminate the innermost loop."
   ]
  },
  {
   "cell_type": "code",
   "execution_count": 3,
   "id": "06f3378e",
   "metadata": {},
   "outputs": [
    {
     "name": "stdout",
     "output_type": "stream",
     "text": [
      "Bengaluru\n",
      "Delhi\n",
      "Noida\n"
     ]
    }
   ],
   "source": [
    "# Use of break statement inside Loop\n",
    "city = ['Bengaluru', 'Delhi', 'Noida', 'Hyderabad', 'Mumbai']\n",
    "for val in city:\n",
    "    if val== \"Hyderabad\":\n",
    "        break\n",
    "    print (val)"
   ]
  },
  {
   "cell_type": "code",
   "execution_count": 5,
   "id": "c589046b",
   "metadata": {},
   "outputs": [
    {
     "name": "stdout",
     "output_type": "stream",
     "text": [
      "2000\n",
      "3800\n",
      "4000\n",
      "4500\n"
     ]
    }
   ],
   "source": [
    "# As soon as condition satisfy Loop will break and it will not check next elements\n",
    "salary = [2000, 3800, 4000, 4500, 5000, 7000, 8000]\n",
    "for val in salary:\n",
    "    if val > 4600:\n",
    "        break\n",
    "    print (val)"
   ]
  },
  {
   "cell_type": "markdown",
   "id": "7fa4339f",
   "metadata": {},
   "source": [
    "# continue\n",
    "The continue statement is used to skip the rest of the code inside a loop for the current iteration only. Loop does not terminate but continues on with the next iteration."
   ]
  },
  {
   "cell_type": "code",
   "execution_count": 3,
   "id": "a1146a17",
   "metadata": {},
   "outputs": [
    {
     "name": "stdout",
     "output_type": "stream",
     "text": [
      "Bengaluru\n",
      "Delhi\n",
      "Noida\n",
      "Mumbai\n"
     ]
    }
   ],
   "source": [
    "# Program to show the use of continue statement inside Loops\n",
    "city = ['Bengaluru', 'Delhi', 'Noida', 'Hyderabad', 'Mumbai']\n",
    "for val in city:\n",
    "    if val == 'Hyderabad':\n",
    "        continue\n",
    "    print (val)"
   ]
  },
  {
   "cell_type": "code",
   "execution_count": 4,
   "id": "5d6d9a3f",
   "metadata": {},
   "outputs": [
    {
     "name": "stdout",
     "output_type": "stream",
     "text": [
      "Hyderabad\n"
     ]
    }
   ],
   "source": [
    "# Program to show the use of continue statement inside Loops\n",
    "city = ['Bengaluru', 'Delhi', 'Noida', 'Hyderabad', 'Mumbai']\n",
    "for val in city:\n",
    "    if val != 'Hyderabad':\n",
    "        continue\n",
    "    print (val)"
   ]
  },
  {
   "cell_type": "code",
   "execution_count": null,
   "id": "4b3fe3e8",
   "metadata": {},
   "outputs": [],
   "source": []
  }
 ],
 "metadata": {
  "kernelspec": {
   "display_name": "Python 3 (ipykernel)",
   "language": "python",
   "name": "python3"
  },
  "language_info": {
   "codemirror_mode": {
    "name": "ipython",
    "version": 3
   },
   "file_extension": ".py",
   "mimetype": "text/x-python",
   "name": "python",
   "nbconvert_exporter": "python",
   "pygments_lexer": "ipython3",
   "version": "3.9.12"
  }
 },
 "nbformat": 4,
 "nbformat_minor": 5
}
