{
 "cells": [
  {
   "cell_type": "markdown",
   "id": "154a4d56",
   "metadata": {},
   "source": [
    "# Function  \n",
    "1) function is block  of code which design performe some task <br>\n",
    "2) It is user define funtion <br>\n"
   ]
  },
  {
   "cell_type": "markdown",
   "id": "dc13be6a",
   "metadata": {},
   "source": [
    "### Lets see \n",
    "How to define function in python<br>  \n",
    "The syntax for def statements will be in the following form:"
   ]
  },
  {
   "cell_type": "code",
   "execution_count": 2,
   "id": "ce2cc414",
   "metadata": {},
   "outputs": [],
   "source": [
    "def name_of_function(argi, arg2):\n",
    "    '''\n",
    "    This is where the function's Document String (doc-string) goes\n",
    "    \n",
    "    '''\n",
    "\n",
    "    # Do stuff here\n",
    "    #return desired result"
   ]
  },
  {
   "cell_type": "markdown",
   "id": "56bd7c67",
   "metadata": {},
   "source": [
    "## Example 1: A simple print 'hello' function"
   ]
  },
  {
   "cell_type": "code",
   "execution_count": 4,
   "id": "b55c85a8",
   "metadata": {},
   "outputs": [],
   "source": [
    "def say_hello():         # here i am  not passing any arguments, it is just  simple functin \n",
    "    print('This is just a sample')"
   ]
  },
  {
   "cell_type": "markdown",
   "id": "67fa7f75",
   "metadata": {},
   "source": [
    "### Lets call the function "
   ]
  },
  {
   "cell_type": "code",
   "execution_count": 6,
   "id": "329177b0",
   "metadata": {},
   "outputs": [
    {
     "name": "stdout",
     "output_type": "stream",
     "text": [
      "This is just a sample\n"
     ]
    }
   ],
   "source": [
    "say_hello()"
   ]
  },
  {
   "cell_type": "markdown",
   "id": "b841c6e4",
   "metadata": {},
   "source": [
    "### Example 2: A simple greeting function\n",
    "Let's write a function that greets people with their name."
   ]
  },
  {
   "cell_type": "code",
   "execution_count": 7,
   "id": "68e9501f",
   "metadata": {},
   "outputs": [],
   "source": [
    "def greeting(name):\n",
    "    print('hello',name)\n",
    "   # print('Hello %s' %name)"
   ]
  },
  {
   "cell_type": "code",
   "execution_count": 9,
   "id": "d22a5ec9",
   "metadata": {},
   "outputs": [
    {
     "name": "stdout",
     "output_type": "stream",
     "text": [
      "hello Kundan\n"
     ]
    }
   ],
   "source": [
    "greeting('Kundan')"
   ]
  },
  {
   "cell_type": "markdown",
   "id": "998079c2",
   "metadata": {},
   "source": [
    "# Using return\n",
    "Let's see some examples that use a return statement. Return allows a function to \"return\" a result that can then be stored as a variable, or used in whatever\n",
    "manner a user wants."
   ]
  },
  {
   "cell_type": "markdown",
   "id": "55c9ac17",
   "metadata": {},
   "source": [
    "###  Salary update example "
   ]
  },
  {
   "cell_type": "code",
   "execution_count": 12,
   "id": "fb2987e9",
   "metadata": {},
   "outputs": [],
   "source": [
    "# With Return\n",
    "def salary_incr(salary):\n",
    "    if salary <= 9000:\n",
    "        return (salary + 1000)  # add 1000 if salary  is <=9000\n",
    "    else:\n",
    "        return salary"
   ]
  },
  {
   "cell_type": "code",
   "execution_count": 13,
   "id": "3d08f3aa",
   "metadata": {},
   "outputs": [
    {
     "name": "stdout",
     "output_type": "stream",
     "text": [
      "Your new salary 2500\n"
     ]
    }
   ],
   "source": [
    "print('Your new salary' ,salary_incr(1500) )"
   ]
  },
  {
   "cell_type": "code",
   "execution_count": 4,
   "id": "dbf5daca",
   "metadata": {},
   "outputs": [],
   "source": [
    "# Without Return\n",
    "\n",
    "def salary_incr(salary):\n",
    "    if salary <= 9000:\n",
    "        (salary + 1000) # without print it will  show none in output, so  retrun is used as explained above \n",
    "    else:\n",
    "        salary"
   ]
  },
  {
   "cell_type": "code",
   "execution_count": 5,
   "id": "bcd8c5a4",
   "metadata": {},
   "outputs": [
    {
     "name": "stdout",
     "output_type": "stream",
     "text": [
      "Your new salary None\n"
     ]
    }
   ],
   "source": [
    "print('Your new salary' ,salary_incr(1500) )"
   ]
  },
  {
   "cell_type": "code",
   "execution_count": 9,
   "id": "e7dca3b9",
   "metadata": {},
   "outputs": [],
   "source": [
    "# Without Return\n",
    "\n",
    "def salary_incr(salary):\n",
    "    if salary <= 9000:\n",
    "        print (salary + 1000) # with print it will  show none in output, so  retrun is used as explained above \n",
    "    else:\n",
    "        print(salary)"
   ]
  },
  {
   "cell_type": "code",
   "execution_count": 10,
   "id": "6e092726",
   "metadata": {},
   "outputs": [
    {
     "name": "stdout",
     "output_type": "stream",
     "text": [
      "2500\n",
      "Your new salary None\n"
     ]
    }
   ],
   "source": [
    "print('Your new salary' ,salary_incr(1500) )"
   ]
  },
  {
   "cell_type": "code",
   "execution_count": 24,
   "id": "e8a0e6de",
   "metadata": {},
   "outputs": [],
   "source": [
    "def stud_marks (maths, science, english):\n",
    "    return (maths + science + english )"
   ]
  },
  {
   "cell_type": "code",
   "execution_count": 26,
   "id": "51abd1a4",
   "metadata": {},
   "outputs": [
    {
     "name": "stdout",
     "output_type": "stream",
     "text": [
      "Your Total Marks = 200\n"
     ]
    }
   ],
   "source": [
    "print ('Your Total Marks =', stud_marks (55, 65,80) )"
   ]
  },
  {
   "cell_type": "code",
   "execution_count": 27,
   "id": "f234255a",
   "metadata": {},
   "outputs": [
    {
     "data": {
      "text/plain": [
       "82"
      ]
     },
     "execution_count": 27,
     "metadata": {},
     "output_type": "execute_result"
    }
   ],
   "source": [
    "total_marks = stud_marks (32,30,20)\n",
    "total_marks"
   ]
  },
  {
   "cell_type": "code",
   "execution_count": 32,
   "id": "faaf3201",
   "metadata": {},
   "outputs": [],
   "source": [
    "total_marks = stud_marks (92,90,80)\n",
    "if total_marks < 90:\n",
    "    print (total_marks,'- You are Fail')\n",
    "elif total_marks >= 90 and total_marks <= 150:\n",
    "    print (total_marks, 'You are Pass')\n",
    "elif total_marks >= 151 and total_marks <= 250:\n",
    "    print (total_marks, 'You are First Class')"
   ]
  },
  {
   "cell_type": "markdown",
   "id": "d4fbc362",
   "metadata": {},
   "source": [
    "#### Similarly you can pass every students marks and find the total and display result"
   ]
  },
  {
   "cell_type": "markdown",
   "id": "d84c5da7",
   "metadata": {},
   "source": [
    "### Let's see how it works in real time\n",
    "Some one wants to buy used mobile online and vendor needs to display the price of mobile based on make, months old and gb (if applicable)"
   ]
  },
  {
   "cell_type": "markdown",
   "id": "b95d1eeb",
   "metadata": {},
   "source": [
    "<u> https://orangebookvalue.com/used-mobiles </u> "
   ]
  },
  {
   "cell_type": "code",
   "execution_count": 5,
   "id": "b9e0c110",
   "metadata": {},
   "outputs": [],
   "source": [
    "def phone_price (phone_make, phone_age, phone_model_GB):\n",
    "    if phone_make == 'iphone 11':\n",
    "        if 0 < phone_age <= 6:       # If 0 is Less than phone_age AND phone_age is Less than or equal to 6\n",
    "            if phone_model_GB ==64:\n",
    "                print('Rs 39,283 - Rs 41,713')\n",
    "        elif phone_model_GB == 128:\n",
    "            print('Rs 50,283 - Rs 55,713')\n",
    "        \n",
    "        if 6 < phone_age <= 12:        # If 6 is less than phone_age AND phone_age is less than or equal to 6\n",
    "            if phone_model_GB == 64:\n",
    "                print('Rs 29,283 - Rs 31,713')\n",
    "        elif phone_model_GB == 128:\n",
    "            print('Rs 350043 - Rs 440083')\n",
    "    elif phone_make == 'Samsung B110':\n",
    "        if 0 < phone_age <= 6:       # If 0 is Less than phone_age AND phone_age is Less than or equal to 6\n",
    "            print('Rs 39,283 - Rs 41,713')\n",
    "    elif phone_age > 6:    \n",
    "        print('711 -  755')\n",
    "    else:\n",
    "        print ('No Stock right now, please visit after few days')"
   ]
  },
  {
   "cell_type": "code",
   "execution_count": 6,
   "id": "044a51de",
   "metadata": {},
   "outputs": [
    {
     "name": "stdout",
     "output_type": "stream",
     "text": [
      "Rs 39,283 - Rs 41,713\n"
     ]
    }
   ],
   "source": [
    "phone_price('Samsung B110', 4, 0)"
   ]
  },
  {
   "cell_type": "markdown",
   "id": "93bd5119",
   "metadata": {},
   "source": [
    "Similarly you can browse any similar sites and write program and practice."
   ]
  },
  {
   "cell_type": "markdown",
   "id": "f77a90ba",
   "metadata": {},
   "source": [
    "# Lambda function"
   ]
  },
  {
   "cell_type": "code",
   "execution_count": 7,
   "id": "1b6e1554",
   "metadata": {},
   "outputs": [
    {
     "data": {
      "text/plain": [
       "<function __main__.<lambda>(arguments)>"
      ]
     },
     "execution_count": 7,
     "metadata": {},
     "output_type": "execute_result"
    }
   ],
   "source": [
    "lambda arguments: expression"
   ]
  },
  {
   "cell_type": "code",
   "execution_count": 8,
   "id": "4fc5c26e",
   "metadata": {},
   "outputs": [
    {
     "name": "stdout",
     "output_type": "stream",
     "text": [
      "80\n"
     ]
    }
   ],
   "source": [
    "add_num= lambda y : y + 30\n",
    "print (add_num(50))"
   ]
  },
  {
   "cell_type": "code",
   "execution_count": 9,
   "id": "0a5c2563",
   "metadata": {},
   "outputs": [
    {
     "name": "stdout",
     "output_type": "stream",
     "text": [
      "300\n"
     ]
    }
   ],
   "source": [
    "## multiple arguments\n",
    "multi_num = lambda a, b : a* b\n",
    "print(multi_num(15,20))\n"
   ]
  },
  {
   "cell_type": "markdown",
   "id": "39eb615b",
   "metadata": {},
   "source": [
    "Similarly you can have more arguments and work on it."
   ]
  },
  {
   "cell_type": "markdown",
   "id": "cc3dfb53",
   "metadata": {},
   "source": [
    "# args and *kwargs\n",
    "*arg takes multiple inputs."
   ]
  },
  {
   "cell_type": "code",
   "execution_count": 11,
   "id": "4d859090",
   "metadata": {},
   "outputs": [],
   "source": [
    "def my_fun (*args):\n",
    "    for i in args:\n",
    "        print ('my args: - ', i)"
   ]
  },
  {
   "cell_type": "code",
   "execution_count": 13,
   "id": "b8a8b830",
   "metadata": {},
   "outputs": [
    {
     "name": "stdout",
     "output_type": "stream",
     "text": [
      "my args: -  India\n",
      "my args: -  56\n",
      "my args: -  Bengaluru\n",
      "my args: -  30.4\n",
      "my args: -  234\n"
     ]
    }
   ],
   "source": [
    "my_fun ('India', 56, 'Bengaluru', 30.40,234)"
   ]
  },
  {
   "cell_type": "markdown",
   "id": "96cfec64",
   "metadata": {},
   "source": [
    "\n",
    "**kwarg take key and value, just like dictionary data"
   ]
  },
  {
   "cell_type": "code",
   "execution_count": 11,
   "id": "6e9fa9d4",
   "metadata": {},
   "outputs": [],
   "source": [
    "def my_kwargs (**kwargs):\n",
    "    for key, value in kwargs.items ():\n",
    "        print (key, value)"
   ]
  },
  {
   "cell_type": "code",
   "execution_count": 12,
   "id": "e2a17860",
   "metadata": {},
   "outputs": [
    {
     "name": "stdout",
     "output_type": "stream",
     "text": [
      "student ['ram', 'raman']\n",
      "marks [70, 75]\n"
     ]
    }
   ],
   "source": [
    "my_kwargs(student=['ram' , 'raman' ],marks=[70,75])"
   ]
  },
  {
   "cell_type": "code",
   "execution_count": null,
   "id": "7dd65af8",
   "metadata": {},
   "outputs": [],
   "source": []
  }
 ],
 "metadata": {
  "kernelspec": {
   "display_name": "Python 3 (ipykernel)",
   "language": "python",
   "name": "python3"
  },
  "language_info": {
   "codemirror_mode": {
    "name": "ipython",
    "version": 3
   },
   "file_extension": ".py",
   "mimetype": "text/x-python",
   "name": "python",
   "nbconvert_exporter": "python",
   "pygments_lexer": "ipython3",
   "version": "3.9.12"
  }
 },
 "nbformat": 4,
 "nbformat_minor": 5
}
