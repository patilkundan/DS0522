{
 "cells": [
  {
   "cell_type": "markdown",
   "id": "e57307a0",
   "metadata": {},
   "source": [
    "# Loops\n",
    "<img src=\"loops.png\"  width=\"350\" height=\"350\"> <br>\n",
    "## why to use loops ?\n",
    "<img src=\"whyloops.png\"  width=\"750\" height=\"350\"> <br>\n",
    "<img src=\"loopsex.png\"  width=\"650\" height=\"250\"> <br>\n",
    "\n",
    "## For loop :\n",
    " 1. A for loop is used for iterating (बार-बार दोहराना) over a sequence (that is either a list, a tuple, a dictionary, a set, or a string).<br>\n",
    " 2. Loop continues until we reach the last item in the sequence. The body of for loop is separated from the rest of the code using indentation. <br>\n",
    "\n"
   ]
  },
  {
   "cell_type": "code",
   "execution_count": 1,
   "id": "00afc35f",
   "metadata": {},
   "outputs": [
    {
     "name": "stdout",
     "output_type": "stream",
     "text": [
      "['Bengaluru', 'Noida', 'Chennai', 'Hyderabad', 'Delhi']\n"
     ]
    }
   ],
   "source": [
    "location = ['Bengaluru', 'Noida', 'Chennai', 'Hyderabad', 'Delhi']\n",
    "print (location)"
   ]
  },
  {
   "cell_type": "code",
   "execution_count": 3,
   "id": "e6453a7b",
   "metadata": {},
   "outputs": [
    {
     "name": "stdout",
     "output_type": "stream",
     "text": [
      "Bengaluru\n",
      "Noida\n",
      "Chennai\n",
      "Hyderabad\n",
      "Delhi\n"
     ]
    }
   ],
   "source": [
    "# List of string\n",
    "location = ['Bengaluru', 'Noida', 'Chennai', 'Hyderabad', 'Delhi']\n",
    "for i in location:\n",
    "    print (i)"
   ]
  },
  {
   "cell_type": "code",
   "execution_count": 4,
   "id": "36707a86",
   "metadata": {},
   "outputs": [
    {
     "name": "stdout",
     "output_type": "stream",
     "text": [
      "7000\n",
      "8000\n"
     ]
    }
   ],
   "source": [
    "salary = [2000, 4000, 5000, 7000, 8000, 4500, 3800]\n",
    "for val in salary:\n",
    "    if val> 5500:\n",
    "        print(val)\n"
   ]
  },
  {
   "cell_type": "code",
   "execution_count": 7,
   "id": "3a0b7b21",
   "metadata": {},
   "outputs": [
    {
     "name": "stdout",
     "output_type": "stream",
     "text": [
      "35 - Pass\n",
      "67 - First Class\n",
      "78 - Distinction\n",
      "79 - Distinction\n",
      "67 - First Class\n",
      "54 - Second Class\n",
      "89 - Distinction\n",
      "89 - Fail - Better luck next time\n"
     ]
    }
   ],
   "source": [
    "student_scores = [35,67,78,79,12,34,67,54,89]\n",
    "for marks in student_scores:\n",
    "    if marks > 60:\n",
    "        if marks > 70:\n",
    "            print (marks,'- Distinction')\n",
    "        else:\n",
    "            print (marks,'- First Class')\n",
    "    elif marks > 50 and marks <= 60:\n",
    "        print (marks,'- Second Class')\n",
    "\n",
    "    elif marks >= 35:\n",
    "        print (marks,'- Pass')\n",
    "else:\n",
    "    print (marks,'- Fail - Better luck next time')"
   ]
  },
  {
   "cell_type": "markdown",
   "id": "a7b77971",
   "metadata": {},
   "source": [
    "# List Comprehension\n",
    "List comprehension is a <font color='#ff00ff'> shorter syntax </font> when you want to create a new list based on the values of an existing list."
   ]
  },
  {
   "cell_type": "code",
   "execution_count": 8,
   "id": "ada511a8",
   "metadata": {},
   "outputs": [
    {
     "data": {
      "text/plain": [
       "[7000, 8000]"
      ]
     },
     "execution_count": 8,
     "metadata": {},
     "output_type": "execute_result"
    }
   ],
   "source": [
    "salary = [2000, 4000, 5000, 7000, 8000, 4500, 3800]\n",
    "sal = [val for val in salary if val > 5500]\n",
    "sal"
   ]
  },
  {
   "cell_type": "markdown",
   "id": "b1d243f9",
   "metadata": {},
   "source": [
    "# for loop with else\n",
    "A for loop can have an optional else block as well. The else part is executed if the items in the sequence used in for loop exhausts.<br>\n",
    "break statement can be used to stop a for loop. In such case, the else part is ignored.<br>\n",
    "Hence, a for loop's else part runs if no break occurs.<br>\n",
    "Here is an example to illustrate this.<br>"
   ]
  },
  {
   "cell_type": "code",
   "execution_count": 10,
   "id": "49d2c57d",
   "metadata": {},
   "outputs": [
    {
     "name": "stdout",
     "output_type": "stream",
     "text": [
      "Multiplication table for - 2\n",
      "2\n",
      "4\n",
      "6\n",
      "8\n",
      "10\n",
      "12\n",
      "14\n",
      "16\n",
      "18\n",
      "20\n",
      "\n",
      "\n",
      "Multiplication table for - 3\n",
      "3\n",
      "6\n",
      "9\n",
      "12\n",
      "15\n",
      "18\n",
      "21\n",
      "24\n",
      "27\n",
      "30\n",
      "\n",
      "\n",
      "Multiplication table for - 4\n",
      "4\n",
      "8\n",
      "12\n",
      "16\n",
      "20\n",
      "24\n",
      "28\n",
      "32\n",
      "36\n",
      "40\n",
      "\n",
      "\n",
      "******************************\n",
      "End of multiplication table\n",
      "******************************\n"
     ]
    }
   ],
   "source": [
    "for num in range (2,5):\n",
    "    print ('Multiplication table for -', num)\n",
    "    for i in range (1,11):\n",
    "        print (num* i)\n",
    "        if i == 10:\n",
    "            print ('\\n') # next line,break line or gap or space between two line\n",
    "else:\n",
    "    print ('*' * 30)\n",
    "    print ('End of multiplication table') # Else is optional\n",
    "    print ('*' * 30)"
   ]
  },
  {
   "cell_type": "markdown",
   "id": "5b2aeb4a",
   "metadata": {},
   "source": [
    "# While loop\n",
    "<img src=\"whileloop.png\"  width=\"750\" height=\"350\"> <br>\n",
    "<img src=\"whileloops.png\"  width=\"350\" height=\"350\"> <br>\n",
    "1) The while loop in Python is used to iterate over a block of code as long as the test expression (condition) is true.<br>\n",
    "2) We generally use this loop when we don't know beforehand, the number of times to iterate.<br>\n",
    "3) In while loop, test expression is checked first. The body of the loop is entered only if the test_expression evaluates to True. After one iteration, the test<br>\n",
    "4) expression is checked again. This process continues until the test_expression evaluates to False.<br>\n",
    "5) In Python, the body of the while loop is determined through indentation.<br>\n",
    "6) Body starts with indentation and the first unindented line marks the end.<br>\n",
    "7) Python interprets any non-zero value as True. None and 0 are interpreted as False.<br>\n",
    "\n",
    "## Let's do this experiment\n",
    " * If I ask you to keep saying your name, you keep repeating your name. But how many times?<br>\n",
    " * In order to control this repeatation, while loop will comes in place.<br> \n",
    " * Now I will ask you to repeat your name 5 times, then every time you say your name,<br>\n",
    " * you keep a count of how many times you repeated. As soon as you finish 5 times you stop counting.<br>\n",
    " * So this can be accomplished using while loop. Let's do this in practical."
   ]
  },
  {
   "cell_type": "code",
   "execution_count": 11,
   "id": "edb5802f",
   "metadata": {},
   "outputs": [
    {
     "name": "stdout",
     "output_type": "stream",
     "text": [
      "Data Trained\n",
      "Data Trained\n",
      "Data Trained\n",
      "Data Trained\n",
      "Data Trained\n",
      "Data Trained\n",
      "Data Trained\n",
      "Data Trained\n",
      "Data Trained\n",
      "Data Trained\n"
     ]
    }
   ],
   "source": [
    "# If I want to print 10 times my name, I have to write 10 times print statement\n",
    "print ('Data Trained')\n",
    "print ('Data Trained')\n",
    "print ('Data Trained')\n",
    "print ('Data Trained')\n",
    "print ('Data Trained')\n",
    "print ('Data Trained')\n",
    "print ('Data Trained')\n",
    "print ('Data Trained')\n",
    "print ('Data Trained')\n",
    "print ('Data Trained')"
   ]
  },
  {
   "cell_type": "markdown",
   "id": "0749c122",
   "metadata": {},
   "source": [
    "Isn't it tedious and time consuming task? What if I ask you to print 1000 times. It's very painful right?"
   ]
  },
  {
   "cell_type": "code",
   "execution_count": 13,
   "id": "1947dfa0",
   "metadata": {},
   "outputs": [
    {
     "name": "stdout",
     "output_type": "stream",
     "text": [
      "1 Data Trained\n",
      "2 Data Trained\n",
      "3 Data Trained\n",
      "4 Data Trained\n",
      "5 Data Trained\n",
      "6 Data Trained\n",
      "7 Data Trained\n",
      "8 Data Trained\n",
      "9 Data Trained\n",
      "10 Data Trained\n"
     ]
    }
   ],
   "source": [
    "# Let's do this using while Loop\n",
    "i = 0\n",
    "while i < 10:\n",
    "    i=i+1\n",
    "    print (i, 'Data Trained')"
   ]
  },
  {
   "cell_type": "markdown",
   "id": "3a2de51b",
   "metadata": {},
   "source": [
    "### One more example\n",
    "Let's say you have set an alarm and how this works?"
   ]
  },
  {
   "cell_type": "code",
   "execution_count": 17,
   "id": "3ac00ecd",
   "metadata": {},
   "outputs": [
    {
     "name": "stdout",
     "output_type": "stream",
     "text": [
      "time.struct_time(tm_year=2022, tm_mon=6, tm_mday=19, tm_hour=16, tm_min=1, tm_sec=33, tm_wday=6, tm_yday=170, tm_isdst=0)\n"
     ]
    }
   ],
   "source": [
    "import time\n",
    "result = time.localtime() # . dot is used to connect , note don't use comma ; it is used for separated \n",
    "print(result)"
   ]
  },
  {
   "cell_type": "code",
   "execution_count": 21,
   "id": "50622bbe",
   "metadata": {},
   "outputs": [
    {
     "name": "stdout",
     "output_type": "stream",
     "text": [
      "Wake Up buddy\n"
     ]
    }
   ],
   "source": [
    "while True:\n",
    "    result= time.localtime()\n",
    "    if result.tm_hour == 16 and result.tm_min == 8:\n",
    "        print('Wake Up buddy') # instead of print your mobile will play sound\n",
    "        break"
   ]
  },
  {
   "cell_type": "markdown",
   "id": "dc32df17",
   "metadata": {},
   "source": [
    "# Difference b/w For and while loop\n",
    "*  for loop = If you know how many times you want to execute the code then use for loop.\n",
    "*  While loop = If you dont know how many times you want to execute then use the while with condition. It means you will execute the code if the condition is true only."
   ]
  },
  {
   "cell_type": "markdown",
   "id": "bfccbb7a",
   "metadata": {},
   "source": [
    "# enumerate\n",
    "enumerate() allows us to iterate through a sequence but it keeps track of <font color='#ff00ff'> both the index and the element. </font>"
   ]
  },
  {
   "cell_type": "code",
   "execution_count": 22,
   "id": "e5b27537",
   "metadata": {},
   "outputs": [],
   "source": [
    "students = ['Naveen', 'Rathna', 'Vivaan', 'Shridhar', 'Chintu', 'Chinnu']"
   ]
  },
  {
   "cell_type": "code",
   "execution_count": 23,
   "id": "afce8898",
   "metadata": {},
   "outputs": [
    {
     "name": "stdout",
     "output_type": "stream",
     "text": [
      "(0, 'Naveen')\n",
      "(1, 'Rathna')\n",
      "(2, 'Vivaan')\n",
      "(3, 'Shridhar')\n",
      "(4, 'Chintu')\n",
      "(5, 'Chinnu')\n"
     ]
    }
   ],
   "source": [
    "for name in enumerate (students):\n",
    "    print (name)"
   ]
  },
  {
   "cell_type": "code",
   "execution_count": 24,
   "id": "32ab5039",
   "metadata": {},
   "outputs": [
    {
     "name": "stdout",
     "output_type": "stream",
     "text": [
      "1 Naveen\n",
      "2 Rathna\n",
      "3 Vivaan\n",
      "4 Shridhar\n",
      "5 Chintu\n",
      "6 Chinnu\n"
     ]
    }
   ],
   "source": [
    "# You can start index from any number\n",
    "for i, name in enumerate (students, 1):\n",
    "    print (i, name)"
   ]
  },
  {
   "cell_type": "markdown",
   "id": "120a9fae",
   "metadata": {},
   "source": [
    "# Zip\n"
   ]
  },
  {
   "cell_type": "code",
   "execution_count": 25,
   "id": "927e9af5",
   "metadata": {},
   "outputs": [],
   "source": [
    "students_name = ['Naveen', 'Rathna', 'Vivaan', 'Shridhar', 'Chintu', 'Chinnu']\n",
    "students_marks = [53,74,62,81,55,86]"
   ]
  },
  {
   "cell_type": "code",
   "execution_count": 26,
   "id": "537e799f",
   "metadata": {},
   "outputs": [],
   "source": [
    "student_details = list (zip(students_name, students_marks))"
   ]
  },
  {
   "cell_type": "code",
   "execution_count": 27,
   "id": "a636b51e",
   "metadata": {},
   "outputs": [
    {
     "data": {
      "text/plain": [
       "[('Naveen', 53),\n",
       " ('Rathna', 74),\n",
       " ('Vivaan', 62),\n",
       " ('Shridhar', 81),\n",
       " ('Chintu', 55),\n",
       " ('Chinnu', 86)]"
      ]
     },
     "execution_count": 27,
     "metadata": {},
     "output_type": "execute_result"
    }
   ],
   "source": [
    "student_details"
   ]
  },
  {
   "cell_type": "markdown",
   "id": "ac1539f0",
   "metadata": {},
   "source": [
    "# Unzip\n"
   ]
  },
  {
   "cell_type": "code",
   "execution_count": 28,
   "id": "a862098f",
   "metadata": {},
   "outputs": [],
   "source": [
    "name, marks_num = zip (*student_details)\n"
   ]
  },
  {
   "cell_type": "code",
   "execution_count": 29,
   "id": "3069e0cf",
   "metadata": {},
   "outputs": [
    {
     "data": {
      "text/plain": [
       "('Naveen', 'Rathna', 'Vivaan', 'Shridhar', 'Chintu', 'Chinnu')"
      ]
     },
     "execution_count": 29,
     "metadata": {},
     "output_type": "execute_result"
    }
   ],
   "source": [
    "name\n"
   ]
  },
  {
   "cell_type": "code",
   "execution_count": 30,
   "id": "fa948fc9",
   "metadata": {},
   "outputs": [
    {
     "data": {
      "text/plain": [
       "(53, 74, 62, 81, 55, 86)"
      ]
     },
     "execution_count": 30,
     "metadata": {},
     "output_type": "execute_result"
    }
   ],
   "source": [
    "marks_num"
   ]
  },
  {
   "cell_type": "markdown",
   "id": "9619bdb8",
   "metadata": {},
   "source": [
    "# Enumerate and zip"
   ]
  },
  {
   "cell_type": "code",
   "execution_count": 3,
   "id": "4b97db4f",
   "metadata": {},
   "outputs": [],
   "source": [
    "students_name = ['Naveen', 'Rathna', 'Vivaan', 'Shridhar', 'Chintu', 'Chinnu']\n",
    "students_marks = [53,74,62,81,55,86]"
   ]
  },
  {
   "cell_type": "code",
   "execution_count": 6,
   "id": "bf9c1e39",
   "metadata": {},
   "outputs": [
    {
     "name": "stdout",
     "output_type": "stream",
     "text": [
      "1 Naveen 53\n",
      "2 Rathna 74\n",
      "3 Vivaan 62\n",
      "4 Shridhar 81\n",
      "5 Chintu 55\n",
      "6 Chinnu 86\n"
     ]
    }
   ],
   "source": [
    "for i, (name, marks) in enumerate (zip (students_name, students_marks), 1):\n",
    "    print (i, name, marks)"
   ]
  },
  {
   "cell_type": "code",
   "execution_count": null,
   "id": "498cd3fb",
   "metadata": {},
   "outputs": [],
   "source": []
  }
 ],
 "metadata": {
  "kernelspec": {
   "display_name": "Python 3 (ipykernel)",
   "language": "python",
   "name": "python3"
  },
  "language_info": {
   "codemirror_mode": {
    "name": "ipython",
    "version": 3
   },
   "file_extension": ".py",
   "mimetype": "text/x-python",
   "name": "python",
   "nbconvert_exporter": "python",
   "pygments_lexer": "ipython3",
   "version": "3.9.12"
  }
 },
 "nbformat": 4,
 "nbformat_minor": 5
}
